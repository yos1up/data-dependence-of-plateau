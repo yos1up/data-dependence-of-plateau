{
 "cells": [
  {
   "cell_type": "code",
   "execution_count": 1,
   "metadata": {
    "collapsed": true
   },
   "outputs": [],
   "source": [
    "import numpy as np\n",
    "import matplotlib.pyplot as plt\n",
    "from tqdm import tqdm_notebook as tqdm\n",
    "import os, sys, copy\n",
    "import re, glob"
   ]
  },
  {
   "cell_type": "code",
   "execution_count": 2,
   "metadata": {
    "collapsed": false,
    "scrolled": true
   },
   "outputs": [],
   "source": [
    "%load_ext autoreload"
   ]
  },
  {
   "cell_type": "code",
   "execution_count": 308,
   "metadata": {
    "collapsed": true
   },
   "outputs": [],
   "source": [
    "%autoreload"
   ]
  },
  {
   "cell_type": "code",
   "execution_count": 4,
   "metadata": {
    "collapsed": false,
    "scrolled": false
   },
   "outputs": [],
   "source": [
    "from chainer import Chain, ChainList, cuda, gradient_check, Function, Link, optimizers, serializers, utils, Variable, datasets, using_config\n",
    "from chainer import functions as F\n",
    "from chainer import links as L\n",
    "\n",
    "import scipy.special as spsp\n",
    "class Func_erf2(Function): # (erf(x/sqrt(2)))   \n",
    "    def forward_cpu(self, x):\n",
    "        sq2 = x[0].dtype.type(np.sqrt(2.0))\n",
    "        self.y = utils.force_array(spsp.erf(x[0]/sq2))\n",
    "        return self.y,\n",
    "    def backward_cpu(self, x, gy):\n",
    "        sq2pi = x[0].dtype.type(np.sqrt(2.0/np.pi))\n",
    "        two = x[0].dtype.type(2.0)\n",
    "        return utils.force_array(gy[0]*sq2pi*np.exp(-x[0]*x[0]/two)),\n",
    "def func_erf2(x):\n",
    "    return Func_erf2()(x)\n",
    "\n",
    "def is_integer_type(typ):\n",
    "    try:\n",
    "        xp = cuda.cupy\n",
    "        return typ in [int, np.int, np.int8, np.int16, np.int32, np.int64,\n",
    "                np.uint, np.uint8, np.uint16, np.uint32, np.uint64,\n",
    "                xp.int8, xp.int16, xp.int32, xp.int64,\n",
    "                xp.uint8, xp.uint16, xp.uint32, xp.uint64,]\n",
    "    except AttributeError:\n",
    "        return typ in [int, np.int, np.int8, np.int16, np.int32, np.int64,\n",
    "                np.uint, np.uint8, np.uint16, np.uint32, np.uint64]\n",
    "\n",
    "\n",
    "\n",
    "class MLP(ChainList):\n",
    "    def __init__(self, ls, nobias, act, opt):\n",
    "        self.ls = ls\n",
    "        self.l = []\n",
    "        for i in range(len(ls)-1):\n",
    "            self.l.append(L.Linear(ls[i], ls[i+1], nobias=nobias))\n",
    "        super(MLP, self).__init__(*self.l)\n",
    "        self.act = act\n",
    "        self.opt = opt\n",
    "        if self.opt is not None: self.opt.setup(self)\n",
    "        self.lossfrac = np.zeros(2)\n",
    "        self.accfrac = np.zeros(2)\n",
    "    def __call__(self, x, mode='train'): # Variable受け取ってVariable返す\n",
    "        with using_config('train', mode=='train'):\n",
    "            for i in range(len(self.l)):\n",
    "                x = self.l[i](x)\n",
    "                if (i+1<len(self.l)): x = self.act(x)\n",
    "        return x\n",
    "    def update(self, x, t, mode='train'):  # Variable受け取ってVariable返す\n",
    "        bs = x.shape[0]\n",
    "        y = self(x, mode=mode)\n",
    "        if is_integer_type(t.data.dtype):\n",
    "            if 1: # 分類 (softmax_cross_entropy)\n",
    "                loss = F.softmax_cross_entropy(y, t)\n",
    "                acc = np.count_nonzero(np.argmax(y.data,axis=1)==t.data)\n",
    "            elif 0: # 二値分類 (sigmoid_cross_entropy)\n",
    "                loss = F.sigmoid_cross_entropy(y, t) # y and t has same dimension\n",
    "                acc = np.count_nonzero((y.data>0).astype(np.int32)==t.data)\n",
    "            else:\n",
    "                raise ValueError\n",
    "        else:\n",
    "            # 回帰 (squared)\n",
    "            loss = 0.5 * F.sum((y - t)**2) / bs\n",
    "            acc = 0\n",
    "\n",
    "        # loss は bs で割られたスカラーになっている．はず\n",
    "        if mode=='train':\n",
    "            self.cleargrads()\n",
    "            loss.grad = np.ones(loss.shape, dtype=np.float32)\n",
    "            loss.backward()\n",
    "            self.opt.update()\n",
    "        elif mode=='test':\n",
    "            pass\n",
    "        else:\n",
    "            raise ValueError\n",
    "        self.lossfrac += np.array([np.sum(loss.data) * bs, bs])\n",
    "        self.accfrac += np.array([acc, bs])\n",
    "        return loss\n",
    "    def aveloss(self, clear=False):\n",
    "        ret = self.lossfrac[0]/self.lossfrac[1]\n",
    "        if clear: self.lossfrac = np.zeros(2)\n",
    "        return ret\n",
    "    def aveacc(self, clear=False):\n",
    "        ret = (0.+self.accfrac[0])/self.accfrac[1]\n",
    "        if clear: self.accfrac = np.zeros(2)\n",
    "        return ret\n",
    "    def W(self, idx):\n",
    "        return self.l[idx].W.data"
   ]
  },
  {
   "cell_type": "code",
   "execution_count": 5,
   "metadata": {
    "collapsed": true
   },
   "outputs": [],
   "source": [
    "def retain_random_state(func):\n",
    "    def wrapper(*args, **kwargs):\n",
    "        random_state = np.random.get_state()\n",
    "        func(*args, **kwargs)\n",
    "        np.random.set_state(random_state)\n",
    "    return wrapper"
   ]
  },
  {
   "cell_type": "code",
   "execution_count": 6,
   "metadata": {
    "collapsed": true
   },
   "outputs": [],
   "source": [
    "def average(ary, bin_width):\n",
    "    return np.array([np.mean(ary[i:i+bin_width]) for i in range(0,len(ary),bin_width)])"
   ]
  },
  {
   "cell_type": "code",
   "execution_count": 7,
   "metadata": {
    "collapsed": true
   },
   "outputs": [],
   "source": [
    "def overlap(v1, v2):\n",
    "    return np.dot(v1, v2)/np.linalg.norm(v1)/np.linalg.norm(v2)"
   ]
  },
  {
   "cell_type": "code",
   "execution_count": 8,
   "metadata": {
    "collapsed": false
   },
   "outputs": [],
   "source": [
    "def get_mnist_lambdas():\n",
    "    train, test = datasets.get_mnist()\n",
    "    ary = np.array([data[0] for data in train]).astype(np.float64) # (60000, 784)\n",
    "    return np.sort(np.linalg.svd(ary, compute_uv=False) ** 2) / ary.shape[0]\n",
    "mnist_lambdas = get_mnist_lambdas()"
   ]
  },
  {
   "cell_type": "code",
   "execution_count": 9,
   "metadata": {
    "collapsed": false
   },
   "outputs": [],
   "source": [
    "def name2idx(s):\n",
    "    if s[:6]=='setosa': return 0\n",
    "    elif s[:10]=='versicolor': return 1\n",
    "    else: return 2\n",
    "def get_iris_data():\n",
    "    with open('iris.csv', 'r') as f:\n",
    "        lines = f.readlines()\n",
    "    data = []\n",
    "    for line in lines[1:]:\n",
    "        datum = line.split(',')\n",
    "        data.append((np.array(list(map(float, datum[:4]))), name2idx(datum[4])))\n",
    "    return data\n",
    "def get_iris_lambdas():\n",
    "    train = get_iris_data()\n",
    "    ary = np.array([data[0] for data in train]).astype(np.float64) # (150, 4)\n",
    "    return np.sort(np.linalg.svd(ary, compute_uv=False) ** 2) / ary.shape[0]\n",
    "iris_lambdas = get_iris_lambdas()"
   ]
  },
  {
   "cell_type": "code",
   "execution_count": 10,
   "metadata": {
    "collapsed": true
   },
   "outputs": [],
   "source": [
    "def show_lambda_statistics(lambdas):\n",
    "    print('lambdas:', lambdas[:5], '...', lambdas[-5:])\n",
    "    print('<lambda>', np.mean(lambdas))\n",
    "    print('<lambda**2>', np.mean(lambdas**2))\n",
    "    print('<lambda**4>', np.mean(lambdas**4))\n",
    "    print('<lambda**2>/<lambda>', np.mean(lambdas**2)/np.mean(lambdas))\n",
    "    print('sqrt(<lambda**4>/<lambda**2>)', np.sqrt(np.mean(lambdas**4)/np.mean(lambdas**2)))\n",
    "    print('overlap of lambdas and lambdas**2:  ', overlap(lambdas, lambdas**2))\n"
   ]
  },
  {
   "cell_type": "code",
   "execution_count": 11,
   "metadata": {
    "collapsed": true
   },
   "outputs": [],
   "source": [
    "def logspace_with_moment(n, m1, m2):\n",
    "    # [a, ar, ..., ar^(n-1)] の1,2次モーメントがm1,m2となるようなものを返す\n",
    "    lo_r = 1\n",
    "    hi_r = 20\n",
    "    eps = 1e-8\n",
    "    for i in range(1000):\n",
    "        r = (lo_r + hi_r) / 2\n",
    "        a = m1 * n * (r - 1) / (r**n - 1) if r!=1 else m1\n",
    "        m2_temp = a * a * (r**(2*n) - 1) / (r**2 - 1) / n if r!=1 else a * a\n",
    "        if m2_temp > m2 + eps:\n",
    "            hi_r = r\n",
    "        elif m2_temp < m2 - eps:\n",
    "            lo_r = r\n",
    "        else:\n",
    "            break\n",
    "    if i==999:\n",
    "        raise ValueError('converge failed!')\n",
    "    return np.array([a * r**i for i in range(n)])"
   ]
  },
  {
   "cell_type": "code",
   "execution_count": 12,
   "metadata": {
    "collapsed": true
   },
   "outputs": [],
   "source": [
    "def linspace_with_moment(n, m1, m2):\n",
    "    # [a, .., b]\n",
    "    ret = np.linspace(-1, 1, n)\n",
    "    return ret / np.std(ret) * np.sqrt(m2 - m1*m1) + m1"
   ]
  },
  {
   "cell_type": "code",
   "execution_count": 13,
   "metadata": {
    "collapsed": true
   },
   "outputs": [],
   "source": [
    "def one_nonzero_with_moment(n, m1, m2):\n",
    "    # [0, ..., 0, a, ..., a (c個)]\n",
    "    # m1 = a * c / n\n",
    "    # m2 = a^2 * c / n\n",
    "    a = m2 / m1\n",
    "    c = max(0, min(n, int(m1 * n / a + 0.5)))\n",
    "    return np.array([0.0] * (n-c) + [a] * c)"
   ]
  },
  {
   "cell_type": "code",
   "execution_count": null,
   "metadata": {
    "collapsed": true
   },
   "outputs": [],
   "source": [
    "def two_nonzero_with_moment(n, m1, m2, fixed_p1=0.5, fixed_p2=0.5):\n",
    "    # [0, ..., 0, l1, ..., l1 (割合p1), l2, ..., l2 (割合p2)]\n",
    "    # m1 = l1 * p1 + l2 * p2\n",
    "    # m2 = l1**2 * p1 + l2**2 * p2 \n",
    "    pass\n"
   ]
  },
  {
   "cell_type": "code",
   "execution_count": 51,
   "metadata": {
    "collapsed": false,
    "scrolled": true
   },
   "outputs": [],
   "source": [
    "def learn(N, nb_iter, lambdas, act=func_erf2, from_scratch=True, rslt=None, verbose=True):\n",
    "    # 三層 erf2 ソフトコミッティマシンの SGD 学習\n",
    "    # from_scratch = True # 「はじめから」 or 「つづきから」\n",
    "    lambdas = np.sort(lambdas)\n",
    "    if lambdas[0] < 0:\n",
    "        print('WARNING!! minimum lambda < 0 !!')\n",
    "    \n",
    "    eta = 1.0\n",
    "    bs = 1000\n",
    "    if from_scratch: # はじめから\n",
    "        # N = 100\n",
    "        mdl = MLP(ls=[N,2,1], nobias=True, act=act, opt=optimizers.SGD(lr=eta/N))\n",
    "        mdl_t = MLP(ls=[N,2,1], nobias=True, act=act, opt=None)\n",
    "        mdl.l[1].W.data = np.array([[1, 1]], dtype=np.float32)\n",
    "        mdl_t.l[1].W.data = np.array([[1, 1]], dtype=np.float32)\n",
    "        mdl0 = copy.deepcopy(mdl)    \n",
    "        if verbose:\n",
    "            show_lambda_statistics(lambdas)\n",
    "        cov = np.diag(lambdas)\n",
    "        cov_pow = {i: np.diag([l**i for l in lambdas]) for i in range(-10, 11)}\n",
    "        Ls = np.array([np.nan])\n",
    "        Qs = { i : np.zeros([0,2,2]) for i in range(-10,11) }\n",
    "        Rs = { i : np.zeros([0,2,2]) for i in range(-10,11) }\n",
    "        T = { i : np.dot(np.dot(mdl_t.W(0), cov_pow[i],), mdl_t.W(0).T) for i in range(-10,11)}\n",
    "    else: # つづきから\n",
    "        mdl, mdl_t, mdl0, Ls, Qs, Rs, T = rslt['mdl'], rslt['mdl_t'], rslt['mdl0'], rslt['Ls'], rslt['Qs'], rslt['Rs'], rslt['T']\n",
    "        cov = np.diag(lambdas)\n",
    "        cov_pow = {i: np.diag([l**i for l in lambdas]) for i in range(-10, 11)}\n",
    "        \n",
    "\n",
    "    # イテレーション数\n",
    "    # nb_iter = 100 * N\n",
    "\n",
    "    # 先にメモリを確保(nanで埋める)\n",
    "    index_QR = Qs[-10].shape[0]\n",
    "    index_L = Ls.shape[0]\n",
    "    for i in range(-10,11):\n",
    "        Qs[i] = np.r_[Qs[i], np.nan+np.zeros([nb_iter,2,2])]\n",
    "        Rs[i] = np.r_[Rs[i], np.nan+np.zeros([nb_iter,2,2])]\n",
    "    Ls = np.r_[Ls, np.nan+np.zeros([nb_iter])]\n",
    "\n",
    "    \n",
    "    for it in (tqdm(range(nb_iter)) if verbose else range(nb_iter)):\n",
    "        for i in range(-10, 11):\n",
    "            current_Q = np.dot(np.dot(mdl.W(0), cov_pow[i],), mdl.W(0).T)\n",
    "            current_R = np.dot(np.dot(mdl.W(0), cov_pow[i],), mdl_t.W(0).T)\n",
    "            # Qs[i] = np.r_[Qs[i], [current_Q]]\n",
    "            # Rs[i] = np.r_[Rs[i], [current_R]]\n",
    "            Qs[i][index_QR+it,:,:] = current_Q\n",
    "            Rs[i][index_QR+it,:,:] = current_R\n",
    "\n",
    "        xi = Variable(np.random.multivariate_normal(np.zeros(N), cov, [bs]).astype(np.float32))\n",
    "        t = mdl_t(xi)\n",
    "        lo = mdl.update(xi, t, mode='train')\n",
    "        # Ls = np.r_[Ls, lo.data]\n",
    "        Ls[index_L+it] = lo.data\n",
    "\n",
    "        # ソフトコミッティマシンなので\n",
    "        mdl.l[1].W.data = np.array([[1, 1]], dtype=np.float32)\n",
    "\n",
    "        if it == nb_iter//2:\n",
    "            mdl_halfway = copy.deepcopy(mdl) # ちょうど半分まで終わった時のモデル．（マクロ系のデバッグ用）\n",
    "\n",
    "    return {'Qs':Qs, 'Rs':Rs, 'T':T, 'Ls':Ls, 'mdl0':mdl0, 'mdl':mdl, 'mdl_halfway':mdl_halfway, 'mdl_t':mdl_t}"
   ]
  },
  {
   "cell_type": "code",
   "execution_count": 52,
   "metadata": {
    "collapsed": true
   },
   "outputs": [],
   "source": [
    "N = 100"
   ]
  },
  {
   "cell_type": "code",
   "execution_count": 176,
   "metadata": {
    "collapsed": false
   },
   "outputs": [
    {
     "name": "stdout",
     "output_type": "stream",
     "text": [
      "lambdas: [0.3 0.3 0.3 0.3 0.3] ... [1.7 1.7 1.7 1.7 1.7]\n",
      "<lambda> 1.0\n",
      "<lambda**2> 1.4899999999999993\n",
      "<lambda**4> 4.1800999999999995\n",
      "<lambda**2>/<lambda> 1.4899999999999993\n",
      "sqrt(<lambda**4>/<lambda**2>) 1.6749436532644133\n",
      "overlap of lambdas and lambdas**2:   0.9897157540640419\n",
      "\n"
     ]
    }
   ],
   "source": [
    "nb_iter = 10 * N\n",
    "\n",
    "# lambdas = np.r_[iris_lambdas, np.array([iris_lambdas[-1]]*(N-4)),] # 短いプラトーが出る\n",
    "# lambdas = mnist_lambdas[0:700:7] # プラトー出ない\n",
    "# lambdas = mnist_lambdas[0:700:7] * 25 # プラトー出てるか微妙！\n",
    "# lambdas = mnist_lambdas[0:700:7] * 250 # プラトー出てるか微妙！\n",
    "# lambdas = np.linspace(0.14, 1.86, N) # プラトー出る\n",
    "# lambdas = mnist_lambdas[0:700:7] * 150 # プラトー出ないが，opでは出てしまう．\n",
    "# lambdas = np.sort(np.tile(iris_lambdas, N//4)) # プラトー出ない（ごく短いのが出てるようにもみえる）\n",
    "# lambdas = np.array([0.3] * (N*4//10) + [1.2] * (N*6//10)) # プラトー出る(３０N~60N step)\n",
    "# lambdas = np.array([0.5+2.0*i/N for i in range(N)]) # プラトーちょっと出る(20N~30N step)\n",
    "# lambdas = np.ones(N) # プラトー出る\n",
    "# lambdas = logspace_with_moment(100, 1, 1.25) # 出る\n",
    "# lambdas = logspace_with_moment(100, 0.007512, 0.0002054) # 少なくとも1000Nまでは出ない\n",
    "# lambdas = np.array([0.0] * 90 + [10.0] * 10) # 出る\n",
    "# lambdas = one_nonzero_with_moment(100, 0.007512, 0.0002054)\n",
    "# lambdas = one_nonzero_with_moment(100, 1.88, 12.83)\n",
    "# lambdas = np.array([0.0]*73 + [1.0]*27)\n",
    "lambdas = np.array([0.3]*50 + [1.7]*50)\n",
    "\n",
    "from_scratch = True # 「初めから」 or 「続きから」\n",
    "\n",
    "rslt = learn(N, nb_iter, lambdas, from_scratch=from_scratch, rslt=None)\n",
    "Qs, Rs, T, Ls, mdl0, mdl_halfway = rslt['Qs'], rslt['Rs'], rslt['T'], rslt['Ls'], rslt['mdl0'], rslt['mdl_halfway']"
   ]
  },
  {
   "cell_type": "code",
   "execution_count": 54,
   "metadata": {
    "collapsed": false,
    "scrolled": true
   },
   "outputs": [],
   "source": [
    "def plot_micro_dynamics(N, till, Qs, Rs, Ls, drawstep=1):\n",
    "    # drawstep = 1\n",
    "    # till = 200 * N\n",
    "    plt.plot(np.arange(len(Ls))[:till:drawstep], Ls[:till:drawstep], color='k')\n",
    "    for power in range(1, 2):\n",
    "        for ij in (0,0),(0,1),(1,1):\n",
    "            i,j = ij\n",
    "            plt.plot(np.arange(len(Qs[power]))[:till:drawstep], Qs[power][:till:drawstep,i,j], color='b')\n",
    "        for ij in (0,0),(0,1),(1,0),(1,1):\n",
    "            i,j = ij\n",
    "            plt.plot(np.arange(len(Rs[power]))[:till:drawstep], Rs[power][:till:drawstep,i,j], color='g')\n",
    "    plt.yscale('log')\n",
    "    plt.xlabel('iteration')"
   ]
  },
  {
   "cell_type": "code",
   "execution_count": 177,
   "metadata": {
    "collapsed": false,
    "scrolled": true
   },
   "outputs": [
    {
     "name": "stderr",
     "output_type": "stream",
     "text": [
      "/Users/yoshidayuuki/.pyenv/versions/anaconda3-4.2.0/lib/python3.5/site-packages/matplotlib/scale.py:101: RuntimeWarning: invalid value encountered in less_equal\n",
      "  a[a <= 0.0] = 1e-300\n"
     ]
    },
    {
     "data": {
      "image/png": "[encoded data removed]",
      "text/plain": [
       "<matplotlib.figure.Figure at 0x11075b588>"
      ]
     },
     "metadata": {},
     "output_type": "display_data"
    }
   ],
   "source": [
    "plot_micro_dynamics(N, 100*N, Qs, Rs, Ls)\n",
    "plt.show()"
   ]
  },
  {
   "cell_type": "code",
   "execution_count": 19,
   "metadata": {
    "collapsed": false,
    "scrolled": true
   },
   "outputs": [],
   "source": [
    "def plot_frac21_dynamics(N, till, Qs, Rs, drawstep=1):\n",
    "    # drawstep = 1\n",
    "    # till = 50 * N\n",
    "    for ij in (0,0),(0,1),(1,1):\n",
    "        i,j = ij\n",
    "        plt.plot(np.arange(len(Qs[1]))[:till:drawstep], Qs[2][:till:drawstep,i,j]/Qs[1][:till:drawstep,i,j], color='b')\n",
    "    for ij in (0,0),(0,1),(1,0),(1,1):\n",
    "        i,j = ij\n",
    "        plt.plot(np.arange(len(Rs[1]))[:till:drawstep], Rs[2][:till:drawstep,i,j]/Rs[1][:till:drawstep,i,j], color='g')\n",
    "    plt.yscale('log')\n",
    "    plt.xlabel('iteration')"
   ]
  },
  {
   "cell_type": "code",
   "execution_count": 20,
   "metadata": {
    "collapsed": false
   },
   "outputs": [
    {
     "ename": "NameError",
     "evalue": "name 'Qs' is not defined",
     "output_type": "error",
     "traceback": [
      "\u001b[0;31m---------------------------------------------------------------------------\u001b[0m",
      "\u001b[0;31mNameError\u001b[0m                                 Traceback (most recent call last)",
      "\u001b[0;32m<ipython-input-20-4c134ae35817>\u001b[0m in \u001b[0;36m<module>\u001b[0;34m()\u001b[0m\n\u001b[0;32m----> 1\u001b[0;31m \u001b[0mplot_frac21_dynamics\u001b[0m\u001b[0;34m(\u001b[0m\u001b[0mN\u001b[0m\u001b[0;34m,\u001b[0m \u001b[0;36m300\u001b[0m\u001b[0;34m*\u001b[0m\u001b[0mN\u001b[0m\u001b[0;34m,\u001b[0m \u001b[0mQs\u001b[0m\u001b[0;34m,\u001b[0m \u001b[0mRs\u001b[0m\u001b[0;34m)\u001b[0m\u001b[0;34m\u001b[0m\u001b[0m\n\u001b[0m\u001b[1;32m      2\u001b[0m \u001b[0mplt\u001b[0m\u001b[0;34m.\u001b[0m\u001b[0mshow\u001b[0m\u001b[0;34m(\u001b[0m\u001b[0;34m)\u001b[0m\u001b[0;34m\u001b[0m\u001b[0m\n",
      "\u001b[0;31mNameError\u001b[0m: name 'Qs' is not defined"
     ]
    }
   ],
   "source": [
    "plot_frac21_dynamics(N, 300*N, Qs, Rs)\n",
    "plt.show()"
   ]
  },
  {
   "cell_type": "code",
   "execution_count": 84,
   "metadata": {
    "collapsed": false,
    "scrolled": false
   },
   "outputs": [
    {
     "name": "stdout",
     "output_type": "stream",
     "text": [
      "lam2== 0.1 ,p1== 0\n"
     ]
    },
    {
     "name": "stderr",
     "output_type": "stream",
     "text": [
      "/Users/yoshidayuuki/.pyenv/versions/anaconda3-4.2.0/lib/python3.5/site-packages/matplotlib/scale.py:101: RuntimeWarning: invalid value encountered in less_equal\n",
      "  a[a <= 0.0] = 1e-300\n"
     ]
    },
    {
     "name": "stdout",
     "output_type": "stream",
     "text": [
      "lam2== 0.1 ,p1== 0.1\n",
      "lam2== 0.1 ,p1== 0.2\n",
      "lam2== 0.1 ,p1== 0.3\n",
      "lam2== 0.1 ,p1== 0.4\n",
      "lam2== 0.1 ,p1== 0.5\n",
      "lam2== 0.1 ,p1== 0.6\n",
      "lam2== 0.1 ,p1== 0.7\n",
      "lam2== 0.1 ,p1== 0.8\n",
      "lam2== 0.1 ,p1== 0.9\n",
      "lam2== 0.1 ,p1== 1.0\n",
      "lam2== 0.2 ,p1== 0\n",
      "lam2== 0.2 ,p1== 0.1\n",
      "lam2== 0.2 ,p1== 0.2\n",
      "lam2== 0.2 ,p1== 0.3\n",
      "lam2== 0.2 ,p1== 0.4\n",
      "lam2== 0.2 ,p1== 0.5\n",
      "lam2== 0.2 ,p1== 0.6\n",
      "lam2== 0.2 ,p1== 0.7\n",
      "lam2== 0.2 ,p1== 0.8\n",
      "lam2== 0.2 ,p1== 0.9\n",
      "lam2== 0.2 ,p1== 1.0\n",
      "lam2== 0.3 ,p1== 0\n",
      "lam2== 0.3 ,p1== 0.1\n",
      "lam2== 0.3 ,p1== 0.2\n",
      "lam2== 0.3 ,p1== 0.3\n",
      "lam2== 0.3 ,p1== 0.4\n",
      "lam2== 0.3 ,p1== 0.5\n",
      "lam2== 0.3 ,p1== 0.6\n",
      "lam2== 0.3 ,p1== 0.7\n",
      "lam2== 0.3 ,p1== 0.8\n",
      "lam2== 0.3 ,p1== 0.9\n",
      "lam2== 0.3 ,p1== 1.0\n",
      "lam2== 0.5 ,p1== 0\n",
      "lam2== 0.5 ,p1== 0.1\n",
      "lam2== 0.5 ,p1== 0.2\n",
      "lam2== 0.5 ,p1== 0.3\n",
      "lam2== 0.5 ,p1== 0.4\n",
      "lam2== 0.5 ,p1== 0.5\n",
      "lam2== 0.5 ,p1== 0.6\n",
      "lam2== 0.5 ,p1== 0.7\n",
      "lam2== 0.5 ,p1== 0.8\n",
      "lam2== 0.5 ,p1== 0.9\n",
      "lam2== 0.5 ,p1== 1.0\n",
      "lam2== 0.7 ,p1== 0\n",
      "lam2== 0.7 ,p1== 0.1\n",
      "lam2== 0.7 ,p1== 0.2\n",
      "lam2== 0.7 ,p1== 0.3\n",
      "lam2== 0.7 ,p1== 0.4\n",
      "lam2== 0.7 ,p1== 0.5\n",
      "lam2== 0.7 ,p1== 0.6\n",
      "lam2== 0.7 ,p1== 0.7\n",
      "lam2== 0.7 ,p1== 0.8\n",
      "lam2== 0.7 ,p1== 0.9\n",
      "lam2== 0.7 ,p1== 1.0\n",
      "lam2== 1.0 ,p1== 0\n",
      "lam2== 1.0 ,p1== 0.1\n",
      "lam2== 1.0 ,p1== 0.2\n",
      "lam2== 1.0 ,p1== 0.3\n",
      "lam2== 1.0 ,p1== 0.4\n",
      "lam2== 1.0 ,p1== 0.5\n",
      "lam2== 1.0 ,p1== 0.6\n",
      "lam2== 1.0 ,p1== 0.7\n",
      "lam2== 1.0 ,p1== 0.8\n",
      "lam2== 1.0 ,p1== 0.9\n",
      "lam2== 1.0 ,p1== 1.0\n"
     ]
    }
   ],
   "source": [
    "# 色々な固有値分布での結果を保存するよ\n",
    "for lam2 in [0.1, 0.2, 0.3, 0.5, 0.7, 1.0]:\n",
    "    for p1 in [0, 0.1, 0.2, 0.3, 0.4, 0.5, 0.6, 0.7, 0.8, 0.9, 1.0]:\n",
    "        print('lam2==',lam2, ',p1==',p1)\n",
    "        N = 100\n",
    "        nb_iter = 200 * N\n",
    "        n1 = int(N * p1)\n",
    "        lambdas = np.array([lam2] * (N-n1) + [1.0] * n1)\n",
    "        from_scratch = True\n",
    "        rslt = learn(N, nb_iter, lambdas, from_scratch, verbose=False)\n",
    "        Qs, Rs, T, Ls, mdl0 = rslt['Qs'], rslt['Rs'], rslt['T'], rslt['Ls'], rslt['mdl0']\n",
    "        \n",
    "        path = './SCM_erf2_ST_N100_twoLambda/'\n",
    "        np.savez(path + 'p1={}_lam2={}.npz'.format(p1,lam2), Qs=Qs, Rs=Rs, T=T, Ls=Ls, mdl0=mdl0)\n",
    "        plot_micro_dynamics(N, nb_iter, Qs, Rs, Ls)\n",
    "        plt.title('p1={}, lam2={}'.format(p1,lam2))\n",
    "        plt.savefig(path + 'micro_dynamics_p1={}_lam2={}.png'.format(p1,lam2))\n",
    "        plt.close()\n",
    "        plot_frac21_dynamics(N, nb_iter, Qs, Rs)\n",
    "        plt.title('p1={}, lam2={}'.format(p1,lam2))\n",
    "        plt.savefig(path + 'frac21_dynamics_p1={}_lam2={}.png'.format(p1,lam2))\n",
    "        plt.close()"
   ]
  },
  {
   "cell_type": "code",
   "execution_count": 93,
   "metadata": {
    "collapsed": false,
    "scrolled": true
   },
   "outputs": [
    {
     "name": "stdout",
     "output_type": "stream",
     "text": [
      "lambdas: [0.14116165 0.15559591 0.17003017 0.18446443 0.19889868] ... [1.80110132 1.81553557 1.82996983 1.84440409 1.85883835]\n",
      "<lambda> 1.0\n",
      "<lambda**2> 1.25\n",
      "<lambda**4> 2.612489582609903\n",
      "<lambda**2>/<lambda> 1.25\n",
      "sqrt(<lambda**4>/<lambda**2>) 1.4456803471334605\n",
      "overlap of lambdas and lambdas**2:   0.968402180174866\n",
      "\n"
     ]
    },
    {
     "name": "stderr",
     "output_type": "stream",
     "text": [
      "/Users/yoshidayuuki/.pyenv/versions/anaconda3-4.2.0/lib/python3.5/site-packages/matplotlib/scale.py:101: RuntimeWarning: invalid value encountered in less_equal\n",
      "  a[a <= 0.0] = 1e-300\n"
     ]
    },
    {
     "name": "stdout",
     "output_type": "stream",
     "text": [
      "lambdas: [0.14116165 0.15559591 0.17003017 0.18446443 0.19889868] ... [1.80110132 1.81553557 1.82996983 1.84440409 1.85883835]\n",
      "<lambda> 1.0\n",
      "<lambda**2> 1.25\n",
      "<lambda**4> 2.612489582609903\n",
      "<lambda**2>/<lambda> 1.25\n",
      "sqrt(<lambda**4>/<lambda**2>) 1.4456803471334605\n",
      "overlap of lambdas and lambdas**2:   0.968402180174866\n",
      "\n",
      "lambdas: [0.14116165 0.15559591 0.17003017 0.18446443 0.19889868] ... [1.80110132 1.81553557 1.82996983 1.84440409 1.85883835]\n",
      "<lambda> 1.0\n",
      "<lambda**2> 1.25\n",
      "<lambda**4> 2.612489582609903\n",
      "<lambda**2>/<lambda> 1.25\n",
      "sqrt(<lambda**4>/<lambda**2>) 1.4456803471334605\n",
      "overlap of lambdas and lambdas**2:   0.968402180174866\n",
      "\n",
      "lambdas: [0.14116165 0.15559591 0.17003017 0.18446443 0.19889868] ... [1.80110132 1.81553557 1.82996983 1.84440409 1.85883835]\n",
      "<lambda> 1.0\n",
      "<lambda**2> 1.25\n",
      "<lambda**4> 2.612489582609903\n",
      "<lambda**2>/<lambda> 1.25\n",
      "sqrt(<lambda**4>/<lambda**2>) 1.4456803471334605\n",
      "overlap of lambdas and lambdas**2:   0.968402180174866\n",
      "\n",
      "lambdas: [0.14116165 0.15559591 0.17003017 0.18446443 0.19889868] ... [1.80110132 1.81553557 1.82996983 1.84440409 1.85883835]\n",
      "<lambda> 1.0\n",
      "<lambda**2> 1.25\n",
      "<lambda**4> 2.612489582609903\n",
      "<lambda**2>/<lambda> 1.25\n",
      "sqrt(<lambda**4>/<lambda**2>) 1.4456803471334605\n",
      "overlap of lambdas and lambdas**2:   0.968402180174866\n",
      "\n"
     ]
    }
   ],
   "source": [
    "# 色々な固有値分布での結果を保存する ver2\n",
    "for num in [2,3,4,5,6,8,10,20,30,60,120]:\n",
    "    N = 120\n",
    "    nb_iter = 200 * N\n",
    "    # lambdas として，平均1,標準偏差0.5なnum項の等差数列（をN項に水増ししたもの）を用意する．\n",
    "    lambda_kind = np.arange(num)\n",
    "    lambda_kind = (lambda_kind - np.mean(lambda_kind)) / np.std(lambda_kind) * 0.5 + 1\n",
    "    lambdas = np.sort(lambda_kind.tolist() * (N//num))\n",
    "    assert(lambdas[0] >= 0)\n",
    "    from_scratch = True\n",
    "    rslt = learn(N, nb_iter, lambdas, from_scratch, verbose=True)\n",
    "    Qs, Rs, T, Ls, mdl0 = rslt['Qs'], rslt['Rs'], rslt['T'], rslt['Ls'], rslt['mdl0']\n",
    "\n",
    "    path = './SCM_erf2_ST_N120_variousNumberOfLambda/'\n",
    "    np.savez(path + 'num={}.npz'.format(num), Qs=Qs, Rs=Rs, T=T, Ls=Ls, mdl0=mdl0)\n",
    "    plot_micro_dynamics(N, nb_iter, Qs, Rs, Ls)\n",
    "    plt.title('num={}'.format(num))\n",
    "    plt.savefig(path + 'micro_dynamics_num={}.png'.format(num))\n",
    "    plt.close()\n",
    "    plot_frac21_dynamics(N, nb_iter, Qs, Rs)\n",
    "    plt.title('num={}'.format(num))\n",
    "    plt.savefig(path + 'frac21_dynamics_num={}.png'.format(num))\n",
    "    plt.close()"
   ]
  },
  {
   "cell_type": "code",
   "execution_count": 39,
   "metadata": {
    "collapsed": false
   },
   "outputs": [
    {
     "name": "stdout",
     "output_type": "stream",
     "text": [
      "m2== 0.27\n",
      "1.0 27\n",
      "m2== 0.5\n",
      "1.8518518518518516 15\n",
      "m2== 1\n",
      "3.7037037037037033 7\n",
      "m2== 2\n",
      "7.4074074074074066 4\n",
      "m2== 4\n",
      "14.814814814814813 2\n",
      "m2== 8\n",
      "29.629629629629626 1\n"
     ]
    }
   ],
   "source": [
    "# 色々な固有値分布での結果を保存する ver3\n",
    "for m2 in [0.27, 0.5, 1, 2, 4, 8]:\n",
    "    print('m2==', m2)\n",
    "    N = 100\n",
    "    nb_iter = 200 * N\n",
    "\n",
    "    m1 = 0.27\n",
    "    lambdas = one_nonzero_with_moment(N, m1, m2)\n",
    "    \n",
    "    from_scratch = True\n",
    "    rslt = learn(N, nb_iter, lambdas, from_scratch=from_scratch, verbose=True)\n",
    "    Qs, Rs, T, Ls, mdl0 = rslt['Qs'], rslt['Rs'], rslt['T'], rslt['Ls'], rslt['mdl0']\n",
    "\n",
    "    path = './SCM_erf2_ST_N100_m1fix/'\n",
    "    np.savez(path + 'm2={}.npz'.format(m2), Qs=Qs, Rs=Rs, T=T, Ls=Ls, mdl0=mdl0)\n",
    "    plot_micro_dynamics(N, nb_iter, Qs, Rs, Ls)\n",
    "    plt.title('m2={}'.format(m2))\n",
    "    plt.savefig(path + 'micro_dynamics_m2={}.png'.format(m2))\n",
    "    plt.close()\n",
    "    plot_frac21_dynamics(N, nb_iter, Qs, Rs)\n",
    "    plt.title('m2={}'.format(m2))\n",
    "    plt.savefig(path + 'frac21_dynamics_m2={}.png'.format(m2))\n",
    "    plt.close()"
   ]
  },
  {
   "cell_type": "code",
   "execution_count": 24,
   "metadata": {
    "collapsed": false
   },
   "outputs": [
    {
     "data": {
      "text/plain": [
       "array([[12.3927269 ,  3.94581281],\n",
       "       [ 3.94581281, 16.25608844]])"
      ]
     },
     "execution_count": 24,
     "metadata": {},
     "output_type": "execute_result"
    }
   ],
   "source": [
    "Qs[1][-1]"
   ]
  },
  {
   "cell_type": "code",
   "execution_count": 25,
   "metadata": {
    "collapsed": false,
    "scrolled": true
   },
   "outputs": [
    {
     "data": {
      "text/plain": [
       "(array([[14.02843255,  3.98379546],\n",
       "        [ 3.98379546, 15.09568275]]), array([[0.83787804, 0.03382554],\n",
       "        [0.03382554, 0.83948941]]))"
      ]
     },
     "execution_count": 25,
     "metadata": {},
     "output_type": "execute_result"
    }
   ],
   "source": [
    "T[1], T[0] # 「真の解が特異領域にある」わけでもないようだ（T[1]は退化していない．）"
   ]
  },
  {
   "cell_type": "code",
   "execution_count": 21,
   "metadata": {
    "collapsed": true
   },
   "outputs": [],
   "source": [
    "import order_parameter_dynamics as opd"
   ]
  },
  {
   "cell_type": "code",
   "execution_count": 291,
   "metadata": {
    "collapsed": false,
    "scrolled": true
   },
   "outputs": [],
   "source": [
    "def calc_opd(N, nb_iter, lambdas, eta, act='erf', mdl=None, mdl_t=None, ignore_etasq=[False, True], slowing=1.0, verbose=True, goal_loss=None):\n",
    "\n",
    "    if mdl is not None:\n",
    "        tmp_mdl = mdl\n",
    "    else:\n",
    "        tmp_mdl = MLP(ls=[N,2,1], nobias=True, act=func_erf2, opt=optimizers.SGD(lr=eta/N))    \n",
    "        tmp_mdl.l[1].W.data = np.array([[1, 1]], dtype=np.float32)\n",
    "    \n",
    "    if mdl_t is not None:\n",
    "        tmp_mdl_t = mdl_t\n",
    "    else:\n",
    "        tmp_mdl_t = MLP(ls=[N,2,1], nobias=True, act=func_erf2, opt=None)\n",
    "        tmp_mdl_t.l[1].W.data = np.array([[1, 1]], dtype=np.float32)\n",
    "\n",
    "    ncov = np.diag(lambdas)\n",
    "    # ncov = np.diag([1] * N)\n",
    "\n",
    "    _ = np.r_[tmp_mdl.W(0), tmp_mdl_t.W(0)]\n",
    "    nQRT = np.dot(np.dot(_, ncov), _.T)\n",
    "    print('nQRT:', nQRT)\n",
    "    _ = np.c_[tmp_mdl.W(1), tmp_mdl_t.W(1)]\n",
    "    nABC = np.dot(_.T, _)\n",
    "    print('nABC:', nABC)\n",
    "\n",
    "    ncovncov = np.dot(ncov, ncov)\n",
    "    nT4 = np.dot(np.dot(tmp_mdl_t.W(0), np.dot(ncovncov, ncovncov)), tmp_mdl_t.W(0).T)\n",
    "    nT2 = np.dot(np.dot(tmp_mdl_t.W(0), ncovncov), tmp_mdl_t.W(0).T)\n",
    "    nT1 = np.dot(np.dot(tmp_mdl_t.W(0), ncov), tmp_mdl_t.W(0).T)\n",
    "    print('sqrt(nT4/nT2): ', np.sqrt(nT4/nT2))\n",
    "    print('nT2/nT1: ', nT2/nT1)\n",
    "    QRTcoef = np.array([np.sqrt(nT4/nT2)[0,0], nT2[0,0]])\n",
    "\n",
    "    QRTcoef *= slowing\n",
    "    if slowing != 1: print('!! slowing:', slowing)\n",
    "\n",
    "    print('QRTcoef: ', QRTcoef)\n",
    "\n",
    "    op = opd.opd_inf_KM_inf(nQRT, nABC, K=2, M=2, eta=eta, act=act, ignore_etasq=ignore_etasq, QRTcoef=QRTcoef, ABCcoef=[0]) # ABCcoef=[0] は soft-committee にするため\n",
    "    # nb_iter = 1000\n",
    "    print('nb_iter:', nb_iter)\n",
    "\n",
    "    opQRT = np.zeros([nb_iter+1,4,4]) + np.nan\n",
    "    # opABC = np.zeros([nb_iter+1,4,4]) + np.nan\n",
    "    opL = np.zeros([nb_iter+1]) + np.nan\n",
    "    opQRT[0,:,:] = op.QRT.copy()\n",
    "    opL[0] = op.eps()\n",
    "\n",
    "    for it in tqdm(range(0,nb_iter)):\n",
    "        op.update()\n",
    "        opQRT[1+it,:,:] = op.QRT.copy()\n",
    "        opL[1+it] = op.eps()\n",
    "        if goal_loss is not None and opL[1+it] < goal_loss: # goal_loss を下回った時点で終了\n",
    "            opQRT = opQRT[:1+it+1,:,:]\n",
    "            opL = opL[:1+it+1]\n",
    "            break\n",
    "        \n",
    "    return {'opQRT':opQRT, 'opL':opL, 'mdl0':tmp_mdl, 'mdl_t':tmp_mdl_t}"
   ]
  },
  {
   "cell_type": "code",
   "execution_count": 201,
   "metadata": {
    "collapsed": true
   },
   "outputs": [],
   "source": [
    "def calc_opd_highorder(N, nb_iter, lambdas, eta, act='erf', mdl=None, mdl_t=None, ignore_etasq=[False, True], substep=1, slowing=None, verbose=True, goal_loss=None):\n",
    "    assert(slowing is None)\n",
    "    # deprecated. 代わりに substep を指定してください\n",
    "    \n",
    "    if mdl is not None:\n",
    "        tmp_mdl = mdl\n",
    "    else:\n",
    "        tmp_mdl = MLP(ls=[N,2,1], nobias=True, act=func_erf2, opt=optimizers.SGD(lr=eta/N))    \n",
    "        tmp_mdl.l[1].W.data = np.array([[1, 1]], dtype=np.float32)\n",
    "    \n",
    "    if mdl_t is not None:\n",
    "        tmp_mdl_t = mdl_t\n",
    "    else:\n",
    "        tmp_mdl_t = MLP(ls=[N,2,1], nobias=True, act=func_erf2, opt=None)\n",
    "        tmp_mdl_t.l[1].W.data = np.array([[1, 1]], dtype=np.float32)\n",
    "\n",
    "    ncov = np.diag(lambdas)\n",
    "    # ncov = np.diag([1] * N)\n",
    "    \n",
    "    nonzero_distinct_lambdas = np.unique(lambdas[np.nonzero(lambdas)]) # 非ゼロの相異なる固有値\n",
    "    deg = len(nonzero_distinct_lambdas) # その種類数．\n",
    "\n",
    "    nQRT = np.zeros([deg, 4, 4]).astype(np.float)\n",
    "    weight_mat = np.r_[tmp_mdl.W(0), tmp_mdl_t.W(0)]\n",
    "    for e in range(deg):\n",
    "        nQRT[e] = np.dot(np.dot( weight_mat, ncov ** (e+1)),  weight_mat.T)\n",
    "    print('nQRT:', nQRT)\n",
    "    _ = np.c_[tmp_mdl.W(1), tmp_mdl_t.W(1)]\n",
    "    nABC = np.dot(_.T, _)\n",
    "    print('nABC:', nABC)\n",
    "    \n",
    "    ncovncov = np.dot(ncov, ncov)\n",
    "    nT4 = np.dot(np.dot(tmp_mdl_t.W(0), np.dot(ncovncov, ncovncov)), tmp_mdl_t.W(0).T)\n",
    "    nT2 = np.dot(np.dot(tmp_mdl_t.W(0), ncovncov), tmp_mdl_t.W(0).T)\n",
    "    nT1 = np.dot(np.dot(tmp_mdl_t.W(0), ncov), tmp_mdl_t.W(0).T)\n",
    "    print('sqrt(nT4/nT2): ', np.sqrt(nT4/nT2))\n",
    "    print('nT2/nT1: ', nT2/nT1)\n",
    "\n",
    "    QRTcoef = np.array([1.0, 1.0])\n",
    "    op = opd.opd_inf_KM_inf_highorder(lambdas, nQRT, nABC, K=2, M=2, eta=eta, act=act, QRTcoef=QRTcoef, ABCcoef=[0], ignore_etasq=ignore_etasq, substep=substep) # ABCcoef=[0] は soft-committee にするため\n",
    "    # nb_iter = 1000\n",
    "    print('nb_iter:', nb_iter)\n",
    "\n",
    "    opQRT = np.zeros([nb_iter+1, deg, 4,4]) + np.nan\n",
    "    opL = np.zeros([nb_iter+1]) + np.nan\n",
    "    opQRT[0] = op.QRT.copy()\n",
    "    opL[0] = op.eps()\n",
    "\n",
    "    for it in tqdm(range(0,nb_iter)):\n",
    "        op.update()\n",
    "        opQRT[1+it] = op.QRT.copy()\n",
    "        opL[1+it] = op.eps()\n",
    "        if goal_loss is not None and opL[1+it] < goal_loss: # goal_loss を下回った時点で終了\n",
    "            opQRT = opQRT[:1+it+1]\n",
    "            opL = opL[:1+it+1]\n",
    "            break\n",
    "        \n",
    "    return {'opQRT':opQRT, 'opL':opL, 'mdl0':tmp_mdl, 'mdl_t':tmp_mdl_t}"
   ]
  },
  {
   "cell_type": "code",
   "execution_count": 199,
   "metadata": {
    "collapsed": true
   },
   "outputs": [],
   "source": [
    "def plot_macro_dynamics(opL, opQRT, N=1, till=None, slowing=1.0):\n",
    "    if till is None:\n",
    "        till = len(opL)\n",
    "    plt.plot(np.arange(len(opL))[:till]*N*slowing, opQRT[:till,0,0], color='b')\n",
    "    plt.plot(np.arange(len(opL))[:till]*N*slowing, opQRT[:till,0,1], color='b')\n",
    "    plt.plot(np.arange(len(opL))[:till]*N*slowing, opQRT[:till,1,1], color='b')\n",
    "    plt.plot(np.arange(len(opL))[:till]*N*slowing, opQRT[:till,0,2], color='g')\n",
    "    plt.plot(np.arange(len(opL))[:till]*N*slowing, opQRT[:till,0,3], color='g')\n",
    "    plt.plot(np.arange(len(opL))[:till]*N*slowing, opQRT[:till,1,2], color='g')\n",
    "    plt.plot(np.arange(len(opL))[:till]*N*slowing, opQRT[:till,1,3], color='g')\n",
    "    plt.plot(np.arange(len(opL))[:till]*N*slowing, opL[:till], color='k')\n",
    "    plt.yscale('log')"
   ]
  },
  {
   "cell_type": "code",
   "execution_count": 105,
   "metadata": {
    "collapsed": false
   },
   "outputs": [
    {
     "name": "stdout",
     "output_type": "stream",
     "text": [
      "nQRT: [[ 0.99538228 -0.14186744  0.19436723 -0.03273299]\n",
      " [-0.14186744  1.20763175  0.00176298  0.1350449 ]\n",
      " [ 0.19436723  0.00176298  0.73378336 -0.15625619]\n",
      " [-0.03273299  0.1350449  -0.15625619  0.69029972]]\n",
      "nABC: [[1. 1. 1. 1.]\n",
      " [1. 1. 1. 1.]\n",
      " [1. 1. 1. 1.]\n",
      " [1. 1. 1. 1.]]\n",
      "sqrt(nT4/nT2):  [[1.43240991 1.43255874]\n",
      " [1.43255874 1.41895971]]\n",
      "nT2/nT1:  [[1.25187588 1.25232153]\n",
      " [1.25232153 1.21304916]]\n",
      "QRTcoef:  [1.43240991 0.9186057 ]\n",
      "nb_iter: 100\n",
      "\n"
     ]
    }
   ],
   "source": [
    "'''\n",
    "opd_inf_KM_inf での計算．1次のオーダパラメータのみ考慮．\n",
    "'''\n",
    "nb_iter = 100\n",
    "eta = 1.0\n",
    "# lambdas = 0.5 * np.ones(N)\n",
    "# nrslt = calc_opd(N, nb_iter, lambdas, eta)\n",
    "nrslt = calc_opd(N, nb_iter, lambdas, eta, mdl=rslt['mdl0'], mdl_t=rslt['mdl_t'])\n",
    "opL, opQRT = nrslt['opL'], nrslt['opQRT']"
   ]
  },
  {
   "cell_type": "code",
   "execution_count": 106,
   "metadata": {
    "collapsed": false
   },
   "outputs": [
    {
     "data": {
      "image/png": "[encoded data removed]",
      "text/plain": [
       "<matplotlib.figure.Figure at 0x1113dfcc0>"
      ]
     },
     "metadata": {},
     "output_type": "display_data"
    }
   ],
   "source": [
    "plot_macro_dynamics(opL, opQRT, N=N)\n",
    "plt.show()"
   ]
  },
  {
   "cell_type": "code",
   "execution_count": 207,
   "metadata": {
    "collapsed": false,
    "scrolled": true
   },
   "outputs": [
    {
     "name": "stdout",
     "output_type": "stream",
     "text": [
      "nQRT: [[[ 1.26660047  0.09640019 -0.03099825  0.07186535]\n",
      "  [ 0.09640019  1.09747955  0.03518167  0.01187166]\n",
      "  [-0.03099825  0.03518167  0.93417271  0.21706487]\n",
      "  [ 0.07186535  0.01187166  0.21706487  0.83532987]]\n",
      "\n",
      " [[ 2.01527766  0.13219231 -0.01856269  0.123118  ]\n",
      "  [ 0.13219231  1.66335098  0.05683941 -0.01963357]\n",
      "  [-0.01856269  0.05683941  1.42733725  0.34098177]\n",
      "  [ 0.123118   -0.01963357  0.34098177  1.22033779]]]\n",
      "nABC: [[1. 1. 1. 1.]\n",
      " [1. 1. 1. 1.]\n",
      " [1. 1. 1. 1.]\n",
      " [1. 1. 1. 1.]]\n",
      "sqrt(nT4/nT2):  [[1.68000713 1.6854318 ]\n",
      " [1.6854318  1.67086887]]\n",
      "nT2/nT1:  [[1.52791581 1.57087499]\n",
      " [1.57087499 1.46090524]]\n",
      "poly deg: 2\n",
      "nb_iter: 100\n",
      "\n"
     ]
    }
   ],
   "source": [
    "'''\n",
    "opd_inf_KM_inf_highorder での計算．高次のオーダパラメータまで考慮．\n",
    "'''\n",
    "nb_iter = 100\n",
    "eta = 1.0\n",
    "substep = 10\n",
    "# nrslt = calc_opd_highorder(N, nb_iter, np.array([0.5]*50+[1.5]*50), eta, ignore_etasq=[True, True])\n",
    "nrslt = calc_opd_highorder(N, nb_iter, lambdas, eta, mdl=rslt['mdl0'], mdl_t=rslt['mdl_t'], ignore_etasq=[True, True], substep=substep)\n",
    "# ignore_etasqをオンにしていることに注意（つまり学習係数が十分小さい状況）\n",
    "# オフにすると，ミクロとマクロが一致しない・・・（これはそもそも理論の近似が不十分かもしれない．）\n",
    "opL, opQRT = nrslt['opL'], nrslt['opQRT']"
   ]
  },
  {
   "cell_type": "code",
   "execution_count": 208,
   "metadata": {
    "collapsed": false,
    "scrolled": false
   },
   "outputs": [
    {
     "data": {
      "image/png": "[encoded data removed]",
      "text/plain": [
       "<matplotlib.figure.Figure at 0x11288b668>"
      ]
     },
     "metadata": {},
     "output_type": "display_data"
    }
   ],
   "source": [
    "plot_macro_dynamics(opL, opQRT[:,0,:,:], N=N)\n",
    "# plt.xlim(0, 200)\n",
    "plt.show()"
   ]
  },
  {
   "cell_type": "code",
   "execution_count": 186,
   "metadata": {
    "collapsed": false
   },
   "outputs": [
    {
     "name": "stderr",
     "output_type": "stream",
     "text": [
      "/Users/yoshidayuuki/.pyenv/versions/anaconda3-4.2.0/lib/python3.5/site-packages/matplotlib/scale.py:101: RuntimeWarning: invalid value encountered in less_equal\n",
      "  a[a <= 0.0] = 1e-300\n"
     ]
    },
    {
     "data": {
      "image/png": "[encoded data removed]",
      "text/plain": [
       "<matplotlib.figure.Figure at 0x1129b0128>"
      ]
     },
     "metadata": {},
     "output_type": "display_data"
    }
   ],
   "source": [
    "# ミクロ再掲\n",
    "plot_micro_dynamics(N, 100*N, Qs, Rs, Ls)\n",
    "# plt.xlim(2500, 2700)\n",
    "plt.ylim(1e-4, 1e0)\n",
    "plt.show()"
   ]
  },
  {
   "cell_type": "code",
   "execution_count": 206,
   "metadata": {
    "collapsed": true
   },
   "outputs": [],
   "source": [
    "%autoreload"
   ]
  },
  {
   "cell_type": "code",
   "execution_count": 135,
   "metadata": {
    "collapsed": false
   },
   "outputs": [
    {
     "name": "stdout",
     "output_type": "stream",
     "text": [
      "nQRT: [[ 0.7980622   0.00465667  0.13333231 -0.0472992 ]\n",
      " [ 0.00465667  1.17569093  0.0878695  -0.02269846]\n",
      " [ 0.13333231  0.0878695   0.94497965  0.07357106]\n",
      " [-0.0472992  -0.02269846  0.07357106  1.02925887]]\n",
      "nABC: [[1. 1. 1. 1.]\n",
      " [1. 1. 1. 1.]\n",
      " [1. 1. 1. 1.]\n",
      " [1. 1. 1. 1.]]\n",
      "sqrt(nT4/nT2):  [[0.9 0.9]\n",
      " [0.9 0.9]]\n",
      "nT2/nT1:  [[0.9 0.9]\n",
      " [0.9 0.9]]\n",
      "QRTcoef:  [0.9        0.85048168]\n",
      "\n",
      "nQRT: [[ 0.7736157   0.09532977 -0.04629263  0.05913871]\n",
      " [ 0.09532977  0.97798764  0.18036748 -0.03544595]\n",
      " [-0.04629263  0.18036748  1.05847791  0.03511911]\n",
      " [ 0.05913871 -0.03544595  0.03511911  0.96462831]]\n",
      "nABC: [[1. 1. 1. 1.]\n",
      " [1. 1. 1. 1.]\n",
      " [1. 1. 1. 1.]\n",
      " [1. 1. 1. 1.]]\n",
      "sqrt(nT4/nT2):  [[0.9 0.9]\n",
      " [0.9 0.9]]\n",
      "nT2/nT1:  [[0.9 0.9]\n",
      " [0.9 0.9]]\n",
      "QRTcoef:  [0.9        0.95263012]\n",
      "\n",
      "nQRT: [[ 0.94167465  0.06138113  0.01852764  0.07157239]\n",
      " [ 0.06138113  0.88130724  0.03933752 -0.00730193]\n",
      " [ 0.01852764  0.03933752  1.00775171  0.03702097]\n",
      " [ 0.07157239 -0.00730193  0.03702097  0.70008514]]\n",
      "nABC: [[1. 1. 1. 1.]\n",
      " [1. 1. 1. 1.]\n",
      " [1. 1. 1. 1.]\n",
      " [1. 1. 1. 1.]]\n",
      "sqrt(nT4/nT2):  [[0.9 0.9]\n",
      " [0.9 0.9]]\n",
      "nT2/nT1:  [[0.9 0.9]\n",
      " [0.9 0.9]]\n",
      "QRTcoef:  [0.9        0.90697654]\n",
      "\n",
      "nQRT: [[ 0.88080839  0.00361783 -0.09520239 -0.00585458]\n",
      " [ 0.00361783  0.81072827  0.04573292  0.10432345]\n",
      " [-0.09520239  0.04573292  0.98495968  0.03872674]\n",
      " [-0.00585458  0.10432345  0.03872674  0.85583976]]\n",
      "nABC: [[1. 1. 1. 1.]\n",
      " [1. 1. 1. 1.]\n",
      " [1. 1. 1. 1.]\n",
      " [1. 1. 1. 1.]]\n",
      "sqrt(nT4/nT2):  [[0.9 0.9]\n",
      " [0.9 0.9]]\n",
      "nT2/nT1:  [[0.9 0.9]\n",
      " [0.9 0.9]]\n",
      "QRTcoef:  [0.9        0.88646371]\n",
      "\n",
      "nQRT: [[ 1.03174764  0.05404698 -0.06836252  0.12074073]\n",
      " [ 0.05404698  0.79730743 -0.04157465 -0.1912819 ]\n",
      " [-0.06836252 -0.04157465  0.82937064 -0.0440897 ]\n",
      " [ 0.12074073 -0.1912819  -0.0440897   0.98260976]]\n",
      "nABC: [[1. 1. 1. 1.]\n",
      " [1. 1. 1. 1.]\n",
      " [1. 1. 1. 1.]\n",
      " [1. 1. 1. 1.]]\n",
      "sqrt(nT4/nT2):  [[0.9 0.9]\n",
      " [0.9 0.9]]\n",
      "nT2/nT1:  [[0.9 0.9]\n",
      " [0.9 0.9]]\n",
      "QRTcoef:  [0.9        0.74643357]\n",
      "\n",
      "nQRT: [[ 1.00447375 -0.09888569  0.07111703 -0.09352551]\n",
      " [-0.09888569  0.83011091  0.12175732 -0.08890184]\n",
      " [ 0.07111703  0.12175732  0.80238604 -0.02306641]\n",
      " [-0.09352551 -0.08890184 -0.02306641  0.96983211]]\n",
      "nABC: [[1. 1. 1. 1.]\n",
      " [1. 1. 1. 1.]\n",
      " [1. 1. 1. 1.]\n",
      " [1. 1. 1. 1.]]\n",
      "sqrt(nT4/nT2):  [[0.8 0.8]\n",
      " [0.8 0.8]]\n",
      "nT2/nT1:  [[0.8 0.8]\n",
      " [0.8 0.8]]\n",
      "QRTcoef:  [0.8        0.64190883]\n",
      "\n",
      "nQRT: [[ 7.33391476e-01  4.69100789e-02  5.60080190e-02 -8.09684854e-02]\n",
      " [ 4.69100789e-02  8.71840163e-01  3.48094634e-02  2.95391512e-02]\n",
      " [ 5.60080190e-02  3.48094634e-02  7.87694150e-01  4.84763919e-04]\n",
      " [-8.09684854e-02  2.95391512e-02  4.84763919e-04  9.49567539e-01]]\n",
      "nABC: [[1. 1. 1. 1.]\n",
      " [1. 1. 1. 1.]\n",
      " [1. 1. 1. 1.]\n",
      " [1. 1. 1. 1.]]\n",
      "sqrt(nT4/nT2):  [[0.8 0.8]\n",
      " [0.8 0.8]]\n",
      "nT2/nT1:  [[0.8 0.8]\n",
      " [0.8 0.8]]\n",
      "QRTcoef:  [0.8        0.63015532]\n",
      "\n",
      "nQRT: [[ 0.80942421  0.02858161 -0.07429619  0.09084899]\n",
      " [ 0.02858161  0.70466693 -0.116122    0.08567316]\n",
      " [-0.07429619 -0.116122    0.81608075 -0.01116465]\n",
      " [ 0.09084899  0.08567316 -0.01116465  0.80713401]]\n",
      "nABC: [[1. 1. 1. 1.]\n",
      " [1. 1. 1. 1.]\n",
      " [1. 1. 1. 1.]\n",
      " [1. 1. 1. 1.]]\n",
      "sqrt(nT4/nT2):  [[0.8 0.8]\n",
      " [0.8 0.8]]\n",
      "nT2/nT1:  [[0.8 0.8]\n",
      " [0.8 0.8]]\n",
      "QRTcoef:  [0.8       0.6528646]\n",
      "\n",
      "nQRT: [[ 0.5739582   0.12020559 -0.07370766  0.02433882]\n",
      " [ 0.12020559  0.71200499 -0.06454911  0.00556421]\n",
      " [-0.07370766 -0.06454911  1.02759753 -0.07091811]\n",
      " [ 0.02433882  0.00556421 -0.07091811  0.6456901 ]]\n",
      "nABC: [[1. 1. 1. 1.]\n",
      " [1. 1. 1. 1.]\n",
      " [1. 1. 1. 1.]\n",
      " [1. 1. 1. 1.]]\n",
      "sqrt(nT4/nT2):  [[0.8 0.8]\n",
      " [0.8 0.8]]\n",
      "nT2/nT1:  [[0.8 0.8]\n",
      " [0.8 0.8]]\n",
      "QRTcoef:  [0.8        0.82207802]\n",
      "\n",
      "nQRT: [[ 0.82734894 -0.0912243  -0.21423437  0.10462035]\n",
      " [-0.0912243   0.70650115  0.13864668  0.04204443]\n",
      " [-0.21423437  0.13864668  0.66607465 -0.11085645]\n",
      " [ 0.10462035  0.04204443 -0.11085645  0.94755291]]\n",
      "nABC: [[1. 1. 1. 1.]\n",
      " [1. 1. 1. 1.]\n",
      " [1. 1. 1. 1.]\n",
      " [1. 1. 1. 1.]]\n",
      "sqrt(nT4/nT2):  [[0.8 0.8]\n",
      " [0.8 0.8]]\n",
      "nT2/nT1:  [[0.8 0.8]\n",
      " [0.8 0.8]]\n",
      "QRTcoef:  [0.8        0.53285972]\n",
      "\n",
      "nQRT: [[ 0.61382235  0.023916   -0.04399877  0.05922682]\n",
      " [ 0.023916    0.69257052 -0.0428984   0.10137392]\n",
      " [-0.04399877 -0.0428984   0.85652643 -0.01927482]\n",
      " [ 0.05922682  0.10137392 -0.01927482  0.75513282]]\n",
      "nABC: [[1. 1. 1. 1.]\n",
      " [1. 1. 1. 1.]\n",
      " [1. 1. 1. 1.]\n",
      " [1. 1. 1. 1.]]\n",
      "sqrt(nT4/nT2):  [[0.7 0.7]\n",
      " [0.7 0.7]]\n",
      "nT2/nT1:  [[0.7 0.7]\n",
      " [0.7 0.7]]\n",
      "QRTcoef:  [0.7       0.5995685]\n",
      "\n",
      "nQRT: [[ 0.58769163 -0.03940552 -0.10817378  0.04319747]\n",
      " [-0.03940552  0.72087316 -0.04992674  0.10576896]\n",
      " [-0.10817378 -0.04992674  0.64640231  0.00520004]\n",
      " [ 0.04319747  0.10576896  0.00520004  0.8017567 ]]\n",
      "nABC: [[1. 1. 1. 1.]\n",
      " [1. 1. 1. 1.]\n",
      " [1. 1. 1. 1.]\n",
      " [1. 1. 1. 1.]]\n",
      "sqrt(nT4/nT2):  [[0.7 0.7]\n",
      " [0.7 0.7]]\n",
      "nT2/nT1:  [[0.7 0.7]\n",
      " [0.7 0.7]]\n",
      "QRTcoef:  [0.7        0.45248162]\n",
      "\n",
      "nQRT: [[ 0.43017808  0.04458162 -0.05028375 -0.00219231]\n",
      " [ 0.04458162  0.70019449  0.00187056  0.04363794]\n",
      " [-0.05028375  0.00187056  0.66903958 -0.02723992]\n",
      " [-0.00219231  0.04363794 -0.02723992  0.72402538]]\n",
      "nABC: [[1. 1. 1. 1.]\n",
      " [1. 1. 1. 1.]\n",
      " [1. 1. 1. 1.]\n",
      " [1. 1. 1. 1.]]\n",
      "sqrt(nT4/nT2):  [[0.7 0.7]\n",
      " [0.7 0.7]]\n",
      "nT2/nT1:  [[0.7 0.7]\n",
      " [0.7 0.7]]\n",
      "QRTcoef:  [0.7       0.4683277]\n",
      "\n",
      "nQRT: [[ 0.67178371 -0.00121881  0.07214609 -0.063136  ]\n",
      " [-0.00121881  0.58498691  0.04530144 -0.08589157]\n",
      " [ 0.07214609  0.04530144  0.79139895 -0.0564288 ]\n",
      " [-0.063136   -0.08589157 -0.0564288   0.67886794]]\n",
      "nABC: [[1. 1. 1. 1.]\n",
      " [1. 1. 1. 1.]\n",
      " [1. 1. 1. 1.]\n",
      " [1. 1. 1. 1.]]\n",
      "sqrt(nT4/nT2):  [[0.7 0.7]\n",
      " [0.7 0.7]]\n",
      "nT2/nT1:  [[0.7 0.7]\n",
      " [0.7 0.7]]\n",
      "QRTcoef:  [0.7        0.55397927]\n",
      "\n",
      "nQRT: [[ 0.6018305   0.0744506   0.04521599  0.01534627]\n",
      " [ 0.0744506   0.77544939  0.1292871  -0.0127112 ]\n",
      " [ 0.04521599  0.1292871   0.89422364  0.06937143]\n",
      " [ 0.01534627 -0.0127112   0.06937143  0.64409726]]\n",
      "nABC: [[1. 1. 1. 1.]\n",
      " [1. 1. 1. 1.]\n",
      " [1. 1. 1. 1.]\n",
      " [1. 1. 1. 1.]]\n",
      "sqrt(nT4/nT2):  [[0.7 0.7]\n",
      " [0.7 0.7]]\n",
      "nT2/nT1:  [[0.7 0.7]\n",
      " [0.7 0.7]]\n",
      "QRTcoef:  [0.7        0.62595655]\n",
      "\n",
      "nQRT: [[ 0.7279217  -0.04812469 -0.04957678  0.06403128]\n",
      " [-0.04812469  0.54608317  0.04783837  0.08678755]\n",
      " [-0.04957678  0.04783837  0.62928579  0.05457573]\n",
      " [ 0.06403128  0.08678755  0.05457573  0.5402128 ]]\n",
      "nABC: [[1. 1. 1. 1.]\n",
      " [1. 1. 1. 1.]\n",
      " [1. 1. 1. 1.]\n",
      " [1. 1. 1. 1.]]\n",
      "sqrt(nT4/nT2):  [[0.6 0.6]\n",
      " [0.6 0.6]]\n",
      "nT2/nT1:  [[0.6 0.6]\n",
      " [0.6 0.6]]\n",
      "QRTcoef:  [0.6        0.37757147]\n",
      "\n",
      "nQRT: [[ 0.60702201 -0.09466941  0.03477779 -0.01823573]\n",
      " [-0.09466941  0.64958247  0.03078611 -0.03454517]\n",
      " [ 0.03477779  0.03078611  0.570957    0.00260209]\n",
      " [-0.01823573 -0.03454517  0.00260209  0.46855426]]\n",
      "nABC: [[1. 1. 1. 1.]\n",
      " [1. 1. 1. 1.]\n",
      " [1. 1. 1. 1.]\n",
      " [1. 1. 1. 1.]]\n",
      "sqrt(nT4/nT2):  [[0.6 0.6]\n",
      " [0.6 0.6]]\n",
      "nT2/nT1:  [[0.6 0.6]\n",
      " [0.6 0.6]]\n",
      "QRTcoef:  [0.6       0.3425742]\n",
      "\n",
      "nQRT: [[ 0.52415474 -0.05025021  0.020257   -0.00939807]\n",
      " [-0.05025021  0.62126689  0.02528417  0.1519904 ]\n",
      " [ 0.020257    0.02528417  0.55881435  0.01412502]\n",
      " [-0.00939807  0.1519904   0.01412502  0.60283819]]\n",
      "nABC: [[1. 1. 1. 1.]\n",
      " [1. 1. 1. 1.]\n",
      " [1. 1. 1. 1.]\n",
      " [1. 1. 1. 1.]]\n",
      "sqrt(nT4/nT2):  [[0.6 0.6]\n",
      " [0.6 0.6]]\n",
      "nT2/nT1:  [[0.6 0.6]\n",
      " [0.6 0.6]]\n",
      "QRTcoef:  [0.6        0.33528861]\n",
      "\n",
      "nQRT: [[ 0.78357064  0.01653836 -0.07517967  0.0635833 ]\n",
      " [ 0.01653836  0.55682089  0.05704724  0.03497117]\n",
      " [-0.07517967  0.05704724  0.59973576 -0.00693909]\n",
      " [ 0.0635833   0.03497117 -0.00693909  0.56164573]]\n",
      "nABC: [[1. 1. 1. 1.]\n",
      " [1. 1. 1. 1.]\n",
      " [1. 1. 1. 1.]\n",
      " [1. 1. 1. 1.]]\n",
      "sqrt(nT4/nT2):  [[0.6 0.6]\n",
      " [0.6 0.6]]\n",
      "nT2/nT1:  [[0.6 0.6]\n",
      " [0.6 0.6]]\n",
      "QRTcoef:  [0.6        0.35984145]\n",
      "\n",
      "nQRT: [[ 0.52077474 -0.07662712  0.06518708  0.00151766]\n",
      " [-0.07662712  0.49685563  0.02313923  0.03305269]\n",
      " [ 0.06518708  0.02313923  0.49797878 -0.07712862]\n",
      " [ 0.00151766  0.03305269 -0.07712862  0.53793716]]\n",
      "nABC: [[1. 1. 1. 1.]\n",
      " [1. 1. 1. 1.]\n",
      " [1. 1. 1. 1.]\n",
      " [1. 1. 1. 1.]]\n",
      "sqrt(nT4/nT2):  [[0.6 0.6]\n",
      " [0.6 0.6]]\n",
      "nT2/nT1:  [[0.6 0.6]\n",
      " [0.6 0.6]]\n",
      "QRTcoef:  [0.6        0.29878727]\n",
      "\n",
      "nQRT: [[ 0.42939398 -0.00730475 -0.05260164  0.01153861]\n",
      " [-0.00730475  0.38169206  0.05177992 -0.00779497]\n",
      " [-0.05260164  0.05177992  0.44182097  0.01360899]\n",
      " [ 0.01153861 -0.00779497  0.01360899  0.39788877]]\n",
      "nABC: [[1. 1. 1. 1.]\n",
      " [1. 1. 1. 1.]\n",
      " [1. 1. 1. 1.]\n",
      " [1. 1. 1. 1.]]\n",
      "sqrt(nT4/nT2):  [[0.4 0.4]\n",
      " [0.4 0.4]]\n",
      "nT2/nT1:  [[0.4 0.4]\n",
      " [0.4 0.4]]\n",
      "QRTcoef:  [0.4        0.17672839]\n",
      "\n",
      "nQRT: [[ 3.15599033e-01  7.42344955e-03 -1.29047484e-01 -4.58150127e-02]\n",
      " [ 7.42344955e-03  3.08390753e-01  8.78184381e-03 -1.55775855e-02]\n",
      " [-1.29047484e-01  8.78184381e-03  4.85235507e-01 -1.97219332e-04]\n",
      " [-4.58150127e-02 -1.55775855e-02 -1.97219332e-04  4.46963742e-01]]\n",
      "nABC: [[1. 1. 1. 1.]\n",
      " [1. 1. 1. 1.]\n",
      " [1. 1. 1. 1.]\n",
      " [1. 1. 1. 1.]]\n",
      "sqrt(nT4/nT2):  [[0.4 0.4]\n",
      " [0.4 0.4]]\n",
      "nT2/nT1:  [[0.4 0.4]\n",
      " [0.4 0.4]]\n",
      "QRTcoef:  [0.4       0.1940942]\n",
      "\n",
      "nQRT: [[ 0.40994406  0.10099501 -0.03672098 -0.00781961]\n",
      " [ 0.10099501  0.49008843  0.00525447  0.0291951 ]\n",
      " [-0.03672098  0.00525447  0.50855761  0.03849664]\n",
      " [-0.00781961  0.0291951   0.03849664  0.47854975]]\n",
      "nABC: [[1. 1. 1. 1.]\n",
      " [1. 1. 1. 1.]\n",
      " [1. 1. 1. 1.]\n",
      " [1. 1. 1. 1.]]\n",
      "sqrt(nT4/nT2):  [[0.4 0.4]\n",
      " [0.4 0.4]]\n",
      "nT2/nT1:  [[0.4 0.4]\n",
      " [0.4 0.4]]\n",
      "QRTcoef:  [0.4        0.20342304]\n",
      "\n",
      "nQRT: [[ 0.4066666  -0.01809381 -0.06352632 -0.00866995]\n",
      " [-0.01809381  0.43218253 -0.03994571  0.07480366]\n",
      " [-0.06352632 -0.03994571  0.40021728 -0.10658465]\n",
      " [-0.00866995  0.07480366 -0.10658465  0.41636232]]\n",
      "nABC: [[1. 1. 1. 1.]\n",
      " [1. 1. 1. 1.]\n",
      " [1. 1. 1. 1.]\n",
      " [1. 1. 1. 1.]]\n",
      "sqrt(nT4/nT2):  [[0.4 0.4]\n",
      " [0.4 0.4]]\n",
      "nT2/nT1:  [[0.4 0.4]\n",
      " [0.4 0.4]]\n",
      "QRTcoef:  [0.4        0.16008691]\n",
      "\n",
      "nQRT: [[ 0.40270933 -0.05204368 -0.11947172 -0.01208212]\n",
      " [-0.05204368  0.40255639 -0.03375425 -0.01432701]\n",
      " [-0.11947172 -0.03375425  0.48924113 -0.00756756]\n",
      " [-0.01208212 -0.01432701 -0.00756756  0.35411248]]\n",
      "nABC: [[1. 1. 1. 1.]\n",
      " [1. 1. 1. 1.]\n",
      " [1. 1. 1. 1.]\n",
      " [1. 1. 1. 1.]]\n",
      "sqrt(nT4/nT2):  [[0.4 0.4]\n",
      " [0.4 0.4]]\n",
      "nT2/nT1:  [[0.4 0.4]\n",
      " [0.4 0.4]]\n",
      "QRTcoef:  [0.4        0.19569645]\n",
      "\n",
      "nQRT: [[ 0.35074585 -0.02036829  0.06185948  0.01377277]\n",
      " [-0.02036829  0.34224447  0.00938846 -0.02507411]\n",
      " [ 0.06185948  0.00938846  0.36562895  0.02612525]\n",
      " [ 0.01377277 -0.02507411  0.02612525  0.31039966]]\n",
      "nABC: [[1. 1. 1. 1.]\n",
      " [1. 1. 1. 1.]\n",
      " [1. 1. 1. 1.]\n",
      " [1. 1. 1. 1.]]\n",
      "sqrt(nT4/nT2):  [[0.3 0.3]\n",
      " [0.3 0.3]]\n",
      "nT2/nT1:  [[0.3 0.3]\n",
      " [0.3 0.3]]\n",
      "QRTcoef:  [0.3        0.10968868]\n",
      "\n",
      "nQRT: [[ 0.26856391  0.01716654 -0.03639318  0.0213711 ]\n",
      " [ 0.01716654  0.30755881  0.00450353  0.04285756]\n",
      " [-0.03639318  0.00450353  0.34702482  0.02897675]\n",
      " [ 0.0213711   0.04285756  0.02897675  0.33967572]]\n",
      "nABC: [[1. 1. 1. 1.]\n",
      " [1. 1. 1. 1.]\n",
      " [1. 1. 1. 1.]\n",
      " [1. 1. 1. 1.]]\n",
      "sqrt(nT4/nT2):  [[0.3 0.3]\n",
      " [0.3 0.3]]\n",
      "nT2/nT1:  [[0.3 0.3]\n",
      " [0.3 0.3]]\n",
      "QRTcoef:  [0.3        0.10410745]\n",
      "\n",
      "nQRT: [[ 0.32415718 -0.01153187  0.09875683  0.0377658 ]\n",
      " [-0.01153187  0.31918919  0.01697707 -0.02518944]\n",
      " [ 0.09875683  0.01697707  0.38413182 -0.03237106]\n",
      " [ 0.0377658  -0.02518944 -0.03237106  0.37161056]]\n",
      "nABC: [[1. 1. 1. 1.]\n",
      " [1. 1. 1. 1.]\n",
      " [1. 1. 1. 1.]\n",
      " [1. 1. 1. 1.]]\n",
      "sqrt(nT4/nT2):  [[0.3 0.3]\n",
      " [0.3 0.3]]\n",
      "nT2/nT1:  [[0.3 0.3]\n",
      " [0.3 0.3]]\n",
      "QRTcoef:  [0.3        0.11523955]\n",
      "\n",
      "nQRT: [[ 0.25722669 -0.00177508  0.02844015  0.06788745]\n",
      " [-0.00177508  0.38019831  0.05211771 -0.07121023]\n",
      " [ 0.02844015  0.05211771  0.24276732  0.02031659]\n",
      " [ 0.06788745 -0.07121023  0.02031659  0.37069836]]\n",
      "nABC: [[1. 1. 1. 1.]\n",
      " [1. 1. 1. 1.]\n",
      " [1. 1. 1. 1.]\n",
      " [1. 1. 1. 1.]]\n",
      "sqrt(nT4/nT2):  [[0.3 0.3]\n",
      " [0.3 0.3]]\n",
      "nT2/nT1:  [[0.3 0.3]\n",
      " [0.3 0.3]]\n",
      "QRTcoef:  [0.3       0.0728302]\n",
      "\n",
      "nQRT: [[ 0.32283812  0.07581778 -0.01305838 -0.05904482]\n",
      " [ 0.07581778  0.29659752 -0.02321584 -0.05752079]\n",
      " [-0.01305838 -0.02321584  0.32190448  0.01707373]\n",
      " [-0.05904482 -0.05752079  0.01707373  0.25618625]]\n",
      "nABC: [[1. 1. 1. 1.]\n",
      " [1. 1. 1. 1.]\n",
      " [1. 1. 1. 1.]\n",
      " [1. 1. 1. 1.]]\n",
      "sqrt(nT4/nT2):  [[0.3 0.3]\n",
      " [0.3 0.3]]\n",
      "nT2/nT1:  [[0.3 0.3]\n",
      " [0.3 0.3]]\n",
      "QRTcoef:  [0.3        0.09657134]\n",
      "\n",
      "nQRT: [[ 0.15571356  0.00175813 -0.00024107  0.01540388]\n",
      " [ 0.00175813  0.23215639  0.04917377  0.02615875]\n",
      " [-0.00024107  0.04917377  0.18313764 -0.0219556 ]\n",
      " [ 0.01540388  0.02615875 -0.0219556   0.23115595]]\n",
      "nABC: [[1. 1. 1. 1.]\n",
      " [1. 1. 1. 1.]\n",
      " [1. 1. 1. 1.]\n",
      " [1. 1. 1. 1.]]\n",
      "sqrt(nT4/nT2):  [[0.2 0.2]\n",
      " [0.2 0.2]]\n",
      "nT2/nT1:  [[0.2 0.2]\n",
      " [0.2 0.2]]\n",
      "QRTcoef:  [0.2        0.03662753]\n",
      "\n",
      "nQRT: [[ 0.2183727   0.00254866 -0.00194443 -0.01190006]\n",
      " [ 0.00254866  0.2106321  -0.03437416  0.02333125]\n",
      " [-0.00194443 -0.03437416  0.18710189 -0.01489275]\n",
      " [-0.01190006  0.02333125 -0.01489275  0.20967961]]\n",
      "nABC: [[1. 1. 1. 1.]\n",
      " [1. 1. 1. 1.]\n",
      " [1. 1. 1. 1.]\n",
      " [1. 1. 1. 1.]]\n",
      "sqrt(nT4/nT2):  [[0.2 0.2]\n",
      " [0.2 0.2]]\n",
      "nT2/nT1:  [[0.2 0.2]\n",
      " [0.2 0.2]]\n",
      "QRTcoef:  [0.2        0.03742038]\n",
      "\n",
      "nQRT: [[ 0.23143275  0.00142823  0.01376799  0.0064649 ]\n",
      " [ 0.00142823  0.1789459  -0.00916882 -0.00961939]\n",
      " [ 0.01376799 -0.00916882  0.14840203  0.01530925]\n",
      " [ 0.0064649  -0.00961939  0.01530925  0.20598165]]\n",
      "nABC: [[1. 1. 1. 1.]\n",
      " [1. 1. 1. 1.]\n",
      " [1. 1. 1. 1.]\n",
      " [1. 1. 1. 1.]]\n",
      "sqrt(nT4/nT2):  [[0.2 0.2]\n",
      " [0.2 0.2]]\n",
      "nT2/nT1:  [[0.2 0.2]\n",
      " [0.2 0.2]]\n",
      "QRTcoef:  [0.2        0.02968041]\n",
      "\n",
      "nQRT: [[ 0.21801771 -0.01997052  0.02096901 -0.02804993]\n",
      " [-0.01997052  0.17509191 -0.00340515 -0.00396137]\n",
      " [ 0.02096901 -0.00340515  0.24994332  0.00524134]\n",
      " [-0.02804993 -0.00396137  0.00524134  0.18433555]]\n",
      "nABC: [[1. 1. 1. 1.]\n",
      " [1. 1. 1. 1.]\n",
      " [1. 1. 1. 1.]\n",
      " [1. 1. 1. 1.]]\n",
      "sqrt(nT4/nT2):  [[0.2 0.2]\n",
      " [0.2 0.2]]\n",
      "nT2/nT1:  [[0.2 0.2]\n",
      " [0.2 0.2]]\n",
      "QRTcoef:  [0.2        0.04998866]\n",
      "\n",
      "nQRT: [[ 0.21405095  0.00074196 -0.00587327  0.02265626]\n",
      " [ 0.00074196  0.20450066 -0.00412618  0.00199896]\n",
      " [-0.00587327 -0.00412618  0.19811681 -0.00692554]\n",
      " [ 0.02265626  0.00199896 -0.00692554  0.20213589]]\n",
      "nABC: [[1. 1. 1. 1.]\n",
      " [1. 1. 1. 1.]\n",
      " [1. 1. 1. 1.]\n",
      " [1. 1. 1. 1.]]\n",
      "sqrt(nT4/nT2):  [[0.2 0.2]\n",
      " [0.2 0.2]]\n",
      "nT2/nT1:  [[0.2 0.2]\n",
      " [0.2 0.2]]\n",
      "QRTcoef:  [0.2        0.03962336]\n",
      "\n",
      "nQRT: [[ 1.09619767e-01  5.87074925e-03 -7.61924245e-05 -5.85191781e-03]\n",
      " [ 5.87074925e-03  1.07976942e-01 -3.35713544e-03 -3.60046306e-03]\n",
      " [-7.61924245e-05 -3.35713544e-03  9.09501507e-02 -7.43663637e-03]\n",
      " [-5.85191781e-03 -3.60046306e-03 -7.43663637e-03  9.91606248e-02]]\n",
      "nABC: [[1. 1. 1. 1.]\n",
      " [1. 1. 1. 1.]\n",
      " [1. 1. 1. 1.]\n",
      " [1. 1. 1. 1.]]\n",
      "sqrt(nT4/nT2):  [[0.1 0.1]\n",
      " [0.1 0.1]]\n",
      "nT2/nT1:  [[0.1 0.1]\n",
      " [0.1 0.1]]\n",
      "QRTcoef:  [0.1        0.00909502]\n",
      "\n",
      "nQRT: [[ 0.08841339  0.00219273 -0.0025881   0.00967266]\n",
      " [ 0.00219273  0.10803549 -0.00734857  0.00566104]\n",
      " [-0.0025881  -0.00734857  0.09389331  0.00632622]\n",
      " [ 0.00967266  0.00566104  0.00632622  0.10981636]]\n",
      "nABC: [[1. 1. 1. 1.]\n",
      " [1. 1. 1. 1.]\n",
      " [1. 1. 1. 1.]\n",
      " [1. 1. 1. 1.]]\n",
      "sqrt(nT4/nT2):  [[0.1 0.1]\n",
      " [0.1 0.1]]\n",
      "nT2/nT1:  [[0.1 0.1]\n",
      " [0.1 0.1]]\n",
      "QRTcoef:  [0.1        0.00938933]\n",
      "\n",
      "nQRT: [[ 0.10854606 -0.02102698  0.00905081  0.01757456]\n",
      " [-0.02102698  0.10757633  0.00790158  0.00448928]\n",
      " [ 0.00905081  0.00790158  0.09709078  0.01015499]\n",
      " [ 0.01757456  0.00448928  0.01015499  0.13000582]]\n",
      "nABC: [[1. 1. 1. 1.]\n",
      " [1. 1. 1. 1.]\n",
      " [1. 1. 1. 1.]\n",
      " [1. 1. 1. 1.]]\n",
      "sqrt(nT4/nT2):  [[0.1 0.1]\n",
      " [0.1 0.1]]\n",
      "nT2/nT1:  [[0.1 0.1]\n",
      " [0.1 0.1]]\n",
      "QRTcoef:  [0.1        0.00970908]\n",
      "\n",
      "nQRT: [[ 0.11814785  0.00448984  0.003586   -0.00737833]\n",
      " [ 0.00448984  0.1061338  -0.00893907 -0.01303269]\n",
      " [ 0.003586   -0.00893907  0.10260346  0.01184631]\n",
      " [-0.00737833 -0.01303269  0.01184631  0.07989309]]\n",
      "nABC: [[1. 1. 1. 1.]\n",
      " [1. 1. 1. 1.]\n",
      " [1. 1. 1. 1.]\n",
      " [1. 1. 1. 1.]]\n",
      "sqrt(nT4/nT2):  [[0.1 0.1]\n",
      " [0.1 0.1]]\n",
      "nT2/nT1:  [[0.1 0.1]\n",
      " [0.1 0.1]]\n",
      "QRTcoef:  [0.1        0.01026035]\n",
      "\n",
      "nQRT: [[ 0.09061017  0.00274427  0.00759824  0.01518305]\n",
      " [ 0.00274427  0.08924832 -0.00105489  0.00527886]\n",
      " [ 0.00759824 -0.00105489  0.10988309  0.00616254]\n",
      " [ 0.01518305  0.00527886  0.00616254  0.09417788]]\n",
      "nABC: [[1. 1. 1. 1.]\n",
      " [1. 1. 1. 1.]\n",
      " [1. 1. 1. 1.]\n",
      " [1. 1. 1. 1.]]\n",
      "sqrt(nT4/nT2):  [[0.1 0.1]\n",
      " [0.1 0.1]]\n",
      "nT2/nT1:  [[0.1 0.1]\n",
      " [0.1 0.1]]\n",
      "QRTcoef:  [0.1        0.01098831]\n",
      "\n"
     ]
    }
   ],
   "source": [
    "# 色々な固有値分布でオーパラの数値解をたくさん保存するよ その1 [0, ..., 0, lam, ..., lam] (lamの割合は p)\n",
    "for lam in [0.9, 0.8, 0.7, 0.6, 0.4, 0.3, 0.2, 0.1]: #[0.03125, 0.0625, 0.125, 0.25, 0.5, 1.0]:\n",
    "    for p in [1.0]:#[0.1, 0.2, 0.5, 1.0]:\n",
    "        for i in range(5):\n",
    "            num = int(N * p)\n",
    "            lambdas = np.array([0.0] * (N - num) + [lam] * num)\n",
    "            nb_iter = 3000\n",
    "            eta = 1.0\n",
    "            nrslt = calc_opd(N, nb_iter, lambdas, eta)\n",
    "            \n",
    "            pathname = './SCM_erf2_ST_N100_macro_onenonzeroLambda/lam={},p={}'.format(lam, p)\n",
    "            os.makedirs(pathname, exist_ok=True)\n",
    "            np.savez(pathname+'/{}.npz'.format(i),\n",
    "                     opL=nrslt['opL'], opQRT=nrslt['opQRT'],\n",
    "                     mdl0=nrslt['mdl0'], mdl_t=nrslt['mdl_t'])\n",
    "            \n",
    "            plot_macro_dynamics(nrslt['opL'], nrslt['opQRT'], N=N)\n",
    "            plt.savefig(pathname+'/{}.png'.format(i))\n",
    "            plt.close()"
   ]
  },
  {
   "cell_type": "code",
   "execution_count": 195,
   "metadata": {
    "collapsed": false
   },
   "outputs": [
    {
     "name": "stdout",
     "output_type": "stream",
     "text": [
      "nQRT: [[ 0.76018373 -0.12734675  0.04005091 -0.02431084]\n",
      " [-0.12734675  0.83298077  0.10203625 -0.0103973 ]\n",
      " [ 0.04005091  0.10203625  0.950565    0.00585364]\n",
      " [-0.02431084 -0.0103973   0.00585364  0.75901313]]\n",
      "nABC: [[1. 1. 1. 1.]\n",
      " [1. 1. 1. 1.]\n",
      " [1. 1. 1. 1.]\n",
      " [1. 1. 1. 1.]]\n",
      "sqrt(nT4/nT2):  [[1. 1.]\n",
      " [1. 1.]]\n",
      "nT2/nT1:  [[1. 1.]\n",
      " [1. 1.]]\n",
      "QRTcoef:  [1.       0.950565]\n",
      "nb_iter: 10000\n",
      "\n",
      "nQRT: [[ 6.46323288e-01 -6.66840208e-02  3.76004798e-02  3.54307969e-03]\n",
      " [-6.66840208e-02  7.01781072e-01  8.96127242e-02 -3.92111132e-04]\n",
      " [ 3.76004798e-02  8.96127242e-02  8.33066939e-01  1.17198879e-02]\n",
      " [ 3.54307969e-03 -3.92111132e-04  1.17198879e-02  7.18065205e-01]]\n",
      "nABC: [[1. 1. 1. 1.]\n",
      " [1. 1. 1. 1.]\n",
      " [1. 1. 1. 1.]\n",
      " [1. 1. 1. 1.]]\n",
      "sqrt(nT4/nT2):  [[1. 1.]\n",
      " [1. 1.]]\n",
      "nT2/nT1:  [[1. 1.]\n",
      " [1. 1.]]\n",
      "QRTcoef:  [1.         0.83306694]\n",
      "nb_iter: 10000\n",
      "\n",
      "nQRT: [[ 0.58178317 -0.11062954  0.02673827  0.01119818]\n",
      " [-0.11062954  0.58084601  0.11321518  0.00329713]\n",
      " [ 0.02673827  0.11321518  0.76106887  0.06938801]\n",
      " [ 0.01119818  0.00329713  0.06938801  0.60715116]]\n",
      "nABC: [[1. 1. 1. 1.]\n",
      " [1. 1. 1. 1.]\n",
      " [1. 1. 1. 1.]\n",
      " [1. 1. 1. 1.]]\n",
      "sqrt(nT4/nT2):  [[1. 1.]\n",
      " [1. 1.]]\n",
      "nT2/nT1:  [[1. 1.]\n",
      " [1. 1.]]\n",
      "QRTcoef:  [1.         0.76106887]\n",
      "nb_iter: 10000\n",
      "\n",
      "nQRT: [[ 0.45412594 -0.08132645  0.07279719  0.00232991]\n",
      " [-0.08132645  0.4818088   0.11522897  0.02449065]\n",
      " [ 0.07279719  0.11522897  0.64740053  0.03015045]\n",
      " [ 0.00232991  0.02449065  0.03015045  0.57269876]]\n",
      "nABC: [[1. 1. 1. 1.]\n",
      " [1. 1. 1. 1.]\n",
      " [1. 1. 1. 1.]\n",
      " [1. 1. 1. 1.]]\n",
      "sqrt(nT4/nT2):  [[1. 1.]\n",
      " [1. 1.]]\n",
      "nT2/nT1:  [[1. 1.]\n",
      " [1. 1.]]\n",
      "QRTcoef:  [1.         0.64740053]\n",
      "nb_iter: 10000\n",
      "\n",
      "nQRT: [[ 0.37473574 -0.06537551  0.07783007 -0.00610843]\n",
      " [-0.06537551  0.39489367  0.12146946  0.01961719]\n",
      " [ 0.07783007  0.12146946  0.55817356  0.01627833]\n",
      " [-0.00610843  0.01961719  0.01627833  0.49764187]]\n",
      "nABC: [[1. 1. 1. 1.]\n",
      " [1. 1. 1. 1.]\n",
      " [1. 1. 1. 1.]\n",
      " [1. 1. 1. 1.]]\n",
      "sqrt(nT4/nT2):  [[1. 1.]\n",
      " [1. 1.]]\n",
      "nT2/nT1:  [[1. 1.]\n",
      " [1. 1.]]\n",
      "QRTcoef:  [1.         0.55817356]\n",
      "nb_iter: 10000\n",
      "\n",
      "nQRT: [[ 0.68416535 -0.11461207  0.03604581 -0.02187975]\n",
      " [-0.11461207  0.74968269  0.09183263 -0.00935757]\n",
      " [ 0.03604581  0.09183263  0.8555085   0.00526827]\n",
      " [-0.02187975 -0.00935757  0.00526827  0.68311182]]\n",
      "nABC: [[1. 1. 1. 1.]\n",
      " [1. 1. 1. 1.]\n",
      " [1. 1. 1. 1.]\n",
      " [1. 1. 1. 1.]]\n",
      "sqrt(nT4/nT2):  [[0.9 0.9]\n",
      " [0.9 0.9]]\n",
      "nT2/nT1:  [[0.9 0.9]\n",
      " [0.9 0.9]]\n",
      "QRTcoef:  [0.9        0.76995765]\n",
      "nb_iter: 10000\n",
      "\n",
      "nQRT: [[ 5.81690959e-01 -6.00156187e-02  3.38404318e-02  3.18877173e-03]\n",
      " [-6.00156187e-02  6.31602965e-01  8.06514517e-02 -3.52900019e-04]\n",
      " [ 3.38404318e-02  8.06514517e-02  7.49760245e-01  1.05478991e-02]\n",
      " [ 3.18877173e-03 -3.52900019e-04  1.05478991e-02  6.46258684e-01]]\n",
      "nABC: [[1. 1. 1. 1.]\n",
      " [1. 1. 1. 1.]\n",
      " [1. 1. 1. 1.]\n",
      " [1. 1. 1. 1.]]\n",
      "sqrt(nT4/nT2):  [[0.9 0.9]\n",
      " [0.9 0.9]]\n",
      "nT2/nT1:  [[0.9 0.9]\n",
      " [0.9 0.9]]\n",
      "QRTcoef:  [0.9        0.67478422]\n",
      "nb_iter: 10000\n",
      "\n",
      "nQRT: [[ 0.52360485 -0.09956659  0.02406444  0.01007836]\n",
      " [-0.09956659  0.52276141  0.10189366  0.00296742]\n",
      " [ 0.02406444  0.10189366  0.68496198  0.06244921]\n",
      " [ 0.01007836  0.00296742  0.06244921  0.54643605]]\n",
      "nABC: [[1. 1. 1. 1.]\n",
      " [1. 1. 1. 1.]\n",
      " [1. 1. 1. 1.]\n",
      " [1. 1. 1. 1.]]\n",
      "sqrt(nT4/nT2):  [[0.9 0.9]\n",
      " [0.9 0.9]]\n",
      "nT2/nT1:  [[0.9 0.9]\n",
      " [0.9 0.9]]\n",
      "QRTcoef:  [0.9        0.61646579]\n",
      "nb_iter: 10000\n",
      "\n",
      "nQRT: [[ 0.40871334 -0.07319381  0.06551747  0.00209692]\n",
      " [-0.07319381  0.43362792  0.10370608  0.02204158]\n",
      " [ 0.06551747  0.10370608  0.58266047  0.0271354 ]\n",
      " [ 0.00209692  0.02204158  0.0271354   0.51542888]]\n",
      "nABC: [[1. 1. 1. 1.]\n",
      " [1. 1. 1. 1.]\n",
      " [1. 1. 1. 1.]\n",
      " [1. 1. 1. 1.]]\n",
      "sqrt(nT4/nT2):  [[0.9 0.9]\n",
      " [0.9 0.9]]\n",
      "nT2/nT1:  [[0.9 0.9]\n",
      " [0.9 0.9]]\n",
      "QRTcoef:  [0.9        0.52439443]\n",
      "nb_iter: 10000\n",
      "\n",
      "nQRT: [[ 0.33726216 -0.05883796  0.07004707 -0.00549758]\n",
      " [-0.05883796  0.3554043   0.10932252  0.01765547]\n",
      " [ 0.07004707  0.10932252  0.5023562   0.0146505 ]\n",
      " [-0.00549758  0.01765547  0.0146505   0.44787768]]\n",
      "nABC: [[1. 1. 1. 1.]\n",
      " [1. 1. 1. 1.]\n",
      " [1. 1. 1. 1.]\n",
      " [1. 1. 1. 1.]]\n",
      "sqrt(nT4/nT2):  [[0.9 0.9]\n",
      " [0.9 0.9]]\n",
      "nT2/nT1:  [[0.9 0.9]\n",
      " [0.9 0.9]]\n",
      "QRTcoef:  [0.9        0.45212058]\n",
      "nb_iter: 10000\n",
      "\n",
      "nQRT: [[ 0.60814698 -0.1018774   0.03204072 -0.01944867]\n",
      " [-0.1018774   0.66638461  0.081629   -0.00831784]\n",
      " [ 0.03204072  0.081629    0.760452    0.00468291]\n",
      " [-0.01944867 -0.00831784  0.00468291  0.60721051]]\n",
      "nABC: [[1. 1. 1. 1.]\n",
      " [1. 1. 1. 1.]\n",
      " [1. 1. 1. 1.]\n",
      " [1. 1. 1. 1.]]\n",
      "sqrt(nT4/nT2):  [[0.8 0.8]\n",
      " [0.8 0.8]]\n",
      "nT2/nT1:  [[0.8 0.8]\n",
      " [0.8 0.8]]\n",
      "QRTcoef:  [0.8       0.6083616]\n",
      "nb_iter: 10000\n",
      "\n",
      "nQRT: [[ 5.17058630e-01 -5.33472166e-02  3.00803838e-02  2.83446376e-03]\n",
      " [-5.33472166e-02  5.61424858e-01  7.16901793e-02 -3.13688906e-04]\n",
      " [ 3.00803838e-02  7.16901793e-02  6.66453551e-01  9.37591034e-03]\n",
      " [ 2.83446376e-03 -3.13688906e-04  9.37591034e-03  5.74452164e-01]]\n",
      "nABC: [[1. 1. 1. 1.]\n",
      " [1. 1. 1. 1.]\n",
      " [1. 1. 1. 1.]\n",
      " [1. 1. 1. 1.]]\n",
      "sqrt(nT4/nT2):  [[0.8 0.8]\n",
      " [0.8 0.8]]\n",
      "nT2/nT1:  [[0.8 0.8]\n",
      " [0.8 0.8]]\n",
      "QRTcoef:  [0.8        0.53316284]\n",
      "nb_iter: 10000\n",
      "\n",
      "nQRT: [[ 0.46542653 -0.08850364  0.02139061  0.00895854]\n",
      " [-0.08850364  0.46467681  0.09057214  0.00263771]\n",
      " [ 0.02139061  0.09057214  0.6088551   0.05551041]\n",
      " [ 0.00895854  0.00263771  0.05551041  0.48572093]]\n",
      "nABC: [[1. 1. 1. 1.]\n",
      " [1. 1. 1. 1.]\n",
      " [1. 1. 1. 1.]\n",
      " [1. 1. 1. 1.]]\n",
      "sqrt(nT4/nT2):  [[0.8 0.8]\n",
      " [0.8 0.8]]\n",
      "nT2/nT1:  [[0.8 0.8]\n",
      " [0.8 0.8]]\n",
      "QRTcoef:  [0.8        0.48708408]\n",
      "nb_iter: 10000\n",
      "\n",
      "nQRT: [[ 0.36330075 -0.06506116  0.05823775  0.00186393]\n",
      " [-0.06506116  0.38544704  0.09218318  0.01959252]\n",
      " [ 0.05823775  0.09218318  0.51792042  0.02412036]\n",
      " [ 0.00186393  0.01959252  0.02412036  0.458159  ]]\n",
      "nABC: [[1. 1. 1. 1.]\n",
      " [1. 1. 1. 1.]\n",
      " [1. 1. 1. 1.]\n",
      " [1. 1. 1. 1.]]\n",
      "sqrt(nT4/nT2):  [[0.8 0.8]\n",
      " [0.8 0.8]]\n",
      "nT2/nT1:  [[0.8 0.8]\n",
      " [0.8 0.8]]\n",
      "QRTcoef:  [0.8        0.41433634]\n",
      "nb_iter: 10000\n",
      "\n",
      "nQRT: [[ 0.29978859 -0.05230041  0.06226406 -0.00488674]\n",
      " [-0.05230041  0.31591493  0.09717557  0.01569375]\n",
      " [ 0.06226406  0.09717557  0.44653884  0.01302267]\n",
      " [-0.00488674  0.01569375  0.01302267  0.3981135 ]]\n",
      "nABC: [[1. 1. 1. 1.]\n",
      " [1. 1. 1. 1.]\n",
      " [1. 1. 1. 1.]\n",
      " [1. 1. 1. 1.]]\n",
      "sqrt(nT4/nT2):  [[0.8 0.8]\n",
      " [0.8 0.8]]\n",
      "nT2/nT1:  [[0.8 0.8]\n",
      " [0.8 0.8]]\n",
      "QRTcoef:  [0.8        0.35723108]\n",
      "nb_iter: 10000\n",
      "\n",
      "nQRT: [[ 0.53212861 -0.08914272  0.02803563 -0.01701759]\n",
      " [-0.08914272  0.58308654  0.07142538 -0.00727811]\n",
      " [ 0.02803563  0.07142538  0.6653955   0.00409755]\n",
      " [-0.01701759 -0.00727811  0.00409755  0.53130919]]\n",
      "nABC: [[1. 1. 1. 1.]\n",
      " [1. 1. 1. 1.]\n",
      " [1. 1. 1. 1.]\n",
      " [1. 1. 1. 1.]]\n",
      "sqrt(nT4/nT2):  [[0.7 0.7]\n",
      " [0.7 0.7]]\n",
      "nT2/nT1:  [[0.7 0.7]\n",
      " [0.7 0.7]]\n",
      "QRTcoef:  [0.7        0.46577685]\n",
      "nb_iter: 10000\n",
      "\n",
      "nQRT: [[ 4.52426302e-01 -4.66788146e-02  2.63203359e-02  2.48015579e-03]\n",
      " [-4.66788146e-02  4.91246751e-01  6.27289069e-02 -2.74477793e-04]\n",
      " [ 2.63203359e-02  6.27289069e-02  5.83146858e-01  8.20392155e-03]\n",
      " [ 2.48015579e-03 -2.74477793e-04  8.20392155e-03  5.02645643e-01]]\n",
      "nABC: [[1. 1. 1. 1.]\n",
      " [1. 1. 1. 1.]\n",
      " [1. 1. 1. 1.]\n",
      " [1. 1. 1. 1.]]\n",
      "sqrt(nT4/nT2):  [[0.7 0.7]\n",
      " [0.7 0.7]]\n",
      "nT2/nT1:  [[0.7 0.7]\n",
      " [0.7 0.7]]\n",
      "QRTcoef:  [0.7       0.4082028]\n",
      "nb_iter: 10000\n",
      "\n",
      "nQRT: [[ 0.40724822 -0.07744068  0.01871679  0.00783872]\n",
      " [-0.07744068  0.40659221  0.07925063  0.00230799]\n",
      " [ 0.01871679  0.07925063  0.53274821  0.0485716 ]\n",
      " [ 0.00783872  0.00230799  0.0485716   0.42500581]]\n",
      "nABC: [[1. 1. 1. 1.]\n",
      " [1. 1. 1. 1.]\n",
      " [1. 1. 1. 1.]\n",
      " [1. 1. 1. 1.]]\n",
      "sqrt(nT4/nT2):  [[0.7 0.7]\n",
      " [0.7 0.7]]\n",
      "nT2/nT1:  [[0.7 0.7]\n",
      " [0.7 0.7]]\n",
      "QRTcoef:  [0.7        0.37292375]\n",
      "nb_iter: 10000\n",
      "\n",
      "nQRT: [[ 0.31788816 -0.05692852  0.05095803  0.00163094]\n",
      " [-0.05692852  0.33726616  0.08066028  0.01714345]\n",
      " [ 0.05095803  0.08066028  0.45318037  0.02110531]\n",
      " [ 0.00163094  0.01714345  0.02110531  0.40088913]]\n",
      "nABC: [[1. 1. 1. 1.]\n",
      " [1. 1. 1. 1.]\n",
      " [1. 1. 1. 1.]\n",
      " [1. 1. 1. 1.]]\n",
      "sqrt(nT4/nT2):  [[0.7 0.7]\n",
      " [0.7 0.7]]\n",
      "nT2/nT1:  [[0.7 0.7]\n",
      " [0.7 0.7]]\n",
      "QRTcoef:  [0.7        0.31722626]\n",
      "nb_iter: 10000\n",
      "nQRT: [[ 0.26231501 -0.04576286  0.05448105 -0.0042759 ]\n",
      " [-0.04576286  0.27642557  0.08502863  0.01373203]\n",
      " [ 0.05448105  0.08502863  0.39072149  0.01139483]\n",
      " [-0.0042759   0.01373203  0.01139483  0.34834931]]\n",
      "nABC: [[1. 1. 1. 1.]\n",
      " [1. 1. 1. 1.]\n",
      " [1. 1. 1. 1.]\n",
      " [1. 1. 1. 1.]]\n",
      "sqrt(nT4/nT2):  [[0.7 0.7]\n",
      " [0.7 0.7]]\n",
      "nT2/nT1:  [[0.7 0.7]\n",
      " [0.7 0.7]]\n",
      "QRTcoef:  [0.7        0.27350504]\n",
      "nb_iter: 10000\n",
      "\n",
      "nQRT: [[ 0.45611024 -0.07640805  0.02403054 -0.0145865 ]\n",
      " [-0.07640805  0.49978846  0.06122175 -0.00623838]\n",
      " [ 0.02403054  0.06122175  0.570339    0.00351218]\n",
      " [-0.0145865  -0.00623838  0.00351218  0.45540788]]\n",
      "nABC: [[1. 1. 1. 1.]\n",
      " [1. 1. 1. 1.]\n",
      " [1. 1. 1. 1.]\n",
      " [1. 1. 1. 1.]]\n",
      "sqrt(nT4/nT2):  [[0.6 0.6]\n",
      " [0.6 0.6]]\n",
      "nT2/nT1:  [[0.6 0.6]\n",
      " [0.6 0.6]]\n",
      "QRTcoef:  [0.6       0.3422034]\n",
      "nb_iter: 10000\n",
      "\n",
      "nQRT: [[ 3.87793973e-01 -4.00104125e-02  2.25602879e-02  2.12584782e-03]\n",
      " [-4.00104125e-02  4.21068643e-01  5.37676345e-02 -2.35266679e-04]\n",
      " [ 2.25602879e-02  5.37676345e-02  4.99840164e-01  7.03193275e-03]\n",
      " [ 2.12584782e-03 -2.35266679e-04  7.03193275e-03  4.30839123e-01]]\n",
      "nABC: [[1. 1. 1. 1.]\n",
      " [1. 1. 1. 1.]\n",
      " [1. 1. 1. 1.]\n",
      " [1. 1. 1. 1.]]\n",
      "sqrt(nT4/nT2):  [[0.6 0.6]\n",
      " [0.6 0.6]]\n",
      "nT2/nT1:  [[0.6 0.6]\n",
      " [0.6 0.6]]\n",
      "QRTcoef:  [0.6       0.2999041]\n",
      "nb_iter: 10000\n",
      "\n",
      "nQRT: [[ 0.3490699  -0.06637773  0.01604296  0.00671891]\n",
      " [-0.06637773  0.34850761  0.06792911  0.00197828]\n",
      " [ 0.01604296  0.06792911  0.45664132  0.0416328 ]\n",
      " [ 0.00671891  0.00197828  0.0416328   0.3642907 ]]\n",
      "nABC: [[1. 1. 1. 1.]\n",
      " [1. 1. 1. 1.]\n",
      " [1. 1. 1. 1.]\n",
      " [1. 1. 1. 1.]]\n",
      "sqrt(nT4/nT2):  [[0.6 0.6]\n",
      " [0.6 0.6]]\n",
      "nT2/nT1:  [[0.6 0.6]\n",
      " [0.6 0.6]]\n",
      "QRTcoef:  [0.6        0.27398479]\n",
      "nb_iter: 10000\n",
      "\n",
      "nQRT: [[ 0.27247556 -0.04879587  0.04367831  0.00139794]\n",
      " [-0.04879587  0.28908528  0.06913738  0.01469439]\n",
      " [ 0.04367831  0.06913738  0.38844032  0.01809027]\n",
      " [ 0.00139794  0.01469439  0.01809027  0.34361925]]\n",
      "nABC: [[1. 1. 1. 1.]\n",
      " [1. 1. 1. 1.]\n",
      " [1. 1. 1. 1.]\n",
      " [1. 1. 1. 1.]]\n",
      "sqrt(nT4/nT2):  [[0.6 0.6]\n",
      " [0.6 0.6]]\n",
      "nT2/nT1:  [[0.6 0.6]\n",
      " [0.6 0.6]]\n",
      "QRTcoef:  [0.6        0.23306419]\n",
      "nb_iter: 10000\n",
      "\n",
      "nQRT: [[ 0.22484144 -0.03922531  0.04669804 -0.00366506]\n",
      " [-0.03922531  0.2369362   0.07288168  0.01177032]\n",
      " [ 0.04669804  0.07288168  0.33490413  0.009767  ]\n",
      " [-0.00366506  0.01177032  0.009767    0.29858512]]\n",
      "nABC: [[1. 1. 1. 1.]\n",
      " [1. 1. 1. 1.]\n",
      " [1. 1. 1. 1.]\n",
      " [1. 1. 1. 1.]]\n",
      "sqrt(nT4/nT2):  [[0.6 0.6]\n",
      " [0.6 0.6]]\n",
      "nT2/nT1:  [[0.6 0.6]\n",
      " [0.6 0.6]]\n",
      "QRTcoef:  [0.6        0.20094248]\n",
      "nb_iter: 10000\n",
      "\n",
      "nQRT: [[ 0.38009186 -0.06367337  0.02002545 -0.01215542]\n",
      " [-0.06367337  0.41649038  0.05101813 -0.00519865]\n",
      " [ 0.02002545  0.05101813  0.4752825   0.00292682]\n",
      " [-0.01215542 -0.00519865  0.00292682  0.37950657]]\n",
      "nABC: [[1. 1. 1. 1.]\n",
      " [1. 1. 1. 1.]\n",
      " [1. 1. 1. 1.]\n",
      " [1. 1. 1. 1.]]\n",
      "sqrt(nT4/nT2):  [[0.5 0.5]\n",
      " [0.5 0.5]]\n",
      "nT2/nT1:  [[0.5 0.5]\n",
      " [0.5 0.5]]\n",
      "QRTcoef:  [0.5        0.23764125]\n",
      "nb_iter: 10000\n",
      "\n",
      "nQRT: [[ 3.23161644e-01 -3.33420104e-02  1.88002399e-02  1.77153985e-03]\n",
      " [-3.33420104e-02  3.50890536e-01  4.48063621e-02 -1.96055566e-04]\n",
      " [ 1.88002399e-02  4.48063621e-02  4.16533470e-01  5.85994396e-03]\n",
      " [ 1.77153985e-03 -1.96055566e-04  5.85994396e-03  3.59032602e-01]]\n",
      "nABC: [[1. 1. 1. 1.]\n",
      " [1. 1. 1. 1.]\n",
      " [1. 1. 1. 1.]\n",
      " [1. 1. 1. 1.]]\n",
      "sqrt(nT4/nT2):  [[0.5 0.5]\n",
      " [0.5 0.5]]\n",
      "nT2/nT1:  [[0.5 0.5]\n",
      " [0.5 0.5]]\n",
      "QRTcoef:  [0.5        0.20826673]\n",
      "nb_iter: 10000\n",
      "\n",
      "nQRT: [[ 0.29089158 -0.05531477  0.01336913  0.00559909]\n",
      " [-0.05531477  0.29042301  0.05660759  0.00164857]\n",
      " [ 0.01336913  0.05660759  0.38053444  0.034694  ]\n",
      " [ 0.00559909  0.00164857  0.034694    0.30357558]]\n",
      "nABC: [[1. 1. 1. 1.]\n",
      " [1. 1. 1. 1.]\n",
      " [1. 1. 1. 1.]\n",
      " [1. 1. 1. 1.]]\n",
      "sqrt(nT4/nT2):  [[0.5 0.5]\n",
      " [0.5 0.5]]\n",
      "nT2/nT1:  [[0.5 0.5]\n",
      " [0.5 0.5]]\n",
      "QRTcoef:  [0.5        0.19026722]\n",
      "nb_iter: 10000\n",
      "\n",
      "nQRT: [[ 0.22706297 -0.04066323  0.03639859  0.00116495]\n",
      " [-0.04066323  0.2409044   0.05761449  0.01224532]\n",
      " [ 0.03639859  0.05761449  0.32370026  0.01507522]\n",
      " [ 0.00116495  0.01224532  0.01507522  0.28634938]]\n",
      "nABC: [[1. 1. 1. 1.]\n",
      " [1. 1. 1. 1.]\n",
      " [1. 1. 1. 1.]\n",
      " [1. 1. 1. 1.]]\n",
      "sqrt(nT4/nT2):  [[0.5 0.5]\n",
      " [0.5 0.5]]\n",
      "nT2/nT1:  [[0.5 0.5]\n",
      " [0.5 0.5]]\n",
      "QRTcoef:  [0.5        0.16185013]\n",
      "nb_iter: 10000\n",
      "\n",
      "nQRT: [[ 0.18736787 -0.03268776  0.03891504 -0.00305421]\n",
      " [-0.03268776  0.19744683  0.06073473  0.0098086 ]\n",
      " [ 0.03891504  0.06073473  0.27908678  0.00813917]\n",
      " [-0.00305421  0.0098086   0.00813917  0.24882094]]\n",
      "nABC: [[1. 1. 1. 1.]\n",
      " [1. 1. 1. 1.]\n",
      " [1. 1. 1. 1.]\n",
      " [1. 1. 1. 1.]]\n",
      "sqrt(nT4/nT2):  [[0.5 0.5]\n",
      " [0.5 0.5]]\n",
      "nT2/nT1:  [[0.5 0.5]\n",
      " [0.5 0.5]]\n",
      "QRTcoef:  [0.5        0.13954339]\n",
      "nb_iter: 10000\n",
      "\n",
      "nQRT: [[ 0.30407349 -0.0509387   0.01602036 -0.00972433]\n",
      " [-0.0509387   0.33319231  0.0408145  -0.00415892]\n",
      " [ 0.01602036  0.0408145   0.380226    0.00234145]\n",
      " [-0.00972433 -0.00415892  0.00234145  0.30360525]]\n",
      "nABC: [[1. 1. 1. 1.]\n",
      " [1. 1. 1. 1.]\n",
      " [1. 1. 1. 1.]\n",
      " [1. 1. 1. 1.]]\n",
      "sqrt(nT4/nT2):  [[0.4 0.4]\n",
      " [0.4 0.4]]\n",
      "nT2/nT1:  [[0.4 0.4]\n",
      " [0.4 0.4]]\n",
      "QRTcoef:  [0.4       0.1520904]\n",
      "nb_iter: 10000\n",
      "\n",
      "nQRT: [[ 2.58529315e-01 -2.66736083e-02  1.50401919e-02  1.41723188e-03]\n",
      " [-2.66736083e-02  2.80712429e-01  3.58450897e-02 -1.56844453e-04]\n",
      " [ 1.50401919e-02  3.58450897e-02  3.33226776e-01  4.68795517e-03]\n",
      " [ 1.41723188e-03 -1.56844453e-04  4.68795517e-03  2.87226082e-01]]\n",
      "nABC: [[1. 1. 1. 1.]\n",
      " [1. 1. 1. 1.]\n",
      " [1. 1. 1. 1.]\n",
      " [1. 1. 1. 1.]]\n",
      "sqrt(nT4/nT2):  [[0.4 0.4]\n",
      " [0.4 0.4]]\n",
      "nT2/nT1:  [[0.4 0.4]\n",
      " [0.4 0.4]]\n",
      "QRTcoef:  [0.4        0.13329071]\n",
      "nb_iter: 10000\n",
      "\n",
      "nQRT: [[ 0.23271327 -0.04425182  0.01069531  0.00447927]\n",
      " [-0.04425182  0.23233841  0.04528607  0.00131885]\n",
      " [ 0.01069531  0.04528607  0.30442755  0.0277552 ]\n",
      " [ 0.00447927  0.00131885  0.0277552   0.24286047]]\n",
      "nABC: [[1. 1. 1. 1.]\n",
      " [1. 1. 1. 1.]\n",
      " [1. 1. 1. 1.]\n",
      " [1. 1. 1. 1.]]\n",
      "sqrt(nT4/nT2):  [[0.4 0.4]\n",
      " [0.4 0.4]]\n",
      "nT2/nT1:  [[0.4 0.4]\n",
      " [0.4 0.4]]\n",
      "QRTcoef:  [0.4        0.12177102]\n",
      "nb_iter: 10000\n",
      "\n",
      "nQRT: [[ 0.18165038 -0.03253058  0.02911888  0.00093196]\n",
      " [-0.03253058  0.19272352  0.04609159  0.00979626]\n",
      " [ 0.02911888  0.04609159  0.25896021  0.01206018]\n",
      " [ 0.00093196  0.00979626  0.01206018  0.2290795 ]]\n",
      "nABC: [[1. 1. 1. 1.]\n",
      " [1. 1. 1. 1.]\n",
      " [1. 1. 1. 1.]\n",
      " [1. 1. 1. 1.]]\n",
      "sqrt(nT4/nT2):  [[0.4 0.4]\n",
      " [0.4 0.4]]\n",
      "nT2/nT1:  [[0.4 0.4]\n",
      " [0.4 0.4]]\n",
      "QRTcoef:  [0.4        0.10358408]\n",
      "nb_iter: 10000\n",
      "\n",
      "nQRT: [[ 0.14989429 -0.02615021  0.03113203 -0.00244337]\n",
      " [-0.02615021  0.15795747  0.04858779  0.00784688]\n",
      " [ 0.03113203  0.04858779  0.22326942  0.00651133]\n",
      " [-0.00244337  0.00784688  0.00651133  0.19905675]]\n",
      "nABC: [[1. 1. 1. 1.]\n",
      " [1. 1. 1. 1.]\n",
      " [1. 1. 1. 1.]\n",
      " [1. 1. 1. 1.]]\n",
      "sqrt(nT4/nT2):  [[0.4 0.4]\n",
      " [0.4 0.4]]\n",
      "nT2/nT1:  [[0.4 0.4]\n",
      " [0.4 0.4]]\n",
      "QRTcoef:  [0.4        0.08930777]\n",
      "nb_iter: 10000\n",
      "\n",
      "nQRT: [[ 0.22805512 -0.03820402  0.01201527 -0.00729325]\n",
      " [-0.03820402  0.24989423  0.03061088 -0.00311919]\n",
      " [ 0.01201527  0.03061088  0.2851695   0.00175609]\n",
      " [-0.00729325 -0.00311919  0.00175609  0.22770394]]\n",
      "nABC: [[1. 1. 1. 1.]\n",
      " [1. 1. 1. 1.]\n",
      " [1. 1. 1. 1.]\n",
      " [1. 1. 1. 1.]]\n",
      "sqrt(nT4/nT2):  [[0.3 0.3]\n",
      " [0.3 0.3]]\n",
      "nT2/nT1:  [[0.3 0.3]\n",
      " [0.3 0.3]]\n",
      "QRTcoef:  [0.3        0.08555085]\n",
      "nb_iter: 10000\n",
      "\n",
      "nQRT: [[ 1.93896986e-01 -2.00052062e-02  1.12801439e-02  1.06292391e-03]\n",
      " [-2.00052062e-02  2.10534322e-01  2.68838172e-02 -1.17633340e-04]\n",
      " [ 1.12801439e-02  2.68838172e-02  2.49920082e-01  3.51596638e-03]\n",
      " [ 1.06292391e-03 -1.17633340e-04  3.51596638e-03  2.15419561e-01]]\n",
      "nABC: [[1. 1. 1. 1.]\n",
      " [1. 1. 1. 1.]\n",
      " [1. 1. 1. 1.]\n",
      " [1. 1. 1. 1.]]\n",
      "sqrt(nT4/nT2):  [[0.3 0.3]\n",
      " [0.3 0.3]]\n",
      "nT2/nT1:  [[0.3 0.3]\n",
      " [0.3 0.3]]\n",
      "QRTcoef:  [0.3        0.07497602]\n",
      "nb_iter: 10000\n",
      "\n",
      "nQRT: [[ 0.17453495 -0.03318886  0.00802148  0.00335945]\n",
      " [-0.03318886  0.1742538   0.03396455  0.00098914]\n",
      " [ 0.00802148  0.03396455  0.22832066  0.0208164 ]\n",
      " [ 0.00335945  0.00098914  0.0208164   0.18214535]]\n",
      "nABC: [[1. 1. 1. 1.]\n",
      " [1. 1. 1. 1.]\n",
      " [1. 1. 1. 1.]\n",
      " [1. 1. 1. 1.]]\n",
      "sqrt(nT4/nT2):  [[0.3 0.3]\n",
      " [0.3 0.3]]\n",
      "nT2/nT1:  [[0.3 0.3]\n",
      " [0.3 0.3]]\n",
      "QRTcoef:  [0.3       0.0684962]\n",
      "nb_iter: 10000\n",
      "\n",
      "nQRT: [[ 0.13623778 -0.02439794  0.02183916  0.00069897]\n",
      " [-0.02439794  0.14454264  0.03456869  0.00734719]\n",
      " [ 0.02183916  0.03456869  0.19422016  0.00904513]\n",
      " [ 0.00069897  0.00734719  0.00904513  0.17180963]]\n",
      "nABC: [[1. 1. 1. 1.]\n",
      " [1. 1. 1. 1.]\n",
      " [1. 1. 1. 1.]\n",
      " [1. 1. 1. 1.]]\n",
      "sqrt(nT4/nT2):  [[0.3 0.3]\n",
      " [0.3 0.3]]\n",
      "nT2/nT1:  [[0.3 0.3]\n",
      " [0.3 0.3]]\n",
      "QRTcoef:  [0.3        0.05826605]\n",
      "nb_iter: 10000\n",
      "\n",
      "nQRT: [[ 0.11242072 -0.01961265  0.02334902 -0.00183253]\n",
      " [-0.01961265  0.1184681   0.03644084  0.00588516]\n",
      " [ 0.02334902  0.03644084  0.16745207  0.0048835 ]\n",
      " [-0.00183253  0.00588516  0.0048835   0.14929256]]\n",
      "nABC: [[1. 1. 1. 1.]\n",
      " [1. 1. 1. 1.]\n",
      " [1. 1. 1. 1.]\n",
      " [1. 1. 1. 1.]]\n",
      "sqrt(nT4/nT2):  [[0.3 0.3]\n",
      " [0.3 0.3]]\n",
      "nT2/nT1:  [[0.3 0.3]\n",
      " [0.3 0.3]]\n",
      "QRTcoef:  [0.3        0.05023562]\n",
      "nb_iter: 10000\n",
      "\n",
      "nQRT: [[ 0.15203675 -0.02546935  0.00801018 -0.00486217]\n",
      " [-0.02546935  0.16659615  0.02040725 -0.00207946]\n",
      " [ 0.00801018  0.02040725  0.190113    0.00117073]\n",
      " [-0.00486217 -0.00207946  0.00117073  0.15180263]]\n",
      "nABC: [[1. 1. 1. 1.]\n",
      " [1. 1. 1. 1.]\n",
      " [1. 1. 1. 1.]\n",
      " [1. 1. 1. 1.]]\n",
      "sqrt(nT4/nT2):  [[0.2 0.2]\n",
      " [0.2 0.2]]\n",
      "nT2/nT1:  [[0.2 0.2]\n",
      " [0.2 0.2]]\n",
      "QRTcoef:  [0.2       0.0380226]\n",
      "nb_iter: 10000\n",
      "\n",
      "nQRT: [[ 1.29264658e-01 -1.33368042e-02  7.52009596e-03  7.08615939e-04]\n",
      " [-1.33368042e-02  1.40356214e-01  1.79225448e-02 -7.84222264e-05]\n",
      " [ 7.52009596e-03  1.79225448e-02  1.66613388e-01  2.34397758e-03]\n",
      " [ 7.08615939e-04 -7.84222264e-05  2.34397758e-03  1.43613041e-01]]\n",
      "nABC: [[1. 1. 1. 1.]\n",
      " [1. 1. 1. 1.]\n",
      " [1. 1. 1. 1.]\n",
      " [1. 1. 1. 1.]]\n",
      "sqrt(nT4/nT2):  [[0.2 0.2]\n",
      " [0.2 0.2]]\n",
      "nT2/nT1:  [[0.2 0.2]\n",
      " [0.2 0.2]]\n",
      "QRTcoef:  [0.2        0.03332268]\n",
      "nb_iter: 10000\n",
      "\n",
      "\n",
      "nQRT: [[ 0.11635663 -0.02212591  0.00534765  0.00223964]\n",
      " [-0.02212591  0.1161692   0.02264304  0.00065943]\n",
      " [ 0.00534765  0.02264304  0.15221377  0.0138776 ]\n",
      " [ 0.00223964  0.00065943  0.0138776   0.12143023]]\n",
      "nABC: [[1. 1. 1. 1.]\n",
      " [1. 1. 1. 1.]\n",
      " [1. 1. 1. 1.]\n",
      " [1. 1. 1. 1.]]\n",
      "sqrt(nT4/nT2):  [[0.2 0.2]\n",
      " [0.2 0.2]]\n",
      "nT2/nT1:  [[0.2 0.2]\n",
      " [0.2 0.2]]\n",
      "QRTcoef:  [0.2        0.03044275]\n",
      "nb_iter: 10000\n",
      "\n",
      "nQRT: [[ 0.09082519 -0.01626529  0.01455944  0.00046598]\n",
      " [-0.01626529  0.09636176  0.02304579  0.00489813]\n",
      " [ 0.01455944  0.02304579  0.12948011  0.00603009]\n",
      " [ 0.00046598  0.00489813  0.00603009  0.11453975]]\n",
      "nABC: [[1. 1. 1. 1.]\n",
      " [1. 1. 1. 1.]\n",
      " [1. 1. 1. 1.]\n",
      " [1. 1. 1. 1.]]\n",
      "sqrt(nT4/nT2):  [[0.2 0.2]\n",
      " [0.2 0.2]]\n",
      "nT2/nT1:  [[0.2 0.2]\n",
      " [0.2 0.2]]\n",
      "QRTcoef:  [0.2        0.02589602]\n",
      "nb_iter: 10000\n",
      "\n",
      "nQRT: [[ 0.07494715 -0.0130751   0.01556601 -0.00122169]\n",
      " [-0.0130751   0.07897873  0.02429389  0.00392344]\n",
      " [ 0.01556601  0.02429389  0.11163471  0.00325567]\n",
      " [-0.00122169  0.00392344  0.00325567  0.09952837]]\n",
      "nABC: [[1. 1. 1. 1.]\n",
      " [1. 1. 1. 1.]\n",
      " [1. 1. 1. 1.]\n",
      " [1. 1. 1. 1.]]\n",
      "sqrt(nT4/nT2):  [[0.2 0.2]\n",
      " [0.2 0.2]]\n",
      "nT2/nT1:  [[0.2 0.2]\n",
      " [0.2 0.2]]\n",
      "QRTcoef:  [0.2        0.02232694]\n",
      "nb_iter: 10000\n",
      "\n",
      "nQRT: [[ 0.07601837 -0.01273467  0.00400509 -0.00243108]\n",
      " [-0.01273467  0.08329808  0.01020363 -0.00103973]\n",
      " [ 0.00400509  0.01020363  0.0950565   0.00058536]\n",
      " [-0.00243108 -0.00103973  0.00058536  0.07590131]]\n",
      "nABC: [[1. 1. 1. 1.]\n",
      " [1. 1. 1. 1.]\n",
      " [1. 1. 1. 1.]\n",
      " [1. 1. 1. 1.]]\n",
      "sqrt(nT4/nT2):  [[0.1 0.1]\n",
      " [0.1 0.1]]\n",
      "nT2/nT1:  [[0.1 0.1]\n",
      " [0.1 0.1]]\n",
      "QRTcoef:  [0.1        0.00950565]\n",
      "nb_iter: 10000\n",
      "\n",
      "nQRT: [[ 6.46323288e-02 -6.66840208e-03  3.76004798e-03  3.54307969e-04]\n",
      " [-6.66840208e-03  7.01781072e-02  8.96127242e-03 -3.92111132e-05]\n",
      " [ 3.76004798e-03  8.96127242e-03  8.33066939e-02  1.17198879e-03]\n",
      " [ 3.54307969e-04 -3.92111132e-05  1.17198879e-03  7.18065205e-02]]\n",
      "nABC: [[1. 1. 1. 1.]\n",
      " [1. 1. 1. 1.]\n",
      " [1. 1. 1. 1.]\n",
      " [1. 1. 1. 1.]]\n",
      "sqrt(nT4/nT2):  [[0.1 0.1]\n",
      " [0.1 0.1]]\n",
      "nT2/nT1:  [[0.1 0.1]\n",
      " [0.1 0.1]]\n",
      "QRTcoef:  [0.1        0.00833067]\n",
      "nb_iter: 10000\n",
      "\n",
      "nQRT: [[ 0.05817832 -0.01106295  0.00267383  0.00111982]\n",
      " [-0.01106295  0.0580846   0.01132152  0.00032971]\n",
      " [ 0.00267383  0.01132152  0.07610689  0.0069388 ]\n",
      " [ 0.00111982  0.00032971  0.0069388   0.06071512]]\n",
      "nABC: [[1. 1. 1. 1.]\n",
      " [1. 1. 1. 1.]\n",
      " [1. 1. 1. 1.]\n",
      " [1. 1. 1. 1.]]\n",
      "sqrt(nT4/nT2):  [[0.1 0.1]\n",
      " [0.1 0.1]]\n",
      "nT2/nT1:  [[0.1 0.1]\n",
      " [0.1 0.1]]\n",
      "QRTcoef:  [0.1        0.00761069]\n",
      "nb_iter: 10000\n",
      "\n",
      "nQRT: [[ 0.04541259 -0.00813265  0.00727972  0.00023299]\n",
      " [-0.00813265  0.04818088  0.0115229   0.00244906]\n",
      " [ 0.00727972  0.0115229   0.06474005  0.00301504]\n",
      " [ 0.00023299  0.00244906  0.00301504  0.05726988]]\n",
      "nABC: [[1. 1. 1. 1.]\n",
      " [1. 1. 1. 1.]\n",
      " [1. 1. 1. 1.]\n",
      " [1. 1. 1. 1.]]\n",
      "sqrt(nT4/nT2):  [[0.1 0.1]\n",
      " [0.1 0.1]]\n",
      "nT2/nT1:  [[0.1 0.1]\n",
      " [0.1 0.1]]\n",
      "QRTcoef:  [0.1        0.00647401]\n",
      "nb_iter: 10000\n",
      "\n",
      "nQRT: [[ 0.03747357 -0.00653755  0.00778301 -0.00061084]\n",
      " [-0.00653755  0.03948937  0.01214695  0.00196172]\n",
      " [ 0.00778301  0.01214695  0.05581736  0.00162783]\n",
      " [-0.00061084  0.00196172  0.00162783  0.04976419]]\n",
      "nABC: [[1. 1. 1. 1.]\n",
      " [1. 1. 1. 1.]\n",
      " [1. 1. 1. 1.]\n",
      " [1. 1. 1. 1.]]\n",
      "sqrt(nT4/nT2):  [[0.1 0.1]\n",
      " [0.1 0.1]]\n",
      "nT2/nT1:  [[0.1 0.1]\n",
      " [0.1 0.1]]\n",
      "QRTcoef:  [0.1        0.00558174]\n",
      "nb_iter: 10000\n",
      "\n"
     ]
    }
   ],
   "source": [
    "# 色々な固有値分布でオーパラの数値解をたくさん保存するよ その2 [0, ..., 0, lam, ..., lam] (lamの割合は p)\n",
    "# 初期値を共通化！ ⇨ 初期値に依存したプラトーの出方とかのばらつきを考えずに比較可能に．\n",
    "# 乱数のタネを一時的に固定して重みを生成するよ\n",
    "randstate = np.random.get_state()\n",
    "np.random.seed(42)\n",
    "ms = MLP(ls=[N,2,1], nobias=True, act=func_erf2, opt=None)\n",
    "mt = MLP(ls=[N,2,1], nobias=True, act=func_erf2, opt=None)\n",
    "np.random.set_state(randstate)\n",
    "ms.l[1].W.data = np.array([[1, 1]], dtype=np.float32) \n",
    "mt.l[1].W.data = np.array([[1, 1]], dtype=np.float32) \n",
    "\n",
    "for lam in [1.0, 0.9, 0.8, 0.7, 0.6, 0.5, 0.4, 0.3, 0.2, 0.1]:\n",
    "    for p in [1.0, 0.9, 0.8, 0.7, 0.6, 0.5]:\n",
    "        for i in range(1):\n",
    "            num = int(N * p)\n",
    "            lambdas = np.array([0.0] * (N - num) + [lam] * num)\n",
    "            nb_iter = 10000\n",
    "            eta = 1.0\n",
    "            nrslt = calc_opd(N, nb_iter, lambdas, eta, mdl=ms, mdl_t=mt, goal_loss=1e-10)\n",
    "            \n",
    "            pathname = './SCM_erf2_ST_N100_macro_onenonzeroLambda_commonInit/lam={},p={}'.format(lam, p)\n",
    "            os.makedirs(pathname, exist_ok=True)\n",
    "            np.savez(pathname+'/{}.npz'.format(i),\n",
    "                     opL=nrslt['opL'], opQRT=nrslt['opQRT'],\n",
    "                     mdl0=nrslt['mdl0'], mdl_t=nrslt['mdl_t'])\n",
    "            \n",
    "            plot_macro_dynamics(nrslt['opL'], nrslt['opQRT'], N=N)\n",
    "            plt.savefig(pathname+'/{}.png'.format(i))\n",
    "            plt.close()"
   ]
  },
  {
   "cell_type": "code",
   "execution_count": 297,
   "metadata": {
    "collapsed": true
   },
   "outputs": [],
   "source": [
    "def analyze_loss_curve(loss_curve):\n",
    "    '''\n",
    "    loss_curve: loss の時間発展が格納された1d array\n",
    "    '''\n",
    "    converged_flg = np.flatnonzero(loss_curve < 1e-10)\n",
    "    if len(converged_flg) == 0:\n",
    "        return {'converge_time': np.inf}\n",
    "    \n",
    "    converge_time = np.min(converged_flg)\n",
    "    log_loss_curve = np.log(loss_curve[:converge_time])\n",
    "    diff = log_loss_curve[1:] - log_loss_curve[:-1]\n",
    "    converge_logspeed = diff[-1] # < 0\n",
    "    plateau_flg = diff > converge_logspeed / 2\n",
    "    plateau_time_info = []\n",
    "    plateau_logheight_info = []\n",
    "    frac = np.zeros(2)\n",
    "    if plateau_flg[0]: plateau_time_info.append(0)\n",
    "    for i in range(1,len(plateau_flg)):\n",
    "        frac += np.array([log_loss_curve[i], 1])\n",
    "        if plateau_flg[i-1] != plateau_flg[i]:\n",
    "            plateau_time_info.append(i)\n",
    "            if len(plateau_time_info) % 2 == 0:\n",
    "                plateau_logheight_info.append(frac[0]/frac[1])\n",
    "            frac = np.zeros(2)\n",
    "    if plateau_flg[-1]:\n",
    "        plateau_time_info.append(len(plateau_flg))       \n",
    "        if len(plateau_time_info) % 2 == 0:\n",
    "            plateau_logheight_info.append(frac[0]/frac[1])\n",
    "\n",
    "    return {\n",
    "        'converge_time': converge_time,\n",
    "        'converge_logspeed': converge_logspeed,\n",
    "        'plateau_time_info': plateau_time_info, \n",
    "        'plateau_logheight_info': plateau_logheight_info         \n",
    "    }"
   ]
  },
  {
   "cell_type": "code",
   "execution_count": 29,
   "metadata": {
    "collapsed": false
   },
   "outputs": [
    {
     "data": {
      "image/png": "[encoded data removed]",
      "text/plain": [
       "<matplotlib.figure.Figure at 0x1209c37b8>"
      ]
     },
     "metadata": {},
     "output_type": "display_data"
    }
   ],
   "source": [
    "m1_list, sqm4m2_list, h_list, d_list, t_list = [], [], [], [], []\n",
    "pathname = './SCM_erf2_ST_N100_macro_onenonzeroLambda_commonInit/'\n",
    "\n",
    "for filename in glob.glob(pathname + '*/*.npz'):\n",
    "    npz = np.load(filename)\n",
    "    lam, p = map(float, re.match('.*lam=(.*),p=(.*)/.*', filename).groups())\n",
    "    # print(npz['opL'].shape) # (1001,) この 1 はミクロでの N(=100) step に相当するので注意．\n",
    "    lossinfo = analyze_loss_curve(npz['opL'])\n",
    "    if lossinfo['converge_time'] < np.inf: # 収束している場合\n",
    "        assert(len(lossinfo['plateau_time_info']) <= 2) # プラトーには高々一度しか入っていないことを確認\n",
    "        if len(lossinfo['plateau_time_info']) > 0:\n",
    "            plateau_macrostep = lossinfo['plateau_time_info'][1] - lossinfo['plateau_time_info'][0]\n",
    "            plateau_logheight = lossinfo['plateau_logheight_info'][0]\n",
    "        else:\n",
    "            plateau_macrostep = 0\n",
    "            plateau_logheight = np.nan\n",
    "        # (マクロ1ステップは， ミクロNステップ)\n",
    "        m1_list.append(lam * p)\n",
    "        sqm4m2_list.append(lam)\n",
    "        d_list.append(plateau_macrostep)\n",
    "        h_list.append(plateau_logheight)\n",
    "        t_list.append(lossinfo['converge_time'])\n",
    "\n",
    "m1_list = np.array(m1_list)        \n",
    "sqm4m2_list = np.array(sqm4m2_list)        \n",
    "d_list = np.array(d_list)        \n",
    "h_list = np.array(h_list)        \n",
    "t_list = np.array(t_list)        \n",
    "        \n",
    "plt.figure(figsize=(16,4))\n",
    "plt.subplot(131)\n",
    "plt.tricontourf(m1_list, sqm4m2_list, d_list, 20)\n",
    "plt.xlim(0, 1); plt.ylim(0, 1); plt.title('plateau duration (macro steps)');\n",
    "plt.xlabel('$\\\\langle\\\\lambda_i\\\\rangle$'); plt.ylabel('$\\\\sqrt{\\\\langle\\\\lambda_i^4\\\\rangle/\\\\langle\\\\lambda_i^2\\\\rangle}$')\n",
    "ax = plt.gca()\n",
    "plt.colorbar()\n",
    "ax.scatter(m1_list, sqm4m2_list, color='k')\n",
    "plt.subplot(132)\n",
    "valid_idx = np.flatnonzero(h_list == h_list) # nan検出\n",
    "plt.tricontourf(m1_list[valid_idx], sqm4m2_list[valid_idx], h_list[valid_idx], 20) # tricontourf に np.nan 投げると kernelが死ぬのを回避している\n",
    "plt.xlim(0, 1); plt.ylim(0, 1); plt.title('plateau (log)height')\n",
    "plt.xlabel('$\\\\langle\\\\lambda_i\\\\rangle$'); plt.ylabel('$\\\\sqrt{\\\\langle\\\\lambda_i^4\\\\rangle/\\\\langle\\\\lambda_i^2\\\\rangle}$')\n",
    "ax = plt.gca()\n",
    "plt.colorbar()\n",
    "ax.scatter(m1_list, sqm4m2_list, color='k')\n",
    "plt.subplot(133)\n",
    "plt.tricontourf(m1_list, sqm4m2_list, t_list, 20)\n",
    "plt.xlim(0, 1); plt.ylim(0, 1); plt.title('convergence time (macro steps)');\n",
    "plt.xlabel('$\\\\langle\\\\lambda_i\\\\rangle$'); plt.ylabel('$\\\\sqrt{\\\\langle\\\\lambda_i^4\\\\rangle/\\\\langle\\\\lambda_i^2\\\\rangle}$')\n",
    "ax = plt.gca()\n",
    "plt.colorbar()\n",
    "ax.scatter(m1_list, sqm4m2_list, color='k')\n",
    "plt.show()"
   ]
  },
  {
   "cell_type": "code",
   "execution_count": 29,
   "metadata": {
    "collapsed": false,
    "scrolled": false
   },
   "outputs": [
    {
     "data": {
      "image/png": "[encoded data removed]",
      "text/plain": [
       "<matplotlib.figure.Figure at 0x11dc3f0b8>"
      ]
     },
     "metadata": {},
     "output_type": "display_data"
    }
   ],
   "source": [
    "# 上図の対角線部分は p=1 部分，すなわち [lam, ..., lam] の固有値分布の部分なんだけど，\n",
    "# その部分の結果だけをグラフにしてみるよ\n",
    "m1_list, sqm4m2_list, h_list, d_list, t_list = [], [], [], [], []\n",
    "pathname = './SCM_erf2_ST_N100_macro_onenonzeroLambda_commonInit/'\n",
    "\n",
    "for filename in glob.glob(pathname + '*/*.npz'):\n",
    "    npz = np.load(filename)\n",
    "    lam, p = map(float, re.match('.*lam=(.*),p=(.*)/.*', filename).groups())\n",
    "    if p == 1:\n",
    "        lossinfo = analyze_loss_curve(npz['opL'])\n",
    "        if lossinfo['converge_time'] < np.inf: # 収束している場合\n",
    "            assert(len(lossinfo['plateau_time_info']) <= 2) # プラトーには高々一度しか入っていないことを確認\n",
    "            if len(lossinfo['plateau_time_info']) > 0:\n",
    "                plateau_macrostep = lossinfo['plateau_time_info'][1] - lossinfo['plateau_time_info'][0]\n",
    "                plateau_logheight = lossinfo['plateau_logheight_info'][0]\n",
    "            else:\n",
    "                plateau_macrostep = 0\n",
    "                plateau_logheight = np.nan\n",
    "            # (マクロ1ステップは， ミクロNステップ)\n",
    "            m1_list.append(lam * p)\n",
    "            sqm4m2_list.append(lam)\n",
    "            d_list.append(plateau_macrostep)\n",
    "            h_list.append(plateau_logheight)\n",
    "            t_list.append(lossinfo['converge_time'])\n",
    "\n",
    "plt.figure(figsize=(16,4))\n",
    "plt.subplot(131)\n",
    "plt.plot(m1_list, d_list, linestyle='', marker='.', markersize=12)\n",
    "plt.title('plateau duration');\n",
    "plt.xlim(0, 1); plt.ylim(0, None)\n",
    "plt.xlabel('$\\\\langle\\\\lambda_i\\\\rangle$'); plt.ylabel('macro steps')\n",
    "plt.subplot(132)\n",
    "plt.plot(m1_list, np.exp(h_list), linestyle='', marker='.', markersize=12)\n",
    "plt.yscale('log')\n",
    "plt.xlim(0, 1)\n",
    "plt.title('plateau height')\n",
    "plt.xlabel('$\\\\langle\\\\lambda_i\\\\rangle$'); plt.ylabel('loss')\n",
    "plt.subplot(133)\n",
    "plt.plot(m1_list, t_list, linestyle='', marker='.', markersize=12)\n",
    "plt.title('convergence time');\n",
    "plt.xlim(0, 1); plt.ylim(0, None)\n",
    "plt.xlabel('$\\\\langle\\\\lambda_i\\\\rangle$'); plt.ylabel('macro steps')\n",
    "plt.show()"
   ]
  },
  {
   "cell_type": "code",
   "execution_count": 209,
   "metadata": {
    "collapsed": false
   },
   "outputs": [
    {
     "data": {
      "image/png": "[encoded data removed]",
      "text/plain": [
       "<matplotlib.figure.Figure at 0x10f236b38>"
      ]
     },
     "metadata": {},
     "output_type": "display_data"
    }
   ],
   "source": [
    "# 生の学習曲線も見ておこう \n",
    "pathname = './SCM_erf2_ST_N100_macro_onenonzeroLambda_commonInit/'\n",
    "\n",
    "for filename in glob.glob(pathname + '*/*.npz'):\n",
    "    npz = np.load(filename)\n",
    "    lam, p = map(float, re.match('.*lam=(.*),p=(.*)/.*', filename).groups())\n",
    "    if p == 1:\n",
    "        opL = npz['opL']\n",
    "        if opL[-1] != opL[-1] or opL[-1] == np.inf or opL[-1] == -np.inf:\n",
    "            print('!!', filename, ':diverged')\n",
    "            continue\n",
    "        plt.plot(np.arange(len(opL)), opL)\n",
    "plt.yscale('log')\n",
    "plt.xscale('log')\n",
    "plt.show()"
   ]
  },
  {
   "cell_type": "code",
   "execution_count": 219,
   "metadata": {
    "collapsed": true
   },
   "outputs": [],
   "source": [
    "# なお，erfではなくidの場合は・・・"
   ]
  },
  {
   "cell_type": "code",
   "execution_count": 39,
   "metadata": {
    "collapsed": false
   },
   "outputs": [
    {
     "name": "stdout",
     "output_type": "stream",
     "text": [
      "nQRT: [[ 0.8273063  -0.1192889   0.05954009 -0.00732629]\n",
      " [-0.1192889   0.90088715  0.11283072 -0.02027471]\n",
      " [ 0.05954009  0.11283072  1.17370965  0.02937043]\n",
      " [-0.00732629 -0.02027471  0.02937043  0.80423793]]\n",
      "nABC: [[1. 1. 1. 1.]\n",
      " [1. 1. 1. 1.]\n",
      " [1. 1. 1. 1.]\n",
      " [1. 1. 1. 1.]]\n",
      "sqrt(nT4/nT2):  [[1. 1.]\n",
      " [1. 1.]]\n",
      "nT2/nT1:  [[1. 1.]\n",
      " [1. 1.]]\n",
      "QRTcoef:  [1.         1.17370965]\n",
      "nb_iter: 10000\n"
     ]
    },
    {
     "name": "stderr",
     "output_type": "stream",
     "text": [
      "Widget Javascript not detected.  It may not be installed properly. Did you enable the widgetsnbextension? If not, then run \"jupyter nbextension enable --py --sys-prefix widgetsnbextension\"\n",
      "/Users/yoshidayuuki/Documents/lab/momentumSGD/order_parameter_dynamics.py:467: RuntimeWarning: overflow encountered in double_scalars\n",
      "  ret[i,k] -= self.QRTcoef[0] * self.eta * (ABC[i, j] * self.I3(QRT, i, k, j) + ABC[k, j] * self.I3(QRT, k, i, j))\n",
      "/Users/yoshidayuuki/.pyenv/versions/anaconda3-4.2.0/lib/python3.5/site-packages/matplotlib/scale.py:123: RuntimeWarning: overflow encountered in multiply\n",
      "  a = self._handle_nonpos(a * 10.0)\n",
      "/Users/yoshidayuuki/.pyenv/versions/anaconda3-4.2.0/lib/python3.5/site-packages/numpy/core/fromnumeric.py:83: RuntimeWarning: invalid value encountered in reduce\n",
      "  return ufunc.reduce(obj, axis, dtype, out, **passkwargs)\n",
      "/Users/yoshidayuuki/.pyenv/versions/anaconda3-4.2.0/lib/python3.5/site-packages/matplotlib/ticker.py:1597: RuntimeWarning: overflow encountered in power\n",
      "  ticklocs = b ** decades\n"
     ]
    },
    {
     "name": "stdout",
     "output_type": "stream",
     "text": [
      "\n",
      "nQRT: [[ 0.76018373 -0.12734675  0.04005091 -0.02431084]\n",
      " [-0.12734675  0.83298077  0.10203625 -0.0103973 ]\n",
      " [ 0.04005091  0.10203625  0.950565    0.00585364]\n",
      " [-0.02431084 -0.0103973   0.00585364  0.75901313]]\n",
      "nABC: [[1. 1. 1. 1.]\n",
      " [1. 1. 1. 1.]\n",
      " [1. 1. 1. 1.]\n",
      " [1. 1. 1. 1.]]\n",
      "sqrt(nT4/nT2):  [[1. 1.]\n",
      " [1. 1.]]\n",
      "nT2/nT1:  [[1. 1.]\n",
      " [1. 1.]]\n",
      "QRTcoef:  [1.       0.950565]\n",
      "nb_iter: 10000\n"
     ]
    },
    {
     "name": "stderr",
     "output_type": "stream",
     "text": [
      "Widget Javascript not detected.  It may not be installed properly. Did you enable the widgetsnbextension? If not, then run \"jupyter nbextension enable --py --sys-prefix widgetsnbextension\"\n"
     ]
    },
    {
     "name": "stdout",
     "output_type": "stream",
     "text": [
      "\n"
     ]
    },
    {
     "name": "stderr",
     "output_type": "stream",
     "text": [
      "Exception ignored in: 'zmq.backend.cython.message.Frame.__dealloc__'\n",
      "Traceback (most recent call last):\n",
      "  File \"zmq/backend/cython/checkrc.pxd\", line 12, in zmq.backend.cython.checkrc._check_rc (zmq/backend/cython/message.c:4018)\n",
      "KeyboardInterrupt\n"
     ]
    },
    {
     "name": "stdout",
     "output_type": "stream",
     "text": [
      "nQRT: [[ 6.46323288e-01 -6.66840208e-02  3.76004798e-02  3.54307969e-03]\n",
      " [-6.66840208e-02  7.01781072e-01  8.96127242e-02 -3.92111132e-04]\n",
      " [ 3.76004798e-02  8.96127242e-02  8.33066939e-01  1.17198879e-02]\n",
      " [ 3.54307969e-03 -3.92111132e-04  1.17198879e-02  7.18065205e-01]]\n",
      "nABC: [[1. 1. 1. 1.]\n",
      " [1. 1. 1. 1.]\n",
      " [1. 1. 1. 1.]\n",
      " [1. 1. 1. 1.]]\n",
      "sqrt(nT4/nT2):  [[1. 1.]\n",
      " [1. 1.]]\n",
      "nT2/nT1:  [[1. 1.]\n",
      " [1. 1.]]\n",
      "QRTcoef:  [1.         0.83306694]\n",
      "nb_iter: 10000\n"
     ]
    },
    {
     "name": "stderr",
     "output_type": "stream",
     "text": [
      "Widget Javascript not detected.  It may not be installed properly. Did you enable the widgetsnbextension? If not, then run \"jupyter nbextension enable --py --sys-prefix widgetsnbextension\"\n"
     ]
    },
    {
     "name": "stdout",
     "output_type": "stream",
     "text": [
      "\n",
      "nQRT: [[ 0.58178317 -0.11062954  0.02673827  0.01119818]\n",
      " [-0.11062954  0.58084601  0.11321518  0.00329713]\n",
      " [ 0.02673827  0.11321518  0.76106887  0.06938801]\n",
      " [ 0.01119818  0.00329713  0.06938801  0.60715116]]\n",
      "nABC: [[1. 1. 1. 1.]\n",
      " [1. 1. 1. 1.]\n",
      " [1. 1. 1. 1.]\n",
      " [1. 1. 1. 1.]]\n",
      "sqrt(nT4/nT2):  [[1. 1.]\n",
      " [1. 1.]]\n",
      "nT2/nT1:  [[1. 1.]\n",
      " [1. 1.]]\n",
      "QRTcoef:  [1.         0.76106887]\n",
      "nb_iter: 10000\n"
     ]
    },
    {
     "name": "stderr",
     "output_type": "stream",
     "text": [
      "Widget Javascript not detected.  It may not be installed properly. Did you enable the widgetsnbextension? If not, then run \"jupyter nbextension enable --py --sys-prefix widgetsnbextension\"\n"
     ]
    },
    {
     "name": "stdout",
     "output_type": "stream",
     "text": [
      "\n",
      "nQRT: [[ 0.45412594 -0.08132645  0.07279719  0.00232991]\n",
      " [-0.08132645  0.4818088   0.11522897  0.02449065]\n",
      " [ 0.07279719  0.11522897  0.64740053  0.03015045]\n",
      " [ 0.00232991  0.02449065  0.03015045  0.57269876]]\n",
      "nABC: [[1. 1. 1. 1.]\n",
      " [1. 1. 1. 1.]\n",
      " [1. 1. 1. 1.]\n",
      " [1. 1. 1. 1.]]\n",
      "sqrt(nT4/nT2):  [[1. 1.]\n",
      " [1. 1.]]\n",
      "nT2/nT1:  [[1. 1.]\n",
      " [1. 1.]]\n",
      "QRTcoef:  [1.         0.64740053]\n",
      "nb_iter: 10000\n",
      "\n"
     ]
    },
    {
     "name": "stderr",
     "output_type": "stream",
     "text": [
      "Widget Javascript not detected.  It may not be installed properly. Did you enable the widgetsnbextension? If not, then run \"jupyter nbextension enable --py --sys-prefix widgetsnbextension\"\n"
     ]
    },
    {
     "name": "stdout",
     "output_type": "stream",
     "text": [
      "nQRT: [[ 0.37473574 -0.06537551  0.07783007 -0.00610843]\n",
      " [-0.06537551  0.39489367  0.12146946  0.01961719]\n",
      " [ 0.07783007  0.12146946  0.55817356  0.01627833]\n",
      " [-0.00610843  0.01961719  0.01627833  0.49764187]]\n",
      "nABC: [[1. 1. 1. 1.]\n",
      " [1. 1. 1. 1.]\n",
      " [1. 1. 1. 1.]\n",
      " [1. 1. 1. 1.]]\n",
      "sqrt(nT4/nT2):  [[1. 1.]\n",
      " [1. 1.]]\n",
      "nT2/nT1:  [[1. 1.]\n",
      " [1. 1.]]\n",
      "QRTcoef:  [1.         0.55817356]\n",
      "nb_iter: 10000\n",
      "\n"
     ]
    },
    {
     "name": "stderr",
     "output_type": "stream",
     "text": [
      "Widget Javascript not detected.  It may not be installed properly. Did you enable the widgetsnbextension? If not, then run \"jupyter nbextension enable --py --sys-prefix widgetsnbextension\"\n"
     ]
    },
    {
     "name": "stdout",
     "output_type": "stream",
     "text": [
      "nQRT: [[ 0.74457567 -0.10736001  0.05358608 -0.00659366]\n",
      " [-0.10736001  0.81079843  0.10154765 -0.01824724]\n",
      " [ 0.05358608  0.10154765  1.05633868  0.02643339]\n",
      " [-0.00659366 -0.01824724  0.02643339  0.72381413]]\n",
      "nABC: [[1. 1. 1. 1.]\n",
      " [1. 1. 1. 1.]\n",
      " [1. 1. 1. 1.]\n",
      " [1. 1. 1. 1.]]\n",
      "sqrt(nT4/nT2):  [[0.9 0.9]\n",
      " [0.9 0.9]]\n",
      "nT2/nT1:  [[0.9 0.9]\n",
      " [0.9 0.9]]\n",
      "QRTcoef:  [0.9        0.95070482]\n",
      "nb_iter: 10000\n"
     ]
    },
    {
     "name": "stderr",
     "output_type": "stream",
     "text": [
      "Widget Javascript not detected.  It may not be installed properly. Did you enable the widgetsnbextension? If not, then run \"jupyter nbextension enable --py --sys-prefix widgetsnbextension\"\n"
     ]
    },
    {
     "name": "stdout",
     "output_type": "stream",
     "text": [
      "\n"
     ]
    },
    {
     "ename": "KeyboardInterrupt",
     "evalue": "",
     "output_type": "error",
     "traceback": [
      "\u001b[0;31m---------------------------------------------------------------------------\u001b[0m",
      "\u001b[0;31mKeyboardInterrupt\u001b[0m                         Traceback (most recent call last)",
      "\u001b[0;32m<ipython-input-39-5662dde2ee81>\u001b[0m in \u001b[0;36m<module>\u001b[0;34m()\u001b[0m\n\u001b[1;32m     18\u001b[0m             \u001b[0mnb_iter\u001b[0m \u001b[0;34m=\u001b[0m \u001b[0;36m10000\u001b[0m\u001b[0;34m\u001b[0m\u001b[0m\n\u001b[1;32m     19\u001b[0m             \u001b[0meta\u001b[0m \u001b[0;34m=\u001b[0m \u001b[0;36m1.0\u001b[0m\u001b[0;34m\u001b[0m\u001b[0m\n\u001b[0;32m---> 20\u001b[0;31m             \u001b[0mnrslt\u001b[0m \u001b[0;34m=\u001b[0m \u001b[0mcalc_opd\u001b[0m\u001b[0;34m(\u001b[0m\u001b[0mN\u001b[0m\u001b[0;34m,\u001b[0m \u001b[0mnb_iter\u001b[0m\u001b[0;34m,\u001b[0m \u001b[0mlambdas\u001b[0m\u001b[0;34m,\u001b[0m \u001b[0meta\u001b[0m\u001b[0;34m,\u001b[0m \u001b[0mmdl\u001b[0m\u001b[0;34m=\u001b[0m\u001b[0mms\u001b[0m\u001b[0;34m,\u001b[0m \u001b[0mmdl_t\u001b[0m\u001b[0;34m=\u001b[0m\u001b[0mmt\u001b[0m\u001b[0;34m,\u001b[0m \u001b[0mgoal_loss\u001b[0m\u001b[0;34m=\u001b[0m\u001b[0;36m1e-10\u001b[0m\u001b[0;34m,\u001b[0m \u001b[0mact\u001b[0m\u001b[0;34m=\u001b[0m\u001b[0;34m'id'\u001b[0m\u001b[0;34m)\u001b[0m\u001b[0;34m\u001b[0m\u001b[0m\n\u001b[0m\u001b[1;32m     21\u001b[0m \u001b[0;34m\u001b[0m\u001b[0m\n\u001b[1;32m     22\u001b[0m             \u001b[0mpathname\u001b[0m \u001b[0;34m=\u001b[0m \u001b[0;34m'./SCM_id_ST_N100_macro_onenonzeroLambda_commonInit/lam={},p={}'\u001b[0m\u001b[0;34m.\u001b[0m\u001b[0mformat\u001b[0m\u001b[0;34m(\u001b[0m\u001b[0mlam\u001b[0m\u001b[0;34m,\u001b[0m \u001b[0mp\u001b[0m\u001b[0;34m)\u001b[0m\u001b[0;34m\u001b[0m\u001b[0m\n",
      "\u001b[0;32m<ipython-input-17-6c89a0798b6e>\u001b[0m in \u001b[0;36mcalc_opd\u001b[0;34m(N, nb_iter, lambdas, eta, act, mdl, mdl_t, slowing, verbose, goal_loss)\u001b[0m\n\u001b[1;32m     47\u001b[0m \u001b[0;34m\u001b[0m\u001b[0m\n\u001b[1;32m     48\u001b[0m     \u001b[0;32mfor\u001b[0m \u001b[0mit\u001b[0m \u001b[0;32min\u001b[0m \u001b[0mtqdm\u001b[0m\u001b[0;34m(\u001b[0m\u001b[0mrange\u001b[0m\u001b[0;34m(\u001b[0m\u001b[0;36m0\u001b[0m\u001b[0;34m,\u001b[0m\u001b[0mnb_iter\u001b[0m\u001b[0;34m)\u001b[0m\u001b[0;34m)\u001b[0m\u001b[0;34m:\u001b[0m\u001b[0;34m\u001b[0m\u001b[0m\n\u001b[0;32m---> 49\u001b[0;31m         \u001b[0mop\u001b[0m\u001b[0;34m.\u001b[0m\u001b[0mupdate\u001b[0m\u001b[0;34m(\u001b[0m\u001b[0;34m)\u001b[0m\u001b[0;34m\u001b[0m\u001b[0m\n\u001b[0m\u001b[1;32m     50\u001b[0m         \u001b[0mopQRT\u001b[0m\u001b[0;34m[\u001b[0m\u001b[0;36m1\u001b[0m\u001b[0;34m+\u001b[0m\u001b[0mit\u001b[0m\u001b[0;34m,\u001b[0m\u001b[0;34m:\u001b[0m\u001b[0;34m,\u001b[0m\u001b[0;34m:\u001b[0m\u001b[0;34m]\u001b[0m \u001b[0;34m=\u001b[0m \u001b[0mop\u001b[0m\u001b[0;34m.\u001b[0m\u001b[0mQRT\u001b[0m\u001b[0;34m.\u001b[0m\u001b[0mcopy\u001b[0m\u001b[0;34m(\u001b[0m\u001b[0;34m)\u001b[0m\u001b[0;34m\u001b[0m\u001b[0m\n\u001b[1;32m     51\u001b[0m         \u001b[0mopL\u001b[0m\u001b[0;34m[\u001b[0m\u001b[0;36m1\u001b[0m\u001b[0;34m+\u001b[0m\u001b[0mit\u001b[0m\u001b[0;34m]\u001b[0m \u001b[0;34m=\u001b[0m \u001b[0mop\u001b[0m\u001b[0;34m.\u001b[0m\u001b[0meps\u001b[0m\u001b[0;34m(\u001b[0m\u001b[0;34m)\u001b[0m\u001b[0;34m\u001b[0m\u001b[0m\n",
      "\u001b[0;32m/Users/yoshidayuuki/Documents/lab/momentumSGD/order_parameter_dynamics.py\u001b[0m in \u001b[0;36mupdate\u001b[0;34m(self, deterministic, hiddenvoltage, inputdata)\u001b[0m\n\u001b[1;32m    332\u001b[0m                 \u001b[0mdQRT2\u001b[0m \u001b[0;34m=\u001b[0m \u001b[0mself\u001b[0m\u001b[0;34m.\u001b[0m\u001b[0mdeltaQRT\u001b[0m\u001b[0;34m(\u001b[0m\u001b[0mself\u001b[0m\u001b[0;34m.\u001b[0m\u001b[0mQRT\u001b[0m\u001b[0;34m+\u001b[0m\u001b[0mdQRT\u001b[0m\u001b[0;34m/\u001b[0m\u001b[0;36m2\u001b[0m\u001b[0;34m,\u001b[0m \u001b[0mself\u001b[0m\u001b[0;34m.\u001b[0m\u001b[0mABC\u001b[0m\u001b[0;34m+\u001b[0m\u001b[0mdABC\u001b[0m\u001b[0;34m/\u001b[0m\u001b[0;36m2\u001b[0m\u001b[0;34m,\u001b[0m \u001b[0mcalcmode\u001b[0m\u001b[0;34m=\u001b[0m\u001b[0mself\u001b[0m\u001b[0;34m.\u001b[0m\u001b[0mcalcmode\u001b[0m\u001b[0;34m)\u001b[0m\u001b[0;34m\u001b[0m\u001b[0m\n\u001b[1;32m    333\u001b[0m                 \u001b[0mdABC2\u001b[0m \u001b[0;34m=\u001b[0m \u001b[0mself\u001b[0m\u001b[0;34m.\u001b[0m\u001b[0mdeltaABC\u001b[0m\u001b[0;34m(\u001b[0m\u001b[0mself\u001b[0m\u001b[0;34m.\u001b[0m\u001b[0mQRT\u001b[0m\u001b[0;34m+\u001b[0m\u001b[0mdQRT\u001b[0m\u001b[0;34m/\u001b[0m\u001b[0;36m2\u001b[0m\u001b[0;34m,\u001b[0m \u001b[0mself\u001b[0m\u001b[0;34m.\u001b[0m\u001b[0mABC\u001b[0m\u001b[0;34m+\u001b[0m\u001b[0mdABC\u001b[0m\u001b[0;34m/\u001b[0m\u001b[0;36m2\u001b[0m\u001b[0;34m,\u001b[0m \u001b[0mcalcmode\u001b[0m\u001b[0;34m=\u001b[0m\u001b[0mself\u001b[0m\u001b[0;34m.\u001b[0m\u001b[0mcalcmode\u001b[0m\u001b[0;34m)\u001b[0m\u001b[0;34m\u001b[0m\u001b[0m\n\u001b[0;32m--> 334\u001b[0;31m                 \u001b[0mdQRT3\u001b[0m \u001b[0;34m=\u001b[0m \u001b[0mself\u001b[0m\u001b[0;34m.\u001b[0m\u001b[0mdeltaQRT\u001b[0m\u001b[0;34m(\u001b[0m\u001b[0mself\u001b[0m\u001b[0;34m.\u001b[0m\u001b[0mQRT\u001b[0m\u001b[0;34m+\u001b[0m\u001b[0mdQRT2\u001b[0m\u001b[0;34m/\u001b[0m\u001b[0;36m2\u001b[0m\u001b[0;34m,\u001b[0m \u001b[0mself\u001b[0m\u001b[0;34m.\u001b[0m\u001b[0mABC\u001b[0m\u001b[0;34m+\u001b[0m\u001b[0mdABC2\u001b[0m\u001b[0;34m/\u001b[0m\u001b[0;36m2\u001b[0m\u001b[0;34m,\u001b[0m \u001b[0mcalcmode\u001b[0m\u001b[0;34m=\u001b[0m\u001b[0mself\u001b[0m\u001b[0;34m.\u001b[0m\u001b[0mcalcmode\u001b[0m\u001b[0;34m)\u001b[0m\u001b[0;34m\u001b[0m\u001b[0m\n\u001b[0m\u001b[1;32m    335\u001b[0m                 \u001b[0mdABC3\u001b[0m \u001b[0;34m=\u001b[0m \u001b[0mself\u001b[0m\u001b[0;34m.\u001b[0m\u001b[0mdeltaABC\u001b[0m\u001b[0;34m(\u001b[0m\u001b[0mself\u001b[0m\u001b[0;34m.\u001b[0m\u001b[0mQRT\u001b[0m\u001b[0;34m+\u001b[0m\u001b[0mdQRT2\u001b[0m\u001b[0;34m/\u001b[0m\u001b[0;36m2\u001b[0m\u001b[0;34m,\u001b[0m \u001b[0mself\u001b[0m\u001b[0;34m.\u001b[0m\u001b[0mABC\u001b[0m\u001b[0;34m+\u001b[0m\u001b[0mdABC2\u001b[0m\u001b[0;34m/\u001b[0m\u001b[0;36m2\u001b[0m\u001b[0;34m,\u001b[0m \u001b[0mcalcmode\u001b[0m\u001b[0;34m=\u001b[0m\u001b[0mself\u001b[0m\u001b[0;34m.\u001b[0m\u001b[0mcalcmode\u001b[0m\u001b[0;34m)\u001b[0m\u001b[0;34m\u001b[0m\u001b[0m\n\u001b[1;32m    336\u001b[0m                 \u001b[0mdQRT4\u001b[0m \u001b[0;34m=\u001b[0m \u001b[0mself\u001b[0m\u001b[0;34m.\u001b[0m\u001b[0mdeltaQRT\u001b[0m\u001b[0;34m(\u001b[0m\u001b[0mself\u001b[0m\u001b[0;34m.\u001b[0m\u001b[0mQRT\u001b[0m\u001b[0;34m+\u001b[0m\u001b[0mdQRT3\u001b[0m\u001b[0;34m,\u001b[0m \u001b[0mself\u001b[0m\u001b[0;34m.\u001b[0m\u001b[0mABC\u001b[0m\u001b[0;34m+\u001b[0m\u001b[0mdABC3\u001b[0m\u001b[0;34m,\u001b[0m \u001b[0mcalcmode\u001b[0m\u001b[0;34m=\u001b[0m\u001b[0mself\u001b[0m\u001b[0;34m.\u001b[0m\u001b[0mcalcmode\u001b[0m\u001b[0;34m)\u001b[0m\u001b[0;34m\u001b[0m\u001b[0m\n",
      "\u001b[0;32m/Users/yoshidayuuki/Documents/lab/momentumSGD/order_parameter_dynamics.py\u001b[0m in \u001b[0;36mdeltaQRT\u001b[0;34m(self, QRT, ABC, calcmode)\u001b[0m\n\u001b[1;32m    465\u001b[0m                         \u001b[0mret\u001b[0m\u001b[0;34m[\u001b[0m\u001b[0mi\u001b[0m\u001b[0;34m,\u001b[0m\u001b[0mk\u001b[0m\u001b[0;34m]\u001b[0m \u001b[0;34m+=\u001b[0m \u001b[0mself\u001b[0m\u001b[0;34m.\u001b[0m\u001b[0mQRTcoef\u001b[0m\u001b[0;34m[\u001b[0m\u001b[0;36m0\u001b[0m\u001b[0;34m]\u001b[0m \u001b[0;34m*\u001b[0m \u001b[0mself\u001b[0m\u001b[0;34m.\u001b[0m\u001b[0meta\u001b[0m \u001b[0;34m*\u001b[0m \u001b[0;34m(\u001b[0m\u001b[0mABC\u001b[0m\u001b[0;34m[\u001b[0m\u001b[0mi\u001b[0m\u001b[0;34m,\u001b[0m \u001b[0mself\u001b[0m\u001b[0;34m.\u001b[0m\u001b[0mK\u001b[0m\u001b[0;34m+\u001b[0m\u001b[0mn\u001b[0m\u001b[0;34m]\u001b[0m \u001b[0;34m*\u001b[0m \u001b[0mself\u001b[0m\u001b[0;34m.\u001b[0m\u001b[0mI3\u001b[0m\u001b[0;34m(\u001b[0m\u001b[0mQRT\u001b[0m\u001b[0;34m,\u001b[0m \u001b[0mi\u001b[0m\u001b[0;34m,\u001b[0m \u001b[0mk\u001b[0m\u001b[0;34m,\u001b[0m \u001b[0mself\u001b[0m\u001b[0;34m.\u001b[0m\u001b[0mK\u001b[0m\u001b[0;34m+\u001b[0m\u001b[0mn\u001b[0m\u001b[0;34m)\u001b[0m \u001b[0;34m+\u001b[0m \u001b[0mABC\u001b[0m\u001b[0;34m[\u001b[0m\u001b[0mk\u001b[0m\u001b[0;34m,\u001b[0m \u001b[0mself\u001b[0m\u001b[0;34m.\u001b[0m\u001b[0mK\u001b[0m\u001b[0;34m+\u001b[0m\u001b[0mn\u001b[0m\u001b[0;34m]\u001b[0m \u001b[0;34m*\u001b[0m \u001b[0mself\u001b[0m\u001b[0;34m.\u001b[0m\u001b[0mI3\u001b[0m\u001b[0;34m(\u001b[0m\u001b[0mQRT\u001b[0m\u001b[0;34m,\u001b[0m \u001b[0mk\u001b[0m\u001b[0;34m,\u001b[0m \u001b[0mi\u001b[0m\u001b[0;34m,\u001b[0m \u001b[0mself\u001b[0m\u001b[0;34m.\u001b[0m\u001b[0mK\u001b[0m\u001b[0;34m+\u001b[0m\u001b[0mn\u001b[0m\u001b[0;34m)\u001b[0m\u001b[0;34m)\u001b[0m\u001b[0;34m\u001b[0m\u001b[0m\n\u001b[1;32m    466\u001b[0m                     \u001b[0;32mfor\u001b[0m \u001b[0mj\u001b[0m \u001b[0;32min\u001b[0m \u001b[0mrange\u001b[0m\u001b[0;34m(\u001b[0m\u001b[0mself\u001b[0m\u001b[0;34m.\u001b[0m\u001b[0mK\u001b[0m\u001b[0;34m)\u001b[0m\u001b[0;34m:\u001b[0m\u001b[0;34m\u001b[0m\u001b[0m\n\u001b[0;32m--> 467\u001b[0;31m                         \u001b[0mret\u001b[0m\u001b[0;34m[\u001b[0m\u001b[0mi\u001b[0m\u001b[0;34m,\u001b[0m\u001b[0mk\u001b[0m\u001b[0;34m]\u001b[0m \u001b[0;34m-=\u001b[0m \u001b[0mself\u001b[0m\u001b[0;34m.\u001b[0m\u001b[0mQRTcoef\u001b[0m\u001b[0;34m[\u001b[0m\u001b[0;36m0\u001b[0m\u001b[0;34m]\u001b[0m \u001b[0;34m*\u001b[0m \u001b[0mself\u001b[0m\u001b[0;34m.\u001b[0m\u001b[0meta\u001b[0m \u001b[0;34m*\u001b[0m \u001b[0;34m(\u001b[0m\u001b[0mABC\u001b[0m\u001b[0;34m[\u001b[0m\u001b[0mi\u001b[0m\u001b[0;34m,\u001b[0m \u001b[0mj\u001b[0m\u001b[0;34m]\u001b[0m \u001b[0;34m*\u001b[0m \u001b[0mself\u001b[0m\u001b[0;34m.\u001b[0m\u001b[0mI3\u001b[0m\u001b[0;34m(\u001b[0m\u001b[0mQRT\u001b[0m\u001b[0;34m,\u001b[0m \u001b[0mi\u001b[0m\u001b[0;34m,\u001b[0m \u001b[0mk\u001b[0m\u001b[0;34m,\u001b[0m \u001b[0mj\u001b[0m\u001b[0;34m)\u001b[0m \u001b[0;34m+\u001b[0m \u001b[0mABC\u001b[0m\u001b[0;34m[\u001b[0m\u001b[0mk\u001b[0m\u001b[0;34m,\u001b[0m \u001b[0mj\u001b[0m\u001b[0;34m]\u001b[0m \u001b[0;34m*\u001b[0m \u001b[0mself\u001b[0m\u001b[0;34m.\u001b[0m\u001b[0mI3\u001b[0m\u001b[0;34m(\u001b[0m\u001b[0mQRT\u001b[0m\u001b[0;34m,\u001b[0m \u001b[0mk\u001b[0m\u001b[0;34m,\u001b[0m \u001b[0mi\u001b[0m\u001b[0;34m,\u001b[0m \u001b[0mj\u001b[0m\u001b[0;34m)\u001b[0m\u001b[0;34m)\u001b[0m\u001b[0;34m\u001b[0m\u001b[0m\n\u001b[0m\u001b[1;32m    468\u001b[0m                     \u001b[0;32mif\u001b[0m \u001b[0;34m(\u001b[0m\u001b[0;32mnot\u001b[0m \u001b[0mself\u001b[0m\u001b[0;34m.\u001b[0m\u001b[0mignore_etasq\u001b[0m\u001b[0;34m[\u001b[0m\u001b[0;36m0\u001b[0m\u001b[0;34m]\u001b[0m\u001b[0;34m)\u001b[0m\u001b[0;34m:\u001b[0m\u001b[0;34m\u001b[0m\u001b[0m\n\u001b[1;32m    469\u001b[0m                         \u001b[0;32mfor\u001b[0m \u001b[0mp\u001b[0m \u001b[0;32min\u001b[0m \u001b[0mrange\u001b[0m\u001b[0;34m(\u001b[0m\u001b[0mself\u001b[0m\u001b[0;34m.\u001b[0m\u001b[0mK\u001b[0m\u001b[0;34m+\u001b[0m\u001b[0mself\u001b[0m\u001b[0;34m.\u001b[0m\u001b[0mM\u001b[0m\u001b[0;34m)\u001b[0m\u001b[0;34m:\u001b[0m\u001b[0;34m\u001b[0m\u001b[0m\n",
      "\u001b[0;32m/Users/yoshidayuuki/Documents/lab/momentumSGD/order_parameter_dynamics.py\u001b[0m in \u001b[0;36mI3\u001b[0;34m(self, QRT, i, j, k)\u001b[0m\n\u001b[1;32m    287\u001b[0m             \u001b[0;32mreturn\u001b[0m \u001b[0mself\u001b[0m\u001b[0;34m.\u001b[0m\u001b[0mact\u001b[0m\u001b[0;34m.\u001b[0m\u001b[0mgpx1x2gx3_\u001b[0m\u001b[0;34m(\u001b[0m\u001b[0mx\u001b[0m\u001b[0;34m=\u001b[0m\u001b[0mself\u001b[0m\u001b[0;34m.\u001b[0m\u001b[0mhiddenvoltage\u001b[0m\u001b[0;34m[\u001b[0m\u001b[0;34m[\u001b[0m\u001b[0mi\u001b[0m\u001b[0;34m,\u001b[0m\u001b[0mj\u001b[0m\u001b[0;34m,\u001b[0m\u001b[0mk\u001b[0m\u001b[0;34m]\u001b[0m\u001b[0;34m]\u001b[0m\u001b[0;34m.\u001b[0m\u001b[0mreshape\u001b[0m\u001b[0;34m(\u001b[0m\u001b[0;36m1\u001b[0m\u001b[0;34m,\u001b[0m\u001b[0;36m3\u001b[0m\u001b[0;34m)\u001b[0m\u001b[0;34m)\u001b[0m\u001b[0;34m\u001b[0m\u001b[0m\n\u001b[1;32m    288\u001b[0m         \u001b[0;32melse\u001b[0m\u001b[0;34m:\u001b[0m\u001b[0;34m\u001b[0m\u001b[0m\n\u001b[0;32m--> 289\u001b[0;31m             \u001b[0;32mreturn\u001b[0m \u001b[0mself\u001b[0m\u001b[0;34m.\u001b[0m\u001b[0mact\u001b[0m\u001b[0;34m.\u001b[0m\u001b[0mgpx1x2gx3\u001b[0m\u001b[0;34m(\u001b[0m\u001b[0mQRT\u001b[0m\u001b[0;34m[\u001b[0m\u001b[0;34m[\u001b[0m\u001b[0mi\u001b[0m\u001b[0;34m,\u001b[0m\u001b[0mj\u001b[0m\u001b[0;34m,\u001b[0m\u001b[0mk\u001b[0m\u001b[0;34m]\u001b[0m\u001b[0;34m,\u001b[0m\u001b[0;34m:\u001b[0m\u001b[0;34m]\u001b[0m\u001b[0;34m[\u001b[0m\u001b[0;34m:\u001b[0m\u001b[0;34m,\u001b[0m\u001b[0;34m[\u001b[0m\u001b[0mi\u001b[0m\u001b[0;34m,\u001b[0m\u001b[0mj\u001b[0m\u001b[0;34m,\u001b[0m\u001b[0mk\u001b[0m\u001b[0;34m]\u001b[0m\u001b[0;34m]\u001b[0m\u001b[0;34m)\u001b[0m\u001b[0;34m\u001b[0m\u001b[0m\n\u001b[0m\u001b[1;32m    290\u001b[0m     \u001b[0;32mdef\u001b[0m \u001b[0mI4\u001b[0m\u001b[0;34m(\u001b[0m\u001b[0mself\u001b[0m\u001b[0;34m,\u001b[0m \u001b[0mQRT\u001b[0m\u001b[0;34m,\u001b[0m \u001b[0mi\u001b[0m\u001b[0;34m,\u001b[0m \u001b[0mj\u001b[0m\u001b[0;34m,\u001b[0m \u001b[0mk\u001b[0m\u001b[0;34m,\u001b[0m \u001b[0ml\u001b[0m\u001b[0;34m)\u001b[0m\u001b[0;34m:\u001b[0m\u001b[0;34m\u001b[0m\u001b[0m\n\u001b[1;32m    291\u001b[0m         \u001b[0;32mif\u001b[0m \u001b[0;34m(\u001b[0m\u001b[0mself\u001b[0m\u001b[0;34m.\u001b[0m\u001b[0mdeterministic\u001b[0m\u001b[0;34m)\u001b[0m\u001b[0;34m:\u001b[0m\u001b[0;34m\u001b[0m\u001b[0m\n",
      "\u001b[0;31mKeyboardInterrupt\u001b[0m: "
     ]
    }
   ],
   "source": [
    "# 色々な固有値分布でオーパラの数値解をたくさん保存するよ その2 [0, ..., 0, lam, ..., lam] (lamの割合は p)              の，  id  バージョン\n",
    "# 初期値を共通化！ ⇨ 初期値に依存したプラトーの出方とかのばらつきを考えずに比較可能に．\n",
    "# 乱数のタネを一時的に固定して重みを生成するよ\n",
    "N = 100\n",
    "randstate = np.random.get_state()\n",
    "np.random.seed(42)\n",
    "ms = MLP(ls=[N,2,1], nobias=True, act=F.identity, opt=None)\n",
    "mt = MLP(ls=[N,2,1], nobias=True, act=F.identity, opt=None)\n",
    "np.random.set_state(randstate)\n",
    "ms.l[1].W.data = np.array([[1, 1]], dtype=np.float32) \n",
    "mt.l[1].W.data = np.array([[1, 1]], dtype=np.float32) \n",
    "\n",
    "for lam in [1.0, 0.9, 0.8, 0.7, 0.6, 0.5, 0.4, 0.3, 0.2, 0.1]:\n",
    "    for p in [1.0, 0.9, 0.8, 0.7, 0.6, 0.5]:\n",
    "        for i in range(1):\n",
    "            num = int(N * p)\n",
    "            lambdas = np.array([0.0] * (N - num) + [lam] * num)\n",
    "            nb_iter = 10000\n",
    "            eta = 1.0\n",
    "            nrslt = calc_opd(N, nb_iter, lambdas, eta, mdl=ms, mdl_t=mt, goal_loss=1e-10, act='id')\n",
    "            \n",
    "            pathname = './SCM_id_ST_N100_macro_onenonzeroLambda_commonInit/lam={},p={}'.format(lam, p)\n",
    "            os.makedirs(pathname, exist_ok=True)\n",
    "            np.savez(pathname+'/{}.npz'.format(i),\n",
    "                     opL=nrslt['opL'], opQRT=nrslt['opQRT'],\n",
    "                     mdl0=nrslt['mdl0'], mdl_t=nrslt['mdl_t'])\n",
    "            \n",
    "            plot_macro_dynamics(nrslt['opL'], nrslt['opQRT'], N=N)\n",
    "            plt.savefig(pathname+'/{}.png'.format(i))\n",
    "            plt.close()"
   ]
  },
  {
   "cell_type": "code",
   "execution_count": 58,
   "metadata": {
    "collapsed": false
   },
   "outputs": [
    {
     "name": "stdout",
     "output_type": "stream",
     "text": [
      "!! ./SCM_id_ST_N100_macro_onenonzeroLambda_commonInit/lam=0.9,p=1.0/0.npz :diverged\n",
      "!! ./SCM_id_ST_N100_macro_onenonzeroLambda_commonInit/lam=1.0,p=1.0/0.npz :diverged\n",
      "[0 0 0 0 0 0 0 0 0 0 0 0 0 0 0 0 0 0 0 0 0 0 0 0 0 0 0 0 0 0 0 0 0 0 0 0 0\n",
      " 0 0 0 0 0 0 0 0 0 0 0 0 0 0 0 0 0 0 0 0 0] [ 54  55  57  58  59  61  30  31  32  33  34  36  22  23  24  25  27  29\n",
      "  19  20  21  22  24  27  18  18  20  21  23  28  17  18  19  20  23  33\n",
      "  18  18  19  21  25  47  18  18  20  23  31 120  18  18  22  27  45  18\n",
      "  18  25  35 119]\n"
     ]
    },
    {
     "data": {
      "image/png": "[encoded data removed]",
      "text/plain": [
       "<matplotlib.figure.Figure at 0x113735ef0>"
      ]
     },
     "metadata": {},
     "output_type": "display_data"
    }
   ],
   "source": [
    "m1_list, sqm4m2_list, h_list, d_list, t_list = [], [], [], [], []\n",
    "pathname = './SCM_id_ST_N100_macro_onenonzeroLambda_commonInit/'\n",
    "\n",
    "for filename in glob.glob(pathname + '*/*.npz'):\n",
    "    npz = np.load(filename)\n",
    "    lam, p = map(float, re.match('.*lam=(.*),p=(.*)/.*', filename).groups())\n",
    "    # print(npz['opL'].shape) # (1001,) この 1 はミクロでの N(=100) step に相当するので注意．\n",
    "    opL = npz['opL']\n",
    "    if opL[-1] != opL[-1] or opL[-1] == np.inf or opL[-1] == -np.inf:\n",
    "        print('!!', filename, ':diverged')\n",
    "        continue\n",
    "    lossinfo = analyze_loss_curve(npz['opL'])\n",
    "    if lossinfo['converge_time'] < np.inf: # 収束している場合\n",
    "        assert(len(lossinfo['plateau_time_info']) <= 2) # プラトーには高々一度しか入っていないことを確認\n",
    "        if len(lossinfo['plateau_time_info']) > 0:\n",
    "            plateau_macrostep = lossinfo['plateau_time_info'][1] - lossinfo['plateau_time_info'][0]\n",
    "            plateau_logheight = lossinfo['plateau_logheight_info'][0]\n",
    "        else:\n",
    "            plateau_macrostep = 0\n",
    "            plateau_logheight = np.nan\n",
    "        # (マクロ1ステップは， ミクロNステップ)\n",
    "        m1_list.append(lam * p)\n",
    "        sqm4m2_list.append(lam)\n",
    "        d_list.append(plateau_macrostep)\n",
    "        h_list.append(plateau_logheight)\n",
    "        t_list.append(lossinfo['converge_time'])\n",
    "\n",
    "m1_list = np.array(m1_list)        \n",
    "sqm4m2_list = np.array(sqm4m2_list)        \n",
    "d_list = np.array(d_list)        \n",
    "h_list = np.array(h_list)        \n",
    "t_list = np.array(t_list)        \n",
    "        \n",
    "print(d_list, t_list)\n",
    "# プラトーには入らないのでプラトー長さと高さのグラフは無し．\n",
    "plt.tricontourf(m1_list, sqm4m2_list, t_list, 20)\n",
    "plt.xlim(0, 1); plt.ylim(0, 1); plt.title('convergence time (macro steps)');\n",
    "plt.xlabel('$\\\\langle\\\\lambda_i\\\\rangle$'); plt.ylabel('$\\\\sqrt{\\\\langle\\\\lambda_i^4\\\\rangle/\\\\langle\\\\lambda_i^2\\\\rangle}$')\n",
    "ax = plt.gca()\n",
    "plt.colorbar()\n",
    "ax.scatter(m1_list, sqm4m2_list, color='k')\n",
    "plt.show()"
   ]
  },
  {
   "cell_type": "code",
   "execution_count": 57,
   "metadata": {
    "collapsed": false
   },
   "outputs": [
    {
     "name": "stdout",
     "output_type": "stream",
     "text": [
      "!! ./SCM_id_ST_N100_macro_onenonzeroLambda_commonInit/lam=0.9,p=1.0/0.npz :diverged\n",
      "!! ./SCM_id_ST_N100_macro_onenonzeroLambda_commonInit/lam=1.0,p=1.0/0.npz :diverged\n"
     ]
    },
    {
     "data": {
      "image/png": "[encoded data removed]",
      "text/plain": [
       "<matplotlib.figure.Figure at 0x1137c1e48>"
      ]
     },
     "metadata": {},
     "output_type": "display_data"
    }
   ],
   "source": [
    "# 上図の対角線部分は p=1 部分，すなわち [lam, ..., lam] の固有値分布の部分なんだけど，\n",
    "# その部分の結果だけをグラフにしてみるよ\n",
    "m1_list, sqm4m2_list, h_list, d_list, t_list = [], [], [], [], []\n",
    "pathname = './SCM_id_ST_N100_macro_onenonzeroLambda_commonInit/'\n",
    "\n",
    "for filename in glob.glob(pathname + '*/*.npz'):\n",
    "    npz = np.load(filename)\n",
    "    lam, p = map(float, re.match('.*lam=(.*),p=(.*)/.*', filename).groups())\n",
    "    if p == 1:\n",
    "        opL = npz['opL']\n",
    "        if opL[-1] != opL[-1] or opL[-1] == np.inf or opL[-1] == -np.inf:\n",
    "            print('!!', filename, ':diverged')\n",
    "            continue\n",
    "        lossinfo = analyze_loss_curve(npz['opL'])\n",
    "        if lossinfo['converge_time'] < np.inf: # 収束している場合\n",
    "            assert(len(lossinfo['plateau_time_info']) <= 2) # プラトーには高々一度しか入っていないことを確認\n",
    "            if len(lossinfo['plateau_time_info']) > 0:\n",
    "                plateau_macrostep = lossinfo['plateau_time_info'][1] - lossinfo['plateau_time_info'][0]\n",
    "                plateau_logheight = lossinfo['plateau_logheight_info'][0]\n",
    "            else:\n",
    "                plateau_macrostep = 0\n",
    "                plateau_logheight = np.nan\n",
    "            # (マクロ1ステップは， ミクロNステップ)\n",
    "            m1_list.append(lam * p)\n",
    "            sqm4m2_list.append(lam)\n",
    "            d_list.append(plateau_macrostep)\n",
    "            h_list.append(plateau_logheight)\n",
    "            t_list.append(lossinfo['converge_time'])\n",
    "\n",
    "\n",
    "plt.plot(m1_list, t_list, linestyle='', marker='.', markersize=12)\n",
    "plt.title('convergence time');\n",
    "plt.xlim(0, 1); plt.ylim(0, None)\n",
    "plt.xlabel('$\\\\langle\\\\lambda_i\\\\rangle$'); plt.ylabel('macro steps')\n",
    "plt.show()"
   ]
  },
  {
   "cell_type": "code",
   "execution_count": 51,
   "metadata": {
    "collapsed": true
   },
   "outputs": [],
   "source": [
    "# 0.9と1.0は微分方程式の数値解が発散した！（収束判定になってるのは，発散直後になぜか +infではなく-infになったため）"
   ]
  },
  {
   "cell_type": "code",
   "execution_count": 46,
   "metadata": {
    "collapsed": true
   },
   "outputs": [],
   "source": [
    "# 何れにしても，idとerf2では収束時間の振る舞いが全然違う！"
   ]
  },
  {
   "cell_type": "code",
   "execution_count": 290,
   "metadata": {
    "collapsed": false
   },
   "outputs": [
    {
     "name": "stdout",
     "output_type": "stream",
     "text": [
      "0.1 1.0 62\n",
      "0.2 1.0 37\n",
      "0.3 1.0 30\n",
      "0.4 1.0 28\n",
      "0.5 1.0 29\n",
      "0.6 1.0 34\n",
      "0.7 1.0 48\n",
      "0.8 1.0 121\n",
      "!! ./SCM_id_ST_N100_macro_onenonzeroLambda_commonInit/lam=0.9,p=1.0/0.npz :diverged\n",
      "!! ./SCM_id_ST_N100_macro_onenonzeroLambda_commonInit/lam=1.0,p=1.0/0.npz :diverged\n"
     ]
    },
    {
     "data": {
      "image/png": "[encoded data removed]",
      "text/plain": [
       "<matplotlib.figure.Figure at 0x111e4f7b8>"
      ]
     },
     "metadata": {},
     "output_type": "display_data"
    }
   ],
   "source": [
    "pathname = './SCM_id_ST_N100_macro_onenonzeroLambda_commonInit/'\n",
    "\n",
    "for filename in glob.glob(pathname + '*/*.npz'):\n",
    "    npz = np.load(filename)\n",
    "    lam, p = map(float, re.match('.*lam=(.*),p=(.*)/.*', filename).groups())\n",
    "    if p == 1:\n",
    "        opL = npz['opL']\n",
    "        if opL[-1] != opL[-1] or opL[-1] == np.inf or opL[-1] == -np.inf:\n",
    "            print('!!', filename, ':diverged')\n",
    "            continue\n",
    "        plt.plot(np.arange(len(opL)), opL)\n",
    "        print(lam, p, len(opL))\n",
    "plt.yscale('log')\n",
    "plt.show()"
   ]
  },
  {
   "cell_type": "code",
   "execution_count": 47,
   "metadata": {
    "collapsed": true
   },
   "outputs": [],
   "source": [
    "# relu の場合は別仕事にしても良さそう？"
   ]
  },
  {
   "cell_type": "code",
   "execution_count": 59,
   "metadata": {
    "collapsed": true
   },
   "outputs": [],
   "source": [
    "# 願わくば，プラトーの深さと長さを解析的に求めたい・・・"
   ]
  },
  {
   "cell_type": "code",
   "execution_count": null,
   "metadata": {
    "collapsed": true
   },
   "outputs": [],
   "source": [
    "'''\n",
    "[0, ..., 0, lam1, ..., lam1 (割合p1), lam2, ..., lam2 (割合p2)] のモーメント\n",
    "mu1 = lam1 * p1 + lam2 * p2\n",
    "mu2 = lam1**2 * p1 + lam2**2 * p2\n",
    "'''"
   ]
  },
  {
   "cell_type": "code",
   "execution_count": 219,
   "metadata": {
    "collapsed": false,
    "scrolled": true
   },
   "outputs": [
    {
     "name": "stdout",
     "output_type": "stream",
     "text": [
      "nQRT: [[[ 0.75024982 -0.13063641  0.15469894 -0.01216795]\n",
      "  [-0.13063641  0.79089833  0.24163785  0.03863929]\n",
      "  [ 0.15469894  0.24163785  1.11692074  0.03252481]\n",
      "  [-0.01216795  0.03863929  0.03252481  0.99337328]]\n",
      "\n",
      " [[ 1.48403624 -0.25889896  0.30821304 -0.0241901 ]\n",
      "  [-0.25889896  1.563869    0.48103036  0.07768206]\n",
      "  [ 0.30821304  0.48103036  2.21048465  0.06446514]\n",
      "  [-0.0241901   0.07768206  0.06446514  1.97074223]]]\n",
      "nABC: [[1. 1. 1. 1.]\n",
      " [1. 1. 1. 1.]\n",
      " [1. 1. 1. 1.]\n",
      " [1. 1. 1. 1.]]\n",
      "sqrt(nT4/nT2):  [[1.98997229 1.98997979]\n",
      " [1.98997979 1.98998452]]\n",
      "nT2/nT1:  [[1.9790882  1.98202998]\n",
      " [1.98202998 1.9838889 ]]\n",
      "poly deg: 2\n",
      "nb_iter: 10000\n",
      "\n",
      "\n"
     ]
    }
   ],
   "source": [
    "# 色々な固有値分布でオーパラの数値解をたくさん保存するよ その3 [lam1, ..., lam1, lam2, ..., lam2] (lam1の割合は p1=0.5, lam2の割合はp2=0.5)\n",
    "# 初期値を共通化！ ⇨ 初期値に依存したプラトーの出方とかのばらつきを考えずに比較可能に．\n",
    "# 乱数のタネを一時的に固定して重みを生成するよ\n",
    "randstate = np.random.get_state()\n",
    "np.random.seed(42)\n",
    "ms = MLP(ls=[N,2,1], nobias=True, act=func_erf2, opt=None)\n",
    "mt = MLP(ls=[N,2,1], nobias=True, act=func_erf2, opt=None)\n",
    "np.random.set_state(randstate)\n",
    "ms.l[1].W.data = np.array([[1, 1]], dtype=np.float32) \n",
    "mt.l[1].W.data = np.array([[1, 1]], dtype=np.float32) \n",
    "\n",
    "p1, p2 = 0.5, 0.5\n",
    "for lam in [[0.01, 1.99]]:#[[1.0, 1.0], [0.9, 1.1], [0.8, 1.2], [0.7, 1.3], [0.6, 1.4], [0.5, 1.5], [0.4, 1.6], [0.3, 1.7], [0.2, 1.8], [0.1, 1.9]]:\n",
    "    for i in range(1):\n",
    "        lam1, lam2 = lam\n",
    "        num1 = int(N * p1)\n",
    "        num2 = int(N * p2)\n",
    "        lambdas = np.sort(np.array([0.0] * (N - num1 - num2) + [lam1] * num1 + [lam2] * num2))\n",
    "\n",
    "        nb_iter = 10000\n",
    "        eta = 1.0\n",
    "        substep = 10  # 数値解法が乱れるので・・・（ルンゲクッタでも・・・）\n",
    "        nrslt = calc_opd_highorder(N, nb_iter, lambdas, eta, mdl=ms, mdl_t=mt, goal_loss=1e-10, ignore_etasq=[True, True], substep=substep)\n",
    "\n",
    "        pathname = './SCM_erf2_ST_N100_macro_twononzeroLambda_commonInit/lam1={},p1={},lam2={},p2={}'.format(lam1, p1, lam2, p2)\n",
    "        os.makedirs(pathname, exist_ok=True)\n",
    "        np.savez(pathname+'/{}.npz'.format(i),\n",
    "                 opL=nrslt['opL'], opQRT=nrslt['opQRT'],\n",
    "                 mdl0=nrslt['mdl0'], mdl_t=nrslt['mdl_t'])\n",
    "\n",
    "        plot_macro_dynamics(nrslt['opL'], nrslt['opQRT'][:,0,:,:], N=N)\n",
    "        plt.savefig(pathname+'/{}.png'.format(i))\n",
    "        plt.close()"
   ]
  },
  {
   "cell_type": "code",
   "execution_count": 307,
   "metadata": {
    "collapsed": false,
    "scrolled": true
   },
   "outputs": [
    {
     "name": "stdout",
     "output_type": "stream",
     "text": [
      "0.0 0.5 2.0 0.5 143\n",
      "0.01 0.5 1.99 0.5 10001\n",
      "0.05 0.5 1.95 0.5 3237\n",
      "0.1 0.5 1.9 0.5 1715\n",
      "0.2 0.5 1.8 0.5 923\n",
      "0.3 0.5 1.7 0.5 652\n",
      "0.4 0.5 1.6 0.5 515\n",
      "0.5 0.5 1.5 0.5 434\n",
      "0.6 0.5 1.4 0.5 379\n",
      "0.7 0.5 1.3 0.5 341\n",
      "0.8 0.5 1.2 0.5 313\n",
      "0.9 0.5 1.1 0.5 293\n",
      "1.0 0.5 1.0 0.5 285\n"
     ]
    },
    {
     "data": {
      "image/png": "[encoded data removed]",
      "text/plain": [
       "<matplotlib.figure.Figure at 0x10f49edd8>"
      ]
     },
     "metadata": {},
     "output_type": "display_data"
    }
   ],
   "source": [
    "pathname = './SCM_erf2_ST_N100_macro_twononzeroLambda_commonInit/'\n",
    "\n",
    "for filename in glob.glob(pathname + '*/*.npz'):\n",
    "    npz = np.load(filename)\n",
    "    lam1, p1, lam2, p2 = map(float, re.match('.*lam1=(.*),p1=(.*),lam2=(.*),p2=(.*)/.*', filename).groups())\n",
    "    if p1 == 0.5 and p2 == 0.5:# and lam1 > 0:\n",
    "        opL = npz['opL']\n",
    "        if opL[-1] != opL[-1] or opL[-1] == np.inf or opL[-1] == -np.inf:\n",
    "            print('!!', filename, ':diverged')\n",
    "            continue\n",
    "        plt.plot(np.arange(len(opL)), opL)\n",
    "        print(lam1,p1,lam2,p2, len(opL))\n",
    "plt.yscale('log')\n",
    "# plt.ylim(1e-4, 1e0)\n",
    "# plt.xscale('log')\n",
    "plt.xlim(0, 300)\n",
    "plt.show()"
   ]
  },
  {
   "cell_type": "code",
   "execution_count": 305,
   "metadata": {
    "collapsed": false
   },
   "outputs": [
    {
     "name": "stderr",
     "output_type": "stream",
     "text": [
      "/Users/yoshidayuuki/.pyenv/versions/anaconda3-4.2.0/lib/python3.5/site-packages/matplotlib/scale.py:101: RuntimeWarning: invalid value encountered in less_equal\n",
      "  a[a <= 0.0] = 1e-300\n"
     ]
    },
    {
     "data": {
      "image/png": "[encoded data removed]",
      "text/plain": [
       "<matplotlib.figure.Figure at 0x110fd0550>"
      ]
     },
     "metadata": {},
     "output_type": "display_data"
    }
   ],
   "source": [
    "# 一応，プラトーの長さを定量しておこう．\n",
    "m2_list, h_list, d_list, t_list = [], [], [], []\n",
    "pathname = './SCM_erf2_ST_N100_macro_twononzeroLambda_commonInit/'\n",
    "\n",
    "for filename in glob.glob(pathname + '*/*.npz'):\n",
    "    npz = np.load(filename)\n",
    "    lam1, p1, lam2, p2 = map(float, re.match('.*lam1=(.*),p1=(.*),lam2=(.*),p2=(.*)/.*', filename).groups())\n",
    "    if p1 == 0.5 and p2 == 0.5:\n",
    "        lossinfo = analyze_loss_curve(npz['opL'])\n",
    "        if lossinfo['converge_time'] < np.inf: # 収束している場合\n",
    "            if len(lossinfo['plateau_time_info']) > 2: # プラトーには高々一度しか入っていないことを確認\n",
    "                print('プラトーに二回以上入っているようです:', lossinfo['plateau_time_info'])\n",
    "            if len(lossinfo['plateau_time_info']) > 0:\n",
    "                plateau_macrostep = lossinfo['plateau_time_info'][1] - lossinfo['plateau_time_info'][0]\n",
    "                plateau_logheight = lossinfo['plateau_logheight_info'][0]\n",
    "            else:\n",
    "                plateau_macrostep = 0\n",
    "                plateau_logheight = np.nan\n",
    "            # (マクロ1ステップは， ミクロNステップ)\n",
    "            m2_list.append(lam1**2 * p1 + lam2**2 * p2)\n",
    "            d_list.append(plateau_macrostep)\n",
    "            h_list.append(plateau_logheight)\n",
    "            t_list.append(lossinfo['converge_time'])\n",
    "\n",
    "plt.figure(figsize=(16,4))\n",
    "plt.subplot(131)\n",
    "plt.plot(m2_list, d_list, linestyle='', marker='.', markersize=12)\n",
    "plt.title('plateau duration');\n",
    "plt.xlim(0, None); plt.ylim(0, None)\n",
    "plt.xlabel('$\\\\langle\\\\lambda_i^2\\\\rangle$'); plt.ylabel('macro steps')\n",
    "plt.subplot(132)\n",
    "plt.plot(m2_list, np.exp(h_list), linestyle='', marker='.', markersize=12)\n",
    "plt.yscale('log')\n",
    "plt.xlim(0, None)\n",
    "plt.title('plateau height')\n",
    "plt.xlabel('$\\\\langle\\\\lambda_i^2\\\\rangle$'); plt.ylabel('loss')\n",
    "plt.subplot(133)\n",
    "plt.plot(m2_list, t_list, linestyle='', marker='.', markersize=12)\n",
    "plt.title('convergence time');\n",
    "plt.xlim(0, None); plt.ylim(0, None)\n",
    "plt.xlabel('$\\\\langle\\\\lambda_i^2\\\\rangle$'); plt.ylabel('macro steps')\n",
    "plt.show()"
   ]
  },
  {
   "cell_type": "code",
   "execution_count": 275,
   "metadata": {
    "collapsed": false,
    "scrolled": true
   },
   "outputs": [
    {
     "name": "stdout",
     "output_type": "stream",
     "text": [
      "\n",
      "[p1,p2,l1,l2] == variable(1.0830684e-06) variable(0.9999989) variable(0.22953694) variable(1.0000008)\n",
      "l1**2*p1 + l2**2*p2 == 1.0000006\n",
      "l1**3*p1 + l2**3*p2 == 1.0000014\n",
      "loss == variable(2.4016344e-12)\n",
      "(0, 100, 0.23, 1.0)\n",
      "\n",
      "[p1,p2,l1,l2] == variable(0.91201144) variable(0.08798856) variable(0.8969827) variable(2.0677862)\n",
      "l1**2*p1 + l2**2*p2 == 1.1100005\n",
      "l1**3*p1 + l2**3*p2 == 1.4361265\n",
      "loss == variable(0.01391337)\n",
      "(91, 9, 0.9, 2.07)\n",
      "\n",
      "[p1,p2,l1,l2] == variable(0.96780056) variable(0.03219944) variable(0.92525953) variable(3.2464318)\n",
      "l1**2*p1 + l2**2*p2 == 1.1678994\n",
      "l1**3*p1 + l2**3*p2 == 1.8683236\n",
      "loss == variable(0.03252487)\n",
      "(97, 3, 0.93, 3.25)\n",
      "\n",
      "[p1,p2,l1,l2] == variable(0.9790221) variable(0.02097791) variable(0.9327703) variable(4.1375566)\n",
      "l1**2*p1 + l2**2*p2 == 1.2109371\n",
      "l1**3*p1 + l2**3*p2 == 2.2804573\n",
      "loss == variable(0.05220632)\n",
      "(98, 2, 0.93, 4.14)\n"
     ]
    },
    {
     "data": {
      "image/png": "[encoded data removed]",
      "text/plain": [
       "<matplotlib.figure.Figure at 0x110759828>"
      ]
     },
     "metadata": {},
     "output_type": "display_data"
    }
   ],
   "source": [
    "def two_nonzero_with_moment(n, m1, m2, m4):\n",
    "    # [l1, ..., l1 (割合p1), l2, ..., l2 (割合p2)]\n",
    "    '''\n",
    "    以下を解く：\n",
    "    p1 + p2 = 1\n",
    "    l1 * p1 + l2 * p2 = m1\n",
    "    l1**2 * p1 + l2**2 * p2 = m2\n",
    "    l1**4 * p1 + l2**4 * p2 = m4\n",
    "    勾配法で解こう\n",
    "    '''\n",
    "    loss_seq = []\n",
    "    li = L.Linear(1, 2, nobias=True)\n",
    "    li.W.data = np.array([[0.2], [0.8]],dtype=np.float32)\n",
    "    opt=optimizers.MomentumSGD(lr=0.001)\n",
    "    opt.setup(li)\n",
    "    for i in tqdm(range(10000)):\n",
    "        vals = li(np.array([[1.0]],dtype=np.float32))\n",
    "        l1, l2 = vals[0,0], vals[0,1]\n",
    "        p1 = (l2-m1)/(l2-l1)\n",
    "        p2 = 1.0 - p1\n",
    "        loss = ((l1**2*p1 + l2**2*p2 - m2)/m2)**2 \\\n",
    "                + ((l1**3*p1 + l2**3*p2 - m4)/m4)**2 \n",
    "        li.cleargrads()\n",
    "        loss.backward()\n",
    "        opt.update()\n",
    "        loss_seq.append(loss.data)\n",
    "    print('[p1,p2,l1,l2] ==',p1,p2,l1,l2)\n",
    "    print('l1**2*p1 + l2**2*p2 ==', (l1**2*p1 + l2**2*p2).data)\n",
    "    print('l1**3*p1 + l2**3*p2 ==', (l1**3*p1 + l2**3*p2).data)\n",
    "    print('loss ==', loss)\n",
    "    plt.plot(np.arange(len(loss_seq)), loss_seq)\n",
    "    # 雑に整形する．\n",
    "    num1= int(n * p1.data + 0.5)\n",
    "    num2 = n - num1\n",
    "    lam1 = int(l1.data * 100 + 0.5) / 100\n",
    "    lam2 = int(l2.data * 100 + 0.5) / 100\n",
    "    return num1, num2, lam1, lam2\n",
    "\n",
    "print(two_nonzero_with_moment(N, 1, 1, 1))\n",
    "print(two_nonzero_with_moment(N, 1, 1, 1.5))\n",
    "print(two_nonzero_with_moment(N, 1, 1, 2))\n",
    "print(two_nonzero_with_moment(N, 1, 1, 2.5))\n",
    "plt.yscale('log')\n",
    "plt.show()"
   ]
  },
  {
   "cell_type": "code",
   "execution_count": 287,
   "metadata": {
    "collapsed": false
   },
   "outputs": [
    {
     "name": "stdout",
     "output_type": "stream",
     "text": [
      "nQRT: [[[ 0.8273063  -0.1192889   0.05954009 -0.00732629]\n",
      "  [-0.1192889   0.90088715  0.11283072 -0.02027471]\n",
      "  [ 0.05954009  0.11283072  1.17370965  0.02937043]\n",
      "  [-0.00732629 -0.02027471  0.02937043  0.80423793]]]\n",
      "nABC: [[1. 1. 1. 1.]\n",
      " [1. 1. 1. 1.]\n",
      " [1. 1. 1. 1.]\n",
      " [1. 1. 1. 1.]]\n",
      "sqrt(nT4/nT2):  [[1. 1.]\n",
      " [1. 1.]]\n",
      "nT2/nT1:  [[1. 1.]\n",
      " [1. 1.]]\n",
      "poly deg: 1\n",
      "nb_iter: 10000\n",
      "\n",
      "nQRT: [[[ 0.82523991 -0.12131642  0.0791605  -0.01324849]\n",
      "  [-0.12131642  0.8867315   0.12402482 -0.01179706]\n",
      "  [ 0.0791605   0.12402482  1.16117146  0.02592499]\n",
      "  [-0.01324849 -0.01179706  0.02592499  0.85564188]]\n",
      "\n",
      " [[ 0.85747242 -0.12848328  0.10289679 -0.01996948]\n",
      "  [-0.12848328  0.90893317  0.14085304 -0.00345772]\n",
      "  [ 0.10289679  0.14085304  1.19649298  0.0234162 ]\n",
      "  [-0.01996948 -0.00345772  0.0234162   0.94483941]]]\n",
      "nABC: [[1. 1. 1. 1.]\n",
      " [1. 1. 1. 1.]\n",
      " [1. 1. 1. 1.]\n",
      " [1. 1. 1. 1.]]\n",
      "sqrt(nT4/nT2):  [[1.09203326 0.9465546 ]\n",
      " [0.9465546  1.1547052 ]]\n",
      "nT2/nT1:  [[1.03041887 0.90322892]\n",
      " [0.90322892 1.10424633]]\n",
      "poly deg: 2\n",
      "nb_iter: 10000\n",
      "\n",
      "nQRT: [[[ 0.83491921 -0.1696196   0.06708084 -0.01011218]\n",
      "  [-0.1696196   0.8630369   0.10457769 -0.00287411]\n",
      "  [ 0.06708084  0.10457769  1.04506414  0.02627932]\n",
      "  [-0.01011218 -0.00287411  0.02627932  0.98197875]]\n",
      "\n",
      " [[ 1.00301443 -0.26184559  0.08883524 -0.01535485]\n",
      "  [-0.26184559  0.98236506  0.11467221  0.01729344]\n",
      "  [ 0.08883524  0.11467221  1.09097456  0.02760502]\n",
      "  [-0.01535485  0.01729344  0.02760502  1.38061854]]]\n",
      "nABC: [[1. 1. 1. 1.]\n",
      " [1. 1. 1. 1.]\n",
      " [1. 1. 1. 1.]\n",
      " [1. 1. 1. 1.]]\n",
      "sqrt(nT4/nT2):  [[1.32788217 1.33420861]\n",
      " [1.33420861 1.56920838]]\n",
      "nT2/nT1:  [[1.04393072 1.05044635]\n",
      " [1.05044635 1.40595562]]\n",
      "poly deg: 2\n",
      "nb_iter: 10000\n",
      "\n",
      "nQRT: [[[ 0.68728957 -0.11045115  0.10439046 -0.0166987 ]\n",
      "  [-0.11045115  0.77174465  0.11847298  0.09760872]\n",
      "  [ 0.10439046  0.11847298  1.07423785  0.04256414]\n",
      "  [-0.0166987   0.09760872  0.04256414  1.0132364 ]]\n",
      "\n",
      " [[ 0.85511381 -0.15877095  0.23318881 -0.0407361 ]\n",
      "  [-0.15877095  1.00406585  0.19393007  0.33670649]\n",
      "  [ 0.23318881  0.19393007  1.52307196  0.08712164]\n",
      "  [-0.0407361   0.33670649  0.08712164  1.90974198]]]\n",
      "nABC: [[1. 1. 1. 1.]\n",
      " [1. 1. 1. 1.]\n",
      " [1. 1. 1. 1.]\n",
      " [1. 1. 1. 1.]]\n",
      "sqrt(nT4/nT2):  [[2.18156564 2.41196571]\n",
      " [2.41196571 2.36906956]]\n",
      "nT2/nT1:  [[1.41781632 2.0468319 ]\n",
      " [2.0468319  1.8847941 ]]\n",
      "poly deg: 2\n",
      "nb_iter: 10000\n",
      "\n",
      "nQRT: [[[ 6.39812721e-01 -4.58680956e-02  5.40517088e-02 -3.56164495e-04]\n",
      "  [-4.58680956e-02  7.14873379e-01  1.59347287e-01  1.71123428e-01]\n",
      "  [ 5.40517088e-02  1.59347287e-01  8.58224651e-01  2.07382880e-01]\n",
      "  [-3.56164495e-04  1.71123428e-01  2.07382880e-01  1.15448866e+00]]\n",
      "\n",
      " [[ 1.25644207e+00  7.65353016e-02  1.34898142e-01  1.83721014e-02]\n",
      "  [ 7.65353016e-02  1.46905448e+00  5.71844028e-01  1.00700435e+00]\n",
      "  [ 1.34898142e-01  5.71844028e-01  1.50761014e+00  1.07054258e+00]\n",
      "  [ 1.83721014e-02  1.00700435e+00  1.07054258e+00  4.17983163e+00]]]\n",
      "nABC: [[1. 1. 1. 1.]\n",
      " [1. 1. 1. 1.]\n",
      " [1. 1. 1. 1.]\n",
      " [1. 1. 1. 1.]]\n",
      "sqrt(nT4/nT2):  [[4.39334925 5.00968577]\n",
      " [5.00968577 4.88098385]]\n",
      "nT2/nT1:  [[1.75666143 5.16215506]\n",
      " [5.16215506 3.62050472]]\n",
      "poly deg: 2\n",
      "nb_iter: 10000\n",
      "\n",
      "nQRT: [[[ 0.65831842 -0.11177123  0.0391534  -0.15162069]\n",
      "  [-0.11177123  0.68854764  0.06779333  0.12247692]\n",
      "  [ 0.0391534   0.06779333  0.82167679  0.27691619]\n",
      "  [-0.15162069  0.12247692  0.27691619  1.01820482]]\n",
      "\n",
      " [[ 2.57542388 -0.548703    0.09877221 -1.55744792]\n",
      "  [-0.548703    2.50635865  0.11976807  1.39593974]\n",
      "  [ 0.09877221  0.11976807  2.47181018  2.76032607]\n",
      "  [-1.55744792  1.39593974  2.76032607  6.48511432]]]\n",
      "nABC: [[1. 1. 1. 1.]\n",
      " [1. 1. 1. 1.]\n",
      " [1. 1. 1. 1.]\n",
      " [1. 1. 1. 1.]]\n",
      "sqrt(nT4/nT2):  [[9.33400227 9.99911325]\n",
      " [9.99911325 9.84082047]]\n",
      "nT2/nT1:  [[3.00825118 9.96809198]\n",
      " [9.96809198 6.3691648 ]]\n",
      "poly deg: 2\n",
      "nb_iter: 10000\n",
      "\n",
      "nQRT: [[[4.35578463e-01 4.87475317e-03 6.15218155e-02 2.86994793e-02]\n",
      "  [4.87475317e-03 7.80396156e-01 2.02550096e-01 1.34698606e-01]\n",
      "  [6.15218155e-02 2.02550096e-01 8.43983017e-01 4.20910908e-01]\n",
      "  [2.86994793e-02 1.34698606e-01 4.20910908e-01 1.12088467e+00]]\n",
      "\n",
      " [[5.59319249e-01 1.64589804e+00 8.09994191e-01 8.25577094e-01]\n",
      "  [1.64589804e+00 8.41715772e+00 3.72792691e+00 3.69479490e+00]\n",
      "  [8.09994191e-01 3.72792691e+00 6.55939267e+00 1.03629003e+01]\n",
      "  [8.25577094e-01 3.69479490e+00 1.03629003e+01 1.83358598e+01]]]\n",
      "nABC: [[1. 1. 1. 1.]\n",
      " [1. 1. 1. 1.]\n",
      " [1. 1. 1. 1.]\n",
      " [1. 1. 1. 1.]]\n",
      "sqrt(nT4/nT2):  [[24.41615829 24.9959838 ]\n",
      " [24.9959838  24.86210709]]\n",
      "nT2/nT1:  [[ 7.77194865 24.62017528]\n",
      " [24.62017528 16.35838219]]\n",
      "poly deg: 2\n",
      "nb_iter: 10000\n",
      "Warning (sqrt): -0.13928395156398932\n"
     ]
    },
    {
     "ename": "ZeroDivisionError",
     "evalue": "float division by zero",
     "output_type": "error",
     "traceback": [
      "\u001b[0;31m---------------------------------------------------------------------------\u001b[0m",
      "\u001b[0;31mZeroDivisionError\u001b[0m                         Traceback (most recent call last)",
      "\u001b[0;32m<ipython-input-287-fee953b43946>\u001b[0m in \u001b[0;36m<module>\u001b[0;34m()\u001b[0m\n\u001b[1;32m     23\u001b[0m         \u001b[0meta\u001b[0m \u001b[0;34m=\u001b[0m \u001b[0;36m1.0\u001b[0m\u001b[0;34m\u001b[0m\u001b[0m\n\u001b[1;32m     24\u001b[0m         \u001b[0msubstep\u001b[0m \u001b[0;34m=\u001b[0m \u001b[0;36m10\u001b[0m \u001b[0;31m# 数値解法が乱れるので・・・（ルンゲクッタでも・・・）\u001b[0m\u001b[0;34m\u001b[0m\u001b[0m\n\u001b[0;32m---> 25\u001b[0;31m         \u001b[0mnrslt\u001b[0m \u001b[0;34m=\u001b[0m \u001b[0mcalc_opd_highorder\u001b[0m\u001b[0;34m(\u001b[0m\u001b[0mN\u001b[0m\u001b[0;34m,\u001b[0m \u001b[0mnb_iter\u001b[0m\u001b[0;34m,\u001b[0m \u001b[0mlambdas\u001b[0m\u001b[0;34m,\u001b[0m \u001b[0meta\u001b[0m\u001b[0;34m,\u001b[0m \u001b[0mmdl\u001b[0m\u001b[0;34m=\u001b[0m\u001b[0mms\u001b[0m\u001b[0;34m,\u001b[0m \u001b[0mmdl_t\u001b[0m\u001b[0;34m=\u001b[0m\u001b[0mmt\u001b[0m\u001b[0;34m,\u001b[0m \u001b[0mgoal_loss\u001b[0m\u001b[0;34m=\u001b[0m\u001b[0;36m1e-10\u001b[0m\u001b[0;34m,\u001b[0m \u001b[0mignore_etasq\u001b[0m\u001b[0;34m=\u001b[0m\u001b[0;34m[\u001b[0m\u001b[0;32mTrue\u001b[0m\u001b[0;34m,\u001b[0m \u001b[0;32mTrue\u001b[0m\u001b[0;34m]\u001b[0m\u001b[0;34m,\u001b[0m \u001b[0msubstep\u001b[0m\u001b[0;34m=\u001b[0m\u001b[0msubstep\u001b[0m\u001b[0;34m)\u001b[0m\u001b[0;34m\u001b[0m\u001b[0m\n\u001b[0m\u001b[1;32m     26\u001b[0m \u001b[0;34m\u001b[0m\u001b[0m\n\u001b[1;32m     27\u001b[0m         \u001b[0mpathname\u001b[0m \u001b[0;34m=\u001b[0m \u001b[0;34m'./SCM_erf2_ST_N100_macro_twononzeroLambda_jikken2_commonInit/lam1={},p1={},lam2={},p2={}'\u001b[0m\u001b[0;34m.\u001b[0m\u001b[0mformat\u001b[0m\u001b[0;34m(\u001b[0m\u001b[0mlam1\u001b[0m\u001b[0;34m,\u001b[0m \u001b[0mp1\u001b[0m\u001b[0;34m,\u001b[0m \u001b[0mlam2\u001b[0m\u001b[0;34m,\u001b[0m \u001b[0mp2\u001b[0m\u001b[0;34m)\u001b[0m\u001b[0;34m\u001b[0m\u001b[0m\n",
      "\u001b[0;32m<ipython-input-201-171afe0041e4>\u001b[0m in \u001b[0;36mcalc_opd_highorder\u001b[0;34m(N, nb_iter, lambdas, eta, act, mdl, mdl_t, ignore_etasq, substep, slowing, verbose, goal_loss)\u001b[0m\n\u001b[1;32m     48\u001b[0m \u001b[0;34m\u001b[0m\u001b[0m\n\u001b[1;32m     49\u001b[0m     \u001b[0;32mfor\u001b[0m \u001b[0mit\u001b[0m \u001b[0;32min\u001b[0m \u001b[0mtqdm\u001b[0m\u001b[0;34m(\u001b[0m\u001b[0mrange\u001b[0m\u001b[0;34m(\u001b[0m\u001b[0;36m0\u001b[0m\u001b[0;34m,\u001b[0m\u001b[0mnb_iter\u001b[0m\u001b[0;34m)\u001b[0m\u001b[0;34m)\u001b[0m\u001b[0;34m:\u001b[0m\u001b[0;34m\u001b[0m\u001b[0m\n\u001b[0;32m---> 50\u001b[0;31m         \u001b[0mop\u001b[0m\u001b[0;34m.\u001b[0m\u001b[0mupdate\u001b[0m\u001b[0;34m(\u001b[0m\u001b[0;34m)\u001b[0m\u001b[0;34m\u001b[0m\u001b[0m\n\u001b[0m\u001b[1;32m     51\u001b[0m         \u001b[0mopQRT\u001b[0m\u001b[0;34m[\u001b[0m\u001b[0;36m1\u001b[0m\u001b[0;34m+\u001b[0m\u001b[0mit\u001b[0m\u001b[0;34m]\u001b[0m \u001b[0;34m=\u001b[0m \u001b[0mop\u001b[0m\u001b[0;34m.\u001b[0m\u001b[0mQRT\u001b[0m\u001b[0;34m.\u001b[0m\u001b[0mcopy\u001b[0m\u001b[0;34m(\u001b[0m\u001b[0;34m)\u001b[0m\u001b[0;34m\u001b[0m\u001b[0m\n\u001b[1;32m     52\u001b[0m         \u001b[0mopL\u001b[0m\u001b[0;34m[\u001b[0m\u001b[0;36m1\u001b[0m\u001b[0;34m+\u001b[0m\u001b[0mit\u001b[0m\u001b[0;34m]\u001b[0m \u001b[0;34m=\u001b[0m \u001b[0mop\u001b[0m\u001b[0;34m.\u001b[0m\u001b[0meps\u001b[0m\u001b[0;34m(\u001b[0m\u001b[0;34m)\u001b[0m\u001b[0;34m\u001b[0m\u001b[0m\n",
      "\u001b[0;32m/Users/yoshidayuuki/Documents/lab/momentumSGD/order_parameter_dynamics.py\u001b[0m in \u001b[0;36mupdate\u001b[0;34m(self, deterministic, hiddenvoltage, inputdata)\u001b[0m\n\u001b[1;32m    627\u001b[0m                     \u001b[0mdABC2\u001b[0m \u001b[0;34m=\u001b[0m \u001b[0mself\u001b[0m\u001b[0;34m.\u001b[0m\u001b[0mdeltaABC\u001b[0m\u001b[0;34m(\u001b[0m\u001b[0mself\u001b[0m\u001b[0;34m.\u001b[0m\u001b[0mQRT\u001b[0m\u001b[0;34m+\u001b[0m\u001b[0mdQRT\u001b[0m\u001b[0;34m/\u001b[0m\u001b[0;36m2\u001b[0m\u001b[0;34m,\u001b[0m \u001b[0mself\u001b[0m\u001b[0;34m.\u001b[0m\u001b[0mABC\u001b[0m\u001b[0;34m+\u001b[0m\u001b[0mdABC\u001b[0m\u001b[0;34m/\u001b[0m\u001b[0;36m2\u001b[0m\u001b[0;34m,\u001b[0m \u001b[0mcalcmode\u001b[0m\u001b[0;34m=\u001b[0m\u001b[0mself\u001b[0m\u001b[0;34m.\u001b[0m\u001b[0mcalcmode\u001b[0m\u001b[0;34m)\u001b[0m\u001b[0;34m\u001b[0m\u001b[0m\n\u001b[1;32m    628\u001b[0m                     \u001b[0mdQRT3\u001b[0m \u001b[0;34m=\u001b[0m \u001b[0mself\u001b[0m\u001b[0;34m.\u001b[0m\u001b[0mdeltaQRT\u001b[0m\u001b[0;34m(\u001b[0m\u001b[0mself\u001b[0m\u001b[0;34m.\u001b[0m\u001b[0mQRT\u001b[0m\u001b[0;34m+\u001b[0m\u001b[0mdQRT2\u001b[0m\u001b[0;34m/\u001b[0m\u001b[0;36m2\u001b[0m\u001b[0;34m,\u001b[0m \u001b[0mself\u001b[0m\u001b[0;34m.\u001b[0m\u001b[0mABC\u001b[0m\u001b[0;34m+\u001b[0m\u001b[0mdABC2\u001b[0m\u001b[0;34m/\u001b[0m\u001b[0;36m2\u001b[0m\u001b[0;34m,\u001b[0m \u001b[0mcalcmode\u001b[0m\u001b[0;34m=\u001b[0m\u001b[0mself\u001b[0m\u001b[0;34m.\u001b[0m\u001b[0mcalcmode\u001b[0m\u001b[0;34m)\u001b[0m\u001b[0;34m\u001b[0m\u001b[0m\n\u001b[0;32m--> 629\u001b[0;31m                     \u001b[0mdABC3\u001b[0m \u001b[0;34m=\u001b[0m \u001b[0mself\u001b[0m\u001b[0;34m.\u001b[0m\u001b[0mdeltaABC\u001b[0m\u001b[0;34m(\u001b[0m\u001b[0mself\u001b[0m\u001b[0;34m.\u001b[0m\u001b[0mQRT\u001b[0m\u001b[0;34m+\u001b[0m\u001b[0mdQRT2\u001b[0m\u001b[0;34m/\u001b[0m\u001b[0;36m2\u001b[0m\u001b[0;34m,\u001b[0m \u001b[0mself\u001b[0m\u001b[0;34m.\u001b[0m\u001b[0mABC\u001b[0m\u001b[0;34m+\u001b[0m\u001b[0mdABC2\u001b[0m\u001b[0;34m/\u001b[0m\u001b[0;36m2\u001b[0m\u001b[0;34m,\u001b[0m \u001b[0mcalcmode\u001b[0m\u001b[0;34m=\u001b[0m\u001b[0mself\u001b[0m\u001b[0;34m.\u001b[0m\u001b[0mcalcmode\u001b[0m\u001b[0;34m)\u001b[0m\u001b[0;34m\u001b[0m\u001b[0m\n\u001b[0m\u001b[1;32m    630\u001b[0m                     \u001b[0mdQRT4\u001b[0m \u001b[0;34m=\u001b[0m \u001b[0mself\u001b[0m\u001b[0;34m.\u001b[0m\u001b[0mdeltaQRT\u001b[0m\u001b[0;34m(\u001b[0m\u001b[0mself\u001b[0m\u001b[0;34m.\u001b[0m\u001b[0mQRT\u001b[0m\u001b[0;34m+\u001b[0m\u001b[0mdQRT3\u001b[0m\u001b[0;34m,\u001b[0m \u001b[0mself\u001b[0m\u001b[0;34m.\u001b[0m\u001b[0mABC\u001b[0m\u001b[0;34m+\u001b[0m\u001b[0mdABC3\u001b[0m\u001b[0;34m,\u001b[0m \u001b[0mcalcmode\u001b[0m\u001b[0;34m=\u001b[0m\u001b[0mself\u001b[0m\u001b[0;34m.\u001b[0m\u001b[0mcalcmode\u001b[0m\u001b[0;34m)\u001b[0m\u001b[0;34m\u001b[0m\u001b[0m\n\u001b[1;32m    631\u001b[0m                     \u001b[0mdABC4\u001b[0m \u001b[0;34m=\u001b[0m \u001b[0mself\u001b[0m\u001b[0;34m.\u001b[0m\u001b[0mdeltaABC\u001b[0m\u001b[0;34m(\u001b[0m\u001b[0mself\u001b[0m\u001b[0;34m.\u001b[0m\u001b[0mQRT\u001b[0m\u001b[0;34m+\u001b[0m\u001b[0mdQRT3\u001b[0m\u001b[0;34m,\u001b[0m \u001b[0mself\u001b[0m\u001b[0;34m.\u001b[0m\u001b[0mABC\u001b[0m\u001b[0;34m+\u001b[0m\u001b[0mdABC3\u001b[0m\u001b[0;34m,\u001b[0m \u001b[0mcalcmode\u001b[0m\u001b[0;34m=\u001b[0m\u001b[0mself\u001b[0m\u001b[0;34m.\u001b[0m\u001b[0mcalcmode\u001b[0m\u001b[0;34m)\u001b[0m\u001b[0;34m\u001b[0m\u001b[0m\n",
      "\u001b[0;32m/Users/yoshidayuuki/Documents/lab/momentumSGD/order_parameter_dynamics.py\u001b[0m in \u001b[0;36mdeltaQRT\u001b[0;34m(self, QRT, ABC, calcmode)\u001b[0m\n\u001b[1;32m    674\u001b[0m                     \u001b[0;32mfor\u001b[0m \u001b[0mk\u001b[0m \u001b[0;32min\u001b[0m \u001b[0mrange\u001b[0m\u001b[0;34m(\u001b[0m\u001b[0mi\u001b[0m\u001b[0;34m,\u001b[0m\u001b[0mself\u001b[0m\u001b[0;34m.\u001b[0m\u001b[0mK\u001b[0m\u001b[0;34m)\u001b[0m\u001b[0;34m:\u001b[0m\u001b[0;34m\u001b[0m\u001b[0m\n\u001b[1;32m    675\u001b[0m                         \u001b[0;32mfor\u001b[0m \u001b[0mn\u001b[0m \u001b[0;32min\u001b[0m \u001b[0mrange\u001b[0m\u001b[0;34m(\u001b[0m\u001b[0mself\u001b[0m\u001b[0;34m.\u001b[0m\u001b[0mM\u001b[0m\u001b[0;34m)\u001b[0m\u001b[0;34m:\u001b[0m\u001b[0;34m\u001b[0m\u001b[0m\n\u001b[0;32m--> 676\u001b[0;31m                             ret[h,i,k] += self.QRTcoef[0] * self.eta * (\n\u001b[0m\u001b[1;32m    677\u001b[0m                                 \u001b[0mABC\u001b[0m\u001b[0;34m[\u001b[0m\u001b[0mi\u001b[0m\u001b[0;34m,\u001b[0m \u001b[0mself\u001b[0m\u001b[0;34m.\u001b[0m\u001b[0mK\u001b[0m\u001b[0;34m+\u001b[0m\u001b[0mn\u001b[0m\u001b[0;34m]\u001b[0m \u001b[0;34m*\u001b[0m \u001b[0mself\u001b[0m\u001b[0;34m.\u001b[0m\u001b[0mI3_one_e_one\u001b[0m\u001b[0;34m(\u001b[0m\u001b[0mQRT\u001b[0m\u001b[0;34m[\u001b[0m\u001b[0mone_idx\u001b[0m\u001b[0;34m]\u001b[0m\u001b[0;34m,\u001b[0m \u001b[0mQRT\u001b[0m\u001b[0;34m[\u001b[0m\u001b[0meplusone_idx\u001b[0m\u001b[0;34m]\u001b[0m\u001b[0;34m,\u001b[0m \u001b[0mi\u001b[0m\u001b[0;34m,\u001b[0m \u001b[0mk\u001b[0m\u001b[0;34m,\u001b[0m \u001b[0mself\u001b[0m\u001b[0;34m.\u001b[0m\u001b[0mK\u001b[0m\u001b[0;34m+\u001b[0m\u001b[0mn\u001b[0m\u001b[0;34m)\u001b[0m\u001b[0;34m\u001b[0m\u001b[0m\n\u001b[1;32m    678\u001b[0m                                 \u001b[0;34m+\u001b[0m \u001b[0mABC\u001b[0m\u001b[0;34m[\u001b[0m\u001b[0mk\u001b[0m\u001b[0;34m,\u001b[0m \u001b[0mself\u001b[0m\u001b[0;34m.\u001b[0m\u001b[0mK\u001b[0m\u001b[0;34m+\u001b[0m\u001b[0mn\u001b[0m\u001b[0;34m]\u001b[0m \u001b[0;34m*\u001b[0m \u001b[0mself\u001b[0m\u001b[0;34m.\u001b[0m\u001b[0mI3_one_e_one\u001b[0m\u001b[0;34m(\u001b[0m\u001b[0mQRT\u001b[0m\u001b[0;34m[\u001b[0m\u001b[0mone_idx\u001b[0m\u001b[0;34m]\u001b[0m\u001b[0;34m,\u001b[0m \u001b[0mQRT\u001b[0m\u001b[0;34m[\u001b[0m\u001b[0meplusone_idx\u001b[0m\u001b[0;34m]\u001b[0m\u001b[0;34m,\u001b[0m \u001b[0mk\u001b[0m\u001b[0;34m,\u001b[0m \u001b[0mi\u001b[0m\u001b[0;34m,\u001b[0m \u001b[0mself\u001b[0m\u001b[0;34m.\u001b[0m\u001b[0mK\u001b[0m\u001b[0;34m+\u001b[0m\u001b[0mn\u001b[0m\u001b[0;34m)\u001b[0m\u001b[0;34m\u001b[0m\u001b[0m\n",
      "\u001b[0;32m/Users/yoshidayuuki/Documents/lab/momentumSGD/order_parameter_dynamics.py\u001b[0m in \u001b[0;36mI3_one_e_one\u001b[0;34m(self, QRT_one, QRT_eplusone, i, j, k)\u001b[0m\n\u001b[1;32m    605\u001b[0m             \u001b[0mmat\u001b[0m\u001b[0;34m[\u001b[0m\u001b[0;36m0\u001b[0m\u001b[0;34m,\u001b[0m\u001b[0;36m2\u001b[0m\u001b[0;34m]\u001b[0m \u001b[0;34m=\u001b[0m \u001b[0mQRT_one\u001b[0m\u001b[0;34m[\u001b[0m\u001b[0mi\u001b[0m\u001b[0;34m,\u001b[0m\u001b[0mk\u001b[0m\u001b[0;34m]\u001b[0m\u001b[0;34m\u001b[0m\u001b[0m\n\u001b[1;32m    606\u001b[0m             \u001b[0mmat\u001b[0m\u001b[0;34m[\u001b[0m\u001b[0;36m2\u001b[0m\u001b[0;34m,\u001b[0m\u001b[0;36m0\u001b[0m\u001b[0;34m]\u001b[0m \u001b[0;34m=\u001b[0m \u001b[0mQRT_one\u001b[0m\u001b[0;34m[\u001b[0m\u001b[0mk\u001b[0m\u001b[0;34m,\u001b[0m\u001b[0mi\u001b[0m\u001b[0;34m]\u001b[0m\u001b[0;34m\u001b[0m\u001b[0m\n\u001b[0;32m--> 607\u001b[0;31m             \u001b[0mmat\u001b[0m\u001b[0;34m[\u001b[0m\u001b[0;36m2\u001b[0m\u001b[0;34m,\u001b[0m\u001b[0;36m2\u001b[0m\u001b[0;34m]\u001b[0m \u001b[0;34m=\u001b[0m \u001b[0mQRT_one\u001b[0m\u001b[0;34m[\u001b[0m\u001b[0mk\u001b[0m\u001b[0;34m,\u001b[0m\u001b[0mk\u001b[0m\u001b[0;34m]\u001b[0m\u001b[0;34m\u001b[0m\u001b[0m\n\u001b[0m\u001b[1;32m    608\u001b[0m             \u001b[0;32mreturn\u001b[0m \u001b[0mself\u001b[0m\u001b[0;34m.\u001b[0m\u001b[0mact\u001b[0m\u001b[0;34m.\u001b[0m\u001b[0mgpx1x2gx3\u001b[0m\u001b[0;34m(\u001b[0m\u001b[0mmat\u001b[0m\u001b[0;34m)\u001b[0m\u001b[0;34m\u001b[0m\u001b[0m\n\u001b[1;32m    609\u001b[0m     \u001b[0;32mdef\u001b[0m \u001b[0mI4\u001b[0m\u001b[0;34m(\u001b[0m\u001b[0mself\u001b[0m\u001b[0;34m,\u001b[0m \u001b[0mQRT\u001b[0m\u001b[0;34m,\u001b[0m \u001b[0mi\u001b[0m\u001b[0;34m,\u001b[0m \u001b[0mj\u001b[0m\u001b[0;34m,\u001b[0m \u001b[0mk\u001b[0m\u001b[0;34m,\u001b[0m \u001b[0ml\u001b[0m\u001b[0;34m)\u001b[0m\u001b[0;34m:\u001b[0m\u001b[0;34m\u001b[0m\u001b[0m\n",
      "\u001b[0;32m/Users/yoshidayuuki/Documents/lab/momentumSGD/order_parameter_dynamics.py\u001b[0m in \u001b[0;36mgpx1x2gx3\u001b[0;34m(self, C)\u001b[0m\n\u001b[1;32m     41\u001b[0m         \u001b[0;32mreturn\u001b[0m \u001b[0;36m2\u001b[0m\u001b[0;34m/\u001b[0m\u001b[0mnp\u001b[0m\u001b[0;34m.\u001b[0m\u001b[0mpi\u001b[0m\u001b[0;34m*\u001b[0m\u001b[0msafe_arcsin\u001b[0m\u001b[0;34m(\u001b[0m\u001b[0mC\u001b[0m\u001b[0;34m[\u001b[0m\u001b[0;36m0\u001b[0m\u001b[0;34m,\u001b[0m\u001b[0;36m1\u001b[0m\u001b[0;34m]\u001b[0m\u001b[0;34m/\u001b[0m\u001b[0msafe_sqrt\u001b[0m\u001b[0;34m(\u001b[0m\u001b[0;34m(\u001b[0m\u001b[0;36m1\u001b[0m\u001b[0;34m+\u001b[0m\u001b[0mC\u001b[0m\u001b[0;34m[\u001b[0m\u001b[0;36m0\u001b[0m\u001b[0;34m,\u001b[0m\u001b[0;36m0\u001b[0m\u001b[0;34m]\u001b[0m\u001b[0;34m)\u001b[0m\u001b[0;34m*\u001b[0m\u001b[0;34m(\u001b[0m\u001b[0;36m1\u001b[0m\u001b[0;34m+\u001b[0m\u001b[0mC\u001b[0m\u001b[0;34m[\u001b[0m\u001b[0;36m1\u001b[0m\u001b[0;34m,\u001b[0m\u001b[0;36m1\u001b[0m\u001b[0;34m]\u001b[0m\u001b[0;34m)\u001b[0m\u001b[0;34m)\u001b[0m\u001b[0;34m)\u001b[0m\u001b[0;34m\u001b[0m\u001b[0m\n\u001b[1;32m     42\u001b[0m     \u001b[0;32mdef\u001b[0m \u001b[0mgpx1x2gx3\u001b[0m\u001b[0;34m(\u001b[0m\u001b[0mself\u001b[0m\u001b[0;34m,\u001b[0m\u001b[0mC\u001b[0m\u001b[0;34m)\u001b[0m\u001b[0;34m:\u001b[0m\u001b[0;34m\u001b[0m\u001b[0m\n\u001b[0;32m---> 43\u001b[0;31m         \u001b[0;32mreturn\u001b[0m \u001b[0;36m2\u001b[0m\u001b[0;34m/\u001b[0m\u001b[0mnp\u001b[0m\u001b[0;34m.\u001b[0m\u001b[0mpi\u001b[0m\u001b[0;34m/\u001b[0m\u001b[0msafe_sqrt\u001b[0m\u001b[0;34m(\u001b[0m\u001b[0;34m(\u001b[0m\u001b[0;36m1\u001b[0m\u001b[0;34m+\u001b[0m\u001b[0mC\u001b[0m\u001b[0;34m[\u001b[0m\u001b[0;36m0\u001b[0m\u001b[0;34m,\u001b[0m\u001b[0;36m0\u001b[0m\u001b[0;34m]\u001b[0m\u001b[0;34m)\u001b[0m\u001b[0;34m*\u001b[0m\u001b[0;34m(\u001b[0m\u001b[0;36m1\u001b[0m\u001b[0;34m+\u001b[0m\u001b[0mC\u001b[0m\u001b[0;34m[\u001b[0m\u001b[0;36m2\u001b[0m\u001b[0;34m,\u001b[0m\u001b[0;36m2\u001b[0m\u001b[0;34m]\u001b[0m\u001b[0;34m)\u001b[0m\u001b[0;34m-\u001b[0m\u001b[0mC\u001b[0m\u001b[0;34m[\u001b[0m\u001b[0;36m0\u001b[0m\u001b[0;34m,\u001b[0m\u001b[0;36m2\u001b[0m\u001b[0;34m]\u001b[0m\u001b[0;34m**\u001b[0m\u001b[0;36m2\u001b[0m\u001b[0;34m)\u001b[0m \u001b[0;34m*\u001b[0m \u001b[0;34m(\u001b[0m\u001b[0mC\u001b[0m\u001b[0;34m[\u001b[0m\u001b[0;36m1\u001b[0m\u001b[0;34m,\u001b[0m\u001b[0;36m2\u001b[0m\u001b[0;34m]\u001b[0m\u001b[0;34m*\u001b[0m\u001b[0;34m(\u001b[0m\u001b[0;36m1\u001b[0m\u001b[0;34m+\u001b[0m\u001b[0mC\u001b[0m\u001b[0;34m[\u001b[0m\u001b[0;36m0\u001b[0m\u001b[0;34m,\u001b[0m\u001b[0;36m0\u001b[0m\u001b[0;34m]\u001b[0m\u001b[0;34m)\u001b[0m\u001b[0;34m-\u001b[0m\u001b[0mC\u001b[0m\u001b[0;34m[\u001b[0m\u001b[0;36m0\u001b[0m\u001b[0;34m,\u001b[0m\u001b[0;36m1\u001b[0m\u001b[0;34m]\u001b[0m\u001b[0;34m*\u001b[0m\u001b[0mC\u001b[0m\u001b[0;34m[\u001b[0m\u001b[0;36m0\u001b[0m\u001b[0;34m,\u001b[0m\u001b[0;36m2\u001b[0m\u001b[0;34m]\u001b[0m\u001b[0;34m)\u001b[0m\u001b[0;34m/\u001b[0m\u001b[0;34m(\u001b[0m\u001b[0;36m1\u001b[0m\u001b[0;34m+\u001b[0m\u001b[0mC\u001b[0m\u001b[0;34m[\u001b[0m\u001b[0;36m0\u001b[0m\u001b[0;34m,\u001b[0m\u001b[0;36m0\u001b[0m\u001b[0;34m]\u001b[0m\u001b[0;34m)\u001b[0m\u001b[0;34m\u001b[0m\u001b[0m\n\u001b[0m\u001b[1;32m     44\u001b[0m     \u001b[0;32mdef\u001b[0m \u001b[0mgpx1gpx2gx3gx4\u001b[0m\u001b[0;34m(\u001b[0m\u001b[0mself\u001b[0m\u001b[0;34m,\u001b[0m\u001b[0mC\u001b[0m\u001b[0;34m)\u001b[0m\u001b[0;34m:\u001b[0m\u001b[0;34m\u001b[0m\u001b[0m\n\u001b[1;32m     45\u001b[0m         \u001b[0mL4\u001b[0m \u001b[0;34m=\u001b[0m \u001b[0;34m(\u001b[0m\u001b[0;36m1\u001b[0m\u001b[0;34m+\u001b[0m\u001b[0mC\u001b[0m\u001b[0;34m[\u001b[0m\u001b[0;36m0\u001b[0m\u001b[0;34m,\u001b[0m\u001b[0;36m0\u001b[0m\u001b[0;34m]\u001b[0m\u001b[0;34m)\u001b[0m\u001b[0;34m*\u001b[0m\u001b[0;34m(\u001b[0m\u001b[0;36m1\u001b[0m\u001b[0;34m+\u001b[0m\u001b[0mC\u001b[0m\u001b[0;34m[\u001b[0m\u001b[0;36m1\u001b[0m\u001b[0;34m,\u001b[0m\u001b[0;36m1\u001b[0m\u001b[0;34m]\u001b[0m\u001b[0;34m)\u001b[0m\u001b[0;34m-\u001b[0m\u001b[0mC\u001b[0m\u001b[0;34m[\u001b[0m\u001b[0;36m0\u001b[0m\u001b[0;34m,\u001b[0m\u001b[0;36m1\u001b[0m\u001b[0;34m]\u001b[0m\u001b[0;34m**\u001b[0m\u001b[0;36m2\u001b[0m\u001b[0;34m\u001b[0m\u001b[0m\n",
      "\u001b[0;31mZeroDivisionError\u001b[0m: float division by zero"
     ]
    },
    {
     "name": "stdout",
     "output_type": "stream",
     "text": [
      "\r",
      "          \r",
      "500/|/  5%|| 500/10000 [00:47<14:55, 10.60it/s]"
     ]
    }
   ],
   "source": [
    "# 色々な固有値分布でオーパラの数値解をたくさん保存するよ その4 [lam1, ..., lam1, lam2, ..., lam2] (lam1の割合は p1, lam2の割合はp2)\n",
    "# 平均 1, lam1:lam2 = p2:p1 をみたすように調整\n",
    "# 初期値を共通化！ ⇨ 初期値に依存したプラトーの出方とかのばらつきを考えずに比較可能に．\n",
    "# 乱数のタネを一時的に固定して重みを生成するよ\n",
    "randstate = np.random.get_state()\n",
    "np.random.seed(42)\n",
    "ms = MLP(ls=[N,2,1], nobias=True, act=func_erf2, opt=None)\n",
    "mt = MLP(ls=[N,2,1], nobias=True, act=func_erf2, opt=None)\n",
    "np.random.set_state(randstate)\n",
    "ms.l[1].W.data = np.array([[1, 1]], dtype=np.float32) \n",
    "mt.l[1].W.data = np.array([[1, 1]], dtype=np.float32) \n",
    "\n",
    "for p1 in [0.5, 0.6, 0.7, 0.8, 0.9, 0.95, 0.98, 0.99]:\n",
    "    for i in range(1):\n",
    "        p2 = 1.0 - p1\n",
    "        lam1 = 0.5 / p1\n",
    "        lam2 = 0.5 / p2\n",
    "        num1 = int(N * p1 + 0.5)\n",
    "        num2 = int(N * p2 + 0.5)\n",
    "        lambdas = np.sort(np.array([0.0] * (N - num1 - num2) + [lam1] * num1 + [lam2] * num2))\n",
    "\n",
    "        nb_iter = 10000\n",
    "        eta = 1.0\n",
    "        substep = 10 # 数値解法が乱れるので・・・（ルンゲクッタでも・・・）\n",
    "        nrslt = calc_opd_highorder(N, nb_iter, lambdas, eta, mdl=ms, mdl_t=mt, goal_loss=1e-10, ignore_etasq=[True, True], substep=substep)\n",
    "\n",
    "        pathname = './SCM_erf2_ST_N100_macro_twononzeroLambda_jikken2_commonInit/lam1={},p1={},lam2={},p2={}'.format(lam1, p1, lam2, p2)\n",
    "        os.makedirs(pathname, exist_ok=True)\n",
    "        np.savez(pathname+'/{}.npz'.format(i),\n",
    "                 opL=nrslt['opL'], opQRT=nrslt['opQRT'],\n",
    "                 mdl0=nrslt['mdl0'], mdl_t=nrslt['mdl_t'])\n",
    "\n",
    "        plot_macro_dynamics(nrslt['opL'], nrslt['opQRT'][:,0,:,:], N=N)\n",
    "        plt.savefig(pathname+'/{}.png'.format(i))\n",
    "        plt.close()"
   ]
  },
  {
   "cell_type": "code",
   "execution_count": 288,
   "metadata": {
    "collapsed": false
   },
   "outputs": [
    {
     "name": "stdout",
     "output_type": "stream",
     "text": [
      "0.5263157894736842 0.95 9.999999999999991 0.050000000000000044 502\n",
      "0.5555555555555556 0.9 5.000000000000001 0.09999999999999998 434\n",
      "0.625 0.8 2.5000000000000004 0.19999999999999996 383\n",
      "0.7142857142857143 0.7 1.6666666666666665 0.30000000000000004 343\n",
      "0.8333333333333334 0.6 1.25 0.4 308\n",
      "1.0 0.5 1.0 0.5 285\n"
     ]
    },
    {
     "data": {
      "image/png": "[encoded data removed]",
      "text/plain": [
       "<matplotlib.figure.Figure at 0x11e89f630>"
      ]
     },
     "metadata": {},
     "output_type": "display_data"
    }
   ],
   "source": [
    "pathname = './SCM_erf2_ST_N100_macro_twononzeroLambda_jikken2_commonInit/'\n",
    "\n",
    "for filename in glob.glob(pathname + '*/*.npz'):\n",
    "    npz = np.load(filename)\n",
    "    lam1, p1, lam2, p2 = map(float, re.match('.*lam1=(.*),p1=(.*),lam2=(.*),p2=(.*)/.*', filename).groups())\n",
    "    opL = npz['opL']\n",
    "    if opL[-1] != opL[-1] or opL[-1] == np.inf or opL[-1] == -np.inf:\n",
    "        print('!!', filename, ':diverged')\n",
    "        continue\n",
    "    plt.plot(np.arange(len(opL)), opL)\n",
    "    print(lam1,p1,lam2,p2, len(opL))\n",
    "plt.yscale('log')\n",
    "# plt.ylim(1e-4, 1e0)\n",
    "# plt.xscale('log')\n",
    "# plt.xlim(0, 100)\n",
    "plt.show()"
   ]
  },
  {
   "cell_type": "code",
   "execution_count": null,
   "metadata": {
    "collapsed": true
   },
   "outputs": [],
   "source": [
    "# reluの場合を見てみよう．まずは，[0,...,0,lam,..,lam]の場合から．"
   ]
  },
  {
   "cell_type": "code",
   "execution_count": 292,
   "metadata": {
    "collapsed": false
   },
   "outputs": [
    {
     "name": "stdout",
     "output_type": "stream",
     "text": [
      "nQRT: [[ 0.8273063  -0.1192889   0.05954009 -0.00732629]\n",
      " [-0.1192889   0.90088715  0.11283072 -0.02027471]\n",
      " [ 0.05954009  0.11283072  1.17370965  0.02937043]\n",
      " [-0.00732629 -0.02027471  0.02937043  0.80423793]]\n",
      "nABC: [[1. 1. 1. 1.]\n",
      " [1. 1. 1. 1.]\n",
      " [1. 1. 1. 1.]\n",
      " [1. 1. 1. 1.]]\n",
      "sqrt(nT4/nT2):  [[1. 1.]\n",
      " [1. 1.]]\n",
      "nT2/nT1:  [[1. 1.]\n",
      " [1. 1.]]\n",
      "QRTcoef:  [1.         1.17370965]\n",
      "nb_iter: 10000\n",
      "nQRT: [[ 0.76018373 -0.12734675  0.04005091 -0.02431084]\n",
      " [-0.12734675  0.83298077  0.10203625 -0.0103973 ]\n",
      " [ 0.04005091  0.10203625  0.950565    0.00585364]\n",
      " [-0.02431084 -0.0103973   0.00585364  0.75901313]]\n",
      "nABC: [[1. 1. 1. 1.]\n",
      " [1. 1. 1. 1.]\n",
      " [1. 1. 1. 1.]\n",
      " [1. 1. 1. 1.]]\n",
      "sqrt(nT4/nT2):  [[1. 1.]\n",
      " [1. 1.]]\n",
      "nT2/nT1:  [[1. 1.]\n",
      " [1. 1.]]\n",
      "QRTcoef:  [1.       0.950565]\n",
      "nb_iter: 10000\n",
      "nQRT: [[ 6.46323288e-01 -6.66840208e-02  3.76004798e-02  3.54307969e-03]\n",
      " [-6.66840208e-02  7.01781072e-01  8.96127242e-02 -3.92111132e-04]\n",
      " [ 3.76004798e-02  8.96127242e-02  8.33066939e-01  1.17198879e-02]\n",
      " [ 3.54307969e-03 -3.92111132e-04  1.17198879e-02  7.18065205e-01]]\n",
      "nABC: [[1. 1. 1. 1.]\n",
      " [1. 1. 1. 1.]\n",
      " [1. 1. 1. 1.]\n",
      " [1. 1. 1. 1.]]\n",
      "sqrt(nT4/nT2):  [[1. 1.]\n",
      " [1. 1.]]\n",
      "nT2/nT1:  [[1. 1.]\n",
      " [1. 1.]]\n",
      "QRTcoef:  [1.         0.83306694]\n",
      "nb_iter: 10000\n",
      "nQRT: [[ 0.58178317 -0.11062954  0.02673827  0.01119818]\n",
      " [-0.11062954  0.58084601  0.11321518  0.00329713]\n",
      " [ 0.02673827  0.11321518  0.76106887  0.06938801]\n",
      " [ 0.01119818  0.00329713  0.06938801  0.60715116]]\n",
      "nABC: [[1. 1. 1. 1.]\n",
      " [1. 1. 1. 1.]\n",
      " [1. 1. 1. 1.]\n",
      " [1. 1. 1. 1.]]\n",
      "sqrt(nT4/nT2):  [[1. 1.]\n",
      " [1. 1.]]\n",
      "nT2/nT1:  [[1. 1.]\n",
      " [1. 1.]]\n",
      "QRTcoef:  [1.         0.76106887]\n",
      "nb_iter: 10000\n",
      "nQRT: [[ 0.45412594 -0.08132645  0.07279719  0.00232991]\n",
      " [-0.08132645  0.4818088   0.11522897  0.02449065]\n",
      " [ 0.07279719  0.11522897  0.64740053  0.03015045]\n",
      " [ 0.00232991  0.02449065  0.03015045  0.57269876]]\n",
      "nABC: [[1. 1. 1. 1.]\n",
      " [1. 1. 1. 1.]\n",
      " [1. 1. 1. 1.]\n",
      " [1. 1. 1. 1.]]\n",
      "sqrt(nT4/nT2):  [[1. 1.]\n",
      " [1. 1.]]\n",
      "nT2/nT1:  [[1. 1.]\n",
      " [1. 1.]]\n",
      "QRTcoef:  [1.         0.64740053]\n",
      "nb_iter: 10000\n",
      "nQRT: [[ 0.37473574 -0.06537551  0.07783007 -0.00610843]\n",
      " [-0.06537551  0.39489367  0.12146946  0.01961719]\n",
      " [ 0.07783007  0.12146946  0.55817356  0.01627833]\n",
      " [-0.00610843  0.01961719  0.01627833  0.49764187]]\n",
      "nABC: [[1. 1. 1. 1.]\n",
      " [1. 1. 1. 1.]\n",
      " [1. 1. 1. 1.]\n",
      " [1. 1. 1. 1.]]\n",
      "sqrt(nT4/nT2):  [[1. 1.]\n",
      " [1. 1.]]\n",
      "nT2/nT1:  [[1. 1.]\n",
      " [1. 1.]]\n",
      "QRTcoef:  [1.         0.55817356]\n",
      "nb_iter: 10000\n",
      "\n",
      "nQRT: [[ 0.74457567 -0.10736001  0.05358608 -0.00659366]\n",
      " [-0.10736001  0.81079843  0.10154765 -0.01824724]\n",
      " [ 0.05358608  0.10154765  1.05633868  0.02643339]\n",
      " [-0.00659366 -0.01824724  0.02643339  0.72381413]]\n",
      "nABC: [[1. 1. 1. 1.]\n",
      " [1. 1. 1. 1.]\n",
      " [1. 1. 1. 1.]\n",
      " [1. 1. 1. 1.]]\n",
      "sqrt(nT4/nT2):  [[0.9 0.9]\n",
      " [0.9 0.9]]\n",
      "nT2/nT1:  [[0.9 0.9]\n",
      " [0.9 0.9]]\n",
      "QRTcoef:  [0.9        0.95070482]\n",
      "nb_iter: 10000\n",
      "nQRT: [[ 0.68416535 -0.11461207  0.03604581 -0.02187975]\n",
      " [-0.11461207  0.74968269  0.09183263 -0.00935757]\n",
      " [ 0.03604581  0.09183263  0.8555085   0.00526827]\n",
      " [-0.02187975 -0.00935757  0.00526827  0.68311182]]\n",
      "nABC: [[1. 1. 1. 1.]\n",
      " [1. 1. 1. 1.]\n",
      " [1. 1. 1. 1.]\n",
      " [1. 1. 1. 1.]]\n",
      "sqrt(nT4/nT2):  [[0.9 0.9]\n",
      " [0.9 0.9]]\n",
      "nT2/nT1:  [[0.9 0.9]\n",
      " [0.9 0.9]]\n",
      "QRTcoef:  [0.9        0.76995765]\n",
      "nb_iter: 10000\n",
      "nQRT: [[ 5.81690959e-01 -6.00156187e-02  3.38404318e-02  3.18877173e-03]\n",
      " [-6.00156187e-02  6.31602965e-01  8.06514517e-02 -3.52900019e-04]\n",
      " [ 3.38404318e-02  8.06514517e-02  7.49760245e-01  1.05478991e-02]\n",
      " [ 3.18877173e-03 -3.52900019e-04  1.05478991e-02  6.46258684e-01]]\n",
      "nABC: [[1. 1. 1. 1.]\n",
      " [1. 1. 1. 1.]\n",
      " [1. 1. 1. 1.]\n",
      " [1. 1. 1. 1.]]\n",
      "sqrt(nT4/nT2):  [[0.9 0.9]\n",
      " [0.9 0.9]]\n",
      "nT2/nT1:  [[0.9 0.9]\n",
      " [0.9 0.9]]\n",
      "QRTcoef:  [0.9        0.67478422]\n",
      "nb_iter: 10000\n",
      "nQRT: [[ 0.52360485 -0.09956659  0.02406444  0.01007836]\n",
      " [-0.09956659  0.52276141  0.10189366  0.00296742]\n",
      " [ 0.02406444  0.10189366  0.68496198  0.06244921]\n",
      " [ 0.01007836  0.00296742  0.06244921  0.54643605]]\n",
      "nABC: [[1. 1. 1. 1.]\n",
      " [1. 1. 1. 1.]\n",
      " [1. 1. 1. 1.]\n",
      " [1. 1. 1. 1.]]\n",
      "sqrt(nT4/nT2):  [[0.9 0.9]\n",
      " [0.9 0.9]]\n",
      "nT2/nT1:  [[0.9 0.9]\n",
      " [0.9 0.9]]\n",
      "QRTcoef:  [0.9        0.61646579]\n",
      "nb_iter: 10000\n",
      "nQRT: [[ 0.40871334 -0.07319381  0.06551747  0.00209692]\n",
      " [-0.07319381  0.43362792  0.10370608  0.02204158]\n",
      " [ 0.06551747  0.10370608  0.58266047  0.0271354 ]\n",
      " [ 0.00209692  0.02204158  0.0271354   0.51542888]]\n",
      "nABC: [[1. 1. 1. 1.]\n",
      " [1. 1. 1. 1.]\n",
      " [1. 1. 1. 1.]\n",
      " [1. 1. 1. 1.]]\n",
      "sqrt(nT4/nT2):  [[0.9 0.9]\n",
      " [0.9 0.9]]\n",
      "nT2/nT1:  [[0.9 0.9]\n",
      " [0.9 0.9]]\n",
      "QRTcoef:  [0.9        0.52439443]\n",
      "nb_iter: 10000\n",
      "nQRT: [[ 0.33726216 -0.05883796  0.07004707 -0.00549758]\n",
      " [-0.05883796  0.3554043   0.10932252  0.01765547]\n",
      " [ 0.07004707  0.10932252  0.5023562   0.0146505 ]\n",
      " [-0.00549758  0.01765547  0.0146505   0.44787768]]\n",
      "nABC: [[1. 1. 1. 1.]\n",
      " [1. 1. 1. 1.]\n",
      " [1. 1. 1. 1.]\n",
      " [1. 1. 1. 1.]]\n",
      "sqrt(nT4/nT2):  [[0.9 0.9]\n",
      " [0.9 0.9]]\n",
      "nT2/nT1:  [[0.9 0.9]\n",
      " [0.9 0.9]]\n",
      "QRTcoef:  [0.9        0.45212058]\n",
      "nb_iter: 10000\n",
      "nQRT: [[ 0.66184504 -0.09543112  0.04763207 -0.00586103]\n",
      " [-0.09543112  0.72070972  0.09026458 -0.01621977]\n",
      " [ 0.04763207  0.09026458  0.93896772  0.02349634]\n",
      " [-0.00586103 -0.01621977  0.02349634  0.64339034]]\n",
      "nABC: [[1. 1. 1. 1.]\n",
      " [1. 1. 1. 1.]\n",
      " [1. 1. 1. 1.]\n",
      " [1. 1. 1. 1.]]\n",
      "sqrt(nT4/nT2):  [[0.8 0.8]\n",
      " [0.8 0.8]]\n",
      "nT2/nT1:  [[0.8 0.8]\n",
      " [0.8 0.8]]\n",
      "QRTcoef:  [0.8        0.75117418]\n",
      "nb_iter: 10000\n",
      "nQRT: [[ 0.60814698 -0.1018774   0.03204072 -0.01944867]\n",
      " [-0.1018774   0.66638461  0.081629   -0.00831784]\n",
      " [ 0.03204072  0.081629    0.760452    0.00468291]\n",
      " [-0.01944867 -0.00831784  0.00468291  0.60721051]]\n",
      "nABC: [[1. 1. 1. 1.]\n",
      " [1. 1. 1. 1.]\n",
      " [1. 1. 1. 1.]\n",
      " [1. 1. 1. 1.]]\n",
      "sqrt(nT4/nT2):  [[0.8 0.8]\n",
      " [0.8 0.8]]\n",
      "nT2/nT1:  [[0.8 0.8]\n",
      " [0.8 0.8]]\n",
      "QRTcoef:  [0.8       0.6083616]\n",
      "nb_iter: 10000\n",
      "nQRT: [[ 5.17058630e-01 -5.33472166e-02  3.00803838e-02  2.83446376e-03]\n",
      " [-5.33472166e-02  5.61424858e-01  7.16901793e-02 -3.13688906e-04]\n",
      " [ 3.00803838e-02  7.16901793e-02  6.66453551e-01  9.37591034e-03]\n",
      " [ 2.83446376e-03 -3.13688906e-04  9.37591034e-03  5.74452164e-01]]\n",
      "nABC: [[1. 1. 1. 1.]\n",
      " [1. 1. 1. 1.]\n",
      " [1. 1. 1. 1.]\n",
      " [1. 1. 1. 1.]]\n",
      "sqrt(nT4/nT2):  [[0.8 0.8]\n",
      " [0.8 0.8]]\n",
      "nT2/nT1:  [[0.8 0.8]\n",
      " [0.8 0.8]]\n",
      "QRTcoef:  [0.8        0.53316284]\n",
      "nb_iter: 10000\n",
      "\n",
      "nQRT: [[ 0.46542653 -0.08850364  0.02139061  0.00895854]\n",
      " [-0.08850364  0.46467681  0.09057214  0.00263771]\n",
      " [ 0.02139061  0.09057214  0.6088551   0.05551041]\n",
      " [ 0.00895854  0.00263771  0.05551041  0.48572093]]\n",
      "nABC: [[1. 1. 1. 1.]\n",
      " [1. 1. 1. 1.]\n",
      " [1. 1. 1. 1.]\n",
      " [1. 1. 1. 1.]]\n",
      "sqrt(nT4/nT2):  [[0.8 0.8]\n",
      " [0.8 0.8]]\n",
      "nT2/nT1:  [[0.8 0.8]\n",
      " [0.8 0.8]]\n",
      "QRTcoef:  [0.8        0.48708408]\n",
      "nb_iter: 10000\n",
      "nQRT: [[ 0.36330075 -0.06506116  0.05823775  0.00186393]\n",
      " [-0.06506116  0.38544704  0.09218318  0.01959252]\n",
      " [ 0.05823775  0.09218318  0.51792042  0.02412036]\n",
      " [ 0.00186393  0.01959252  0.02412036  0.458159  ]]\n",
      "nABC: [[1. 1. 1. 1.]\n",
      " [1. 1. 1. 1.]\n",
      " [1. 1. 1. 1.]\n",
      " [1. 1. 1. 1.]]\n",
      "sqrt(nT4/nT2):  [[0.8 0.8]\n",
      " [0.8 0.8]]\n",
      "nT2/nT1:  [[0.8 0.8]\n",
      " [0.8 0.8]]\n",
      "QRTcoef:  [0.8        0.41433634]\n",
      "nb_iter: 10000\n",
      "nQRT: [[ 0.29978859 -0.05230041  0.06226406 -0.00488674]\n",
      " [-0.05230041  0.31591493  0.09717557  0.01569375]\n",
      " [ 0.06226406  0.09717557  0.44653884  0.01302267]\n",
      " [-0.00488674  0.01569375  0.01302267  0.3981135 ]]\n",
      "nABC: [[1. 1. 1. 1.]\n",
      " [1. 1. 1. 1.]\n",
      " [1. 1. 1. 1.]\n",
      " [1. 1. 1. 1.]]\n",
      "sqrt(nT4/nT2):  [[0.8 0.8]\n",
      " [0.8 0.8]]\n",
      "nT2/nT1:  [[0.8 0.8]\n",
      " [0.8 0.8]]\n",
      "QRTcoef:  [0.8        0.35723108]\n",
      "nb_iter: 10000\n",
      "nQRT: [[ 0.57911441 -0.08350223  0.04167806 -0.0051284 ]\n",
      " [-0.08350223  0.630621    0.07898151 -0.0141923 ]\n",
      " [ 0.04167806  0.07898151  0.82159675  0.0205593 ]\n",
      " [-0.0051284  -0.0141923   0.0205593   0.56296655]]\n",
      "nABC: [[1. 1. 1. 1.]\n",
      " [1. 1. 1. 1.]\n",
      " [1. 1. 1. 1.]\n",
      " [1. 1. 1. 1.]]\n",
      "sqrt(nT4/nT2):  [[0.7 0.7]\n",
      " [0.7 0.7]]\n",
      "nT2/nT1:  [[0.7 0.7]\n",
      " [0.7 0.7]]\n",
      "QRTcoef:  [0.7        0.57511773]\n",
      "nb_iter: 10000\n",
      "\n",
      "nQRT: [[ 0.53212861 -0.08914272  0.02803563 -0.01701759]\n",
      " [-0.08914272  0.58308654  0.07142538 -0.00727811]\n",
      " [ 0.02803563  0.07142538  0.6653955   0.00409755]\n",
      " [-0.01701759 -0.00727811  0.00409755  0.53130919]]\n",
      "nABC: [[1. 1. 1. 1.]\n",
      " [1. 1. 1. 1.]\n",
      " [1. 1. 1. 1.]\n",
      " [1. 1. 1. 1.]]\n",
      "sqrt(nT4/nT2):  [[0.7 0.7]\n",
      " [0.7 0.7]]\n",
      "nT2/nT1:  [[0.7 0.7]\n",
      " [0.7 0.7]]\n",
      "QRTcoef:  [0.7        0.46577685]\n",
      "nb_iter: 10000\n",
      "nQRT: [[ 4.52426302e-01 -4.66788146e-02  2.63203359e-02  2.48015579e-03]\n",
      " [-4.66788146e-02  4.91246751e-01  6.27289069e-02 -2.74477793e-04]\n",
      " [ 2.63203359e-02  6.27289069e-02  5.83146858e-01  8.20392155e-03]\n",
      " [ 2.48015579e-03 -2.74477793e-04  8.20392155e-03  5.02645643e-01]]\n",
      "nABC: [[1. 1. 1. 1.]\n",
      " [1. 1. 1. 1.]\n",
      " [1. 1. 1. 1.]\n",
      " [1. 1. 1. 1.]]\n",
      "sqrt(nT4/nT2):  [[0.7 0.7]\n",
      " [0.7 0.7]]\n",
      "nT2/nT1:  [[0.7 0.7]\n",
      " [0.7 0.7]]\n",
      "QRTcoef:  [0.7       0.4082028]\n",
      "nb_iter: 10000\n",
      "nQRT: [[ 0.40724822 -0.07744068  0.01871679  0.00783872]\n",
      " [-0.07744068  0.40659221  0.07925063  0.00230799]\n",
      " [ 0.01871679  0.07925063  0.53274821  0.0485716 ]\n",
      " [ 0.00783872  0.00230799  0.0485716   0.42500581]]\n",
      "nABC: [[1. 1. 1. 1.]\n",
      " [1. 1. 1. 1.]\n",
      " [1. 1. 1. 1.]\n",
      " [1. 1. 1. 1.]]\n",
      "sqrt(nT4/nT2):  [[0.7 0.7]\n",
      " [0.7 0.7]]\n",
      "nT2/nT1:  [[0.7 0.7]\n",
      " [0.7 0.7]]\n",
      "QRTcoef:  [0.7        0.37292375]\n",
      "nb_iter: 10000\n",
      "nQRT: [[ 0.31788816 -0.05692852  0.05095803  0.00163094]\n",
      " [-0.05692852  0.33726616  0.08066028  0.01714345]\n",
      " [ 0.05095803  0.08066028  0.45318037  0.02110531]\n",
      " [ 0.00163094  0.01714345  0.02110531  0.40088913]]\n",
      "nABC: [[1. 1. 1. 1.]\n",
      " [1. 1. 1. 1.]\n",
      " [1. 1. 1. 1.]\n",
      " [1. 1. 1. 1.]]\n",
      "sqrt(nT4/nT2):  [[0.7 0.7]\n",
      " [0.7 0.7]]\n",
      "nT2/nT1:  [[0.7 0.7]\n",
      " [0.7 0.7]]\n",
      "QRTcoef:  [0.7        0.31722626]\n",
      "nb_iter: 10000\n",
      "\n",
      "nQRT: [[ 0.26231501 -0.04576286  0.05448105 -0.0042759 ]\n",
      " [-0.04576286  0.27642557  0.08502863  0.01373203]\n",
      " [ 0.05448105  0.08502863  0.39072149  0.01139483]\n",
      " [-0.0042759   0.01373203  0.01139483  0.34834931]]\n",
      "nABC: [[1. 1. 1. 1.]\n",
      " [1. 1. 1. 1.]\n",
      " [1. 1. 1. 1.]\n",
      " [1. 1. 1. 1.]]\n",
      "sqrt(nT4/nT2):  [[0.7 0.7]\n",
      " [0.7 0.7]]\n",
      "nT2/nT1:  [[0.7 0.7]\n",
      " [0.7 0.7]]\n",
      "QRTcoef:  [0.7        0.27350504]\n",
      "nb_iter: 10000\n",
      "nQRT: [[ 0.49638378 -0.07157334  0.03572405 -0.00439577]\n",
      " [-0.07157334  0.54053229  0.06769843 -0.01216482]\n",
      " [ 0.03572405  0.06769843  0.70422579  0.01762226]\n",
      " [-0.00439577 -0.01216482  0.01762226  0.48254276]]\n",
      "nABC: [[1. 1. 1. 1.]\n",
      " [1. 1. 1. 1.]\n",
      " [1. 1. 1. 1.]\n",
      " [1. 1. 1. 1.]]\n",
      "sqrt(nT4/nT2):  [[0.6 0.6]\n",
      " [0.6 0.6]]\n",
      "nT2/nT1:  [[0.6 0.6]\n",
      " [0.6 0.6]]\n",
      "QRTcoef:  [0.6        0.42253547]\n",
      "nb_iter: 10000\n",
      "nQRT: [[ 0.45611024 -0.07640805  0.02403054 -0.0145865 ]\n",
      " [-0.07640805  0.49978846  0.06122175 -0.00623838]\n",
      " [ 0.02403054  0.06122175  0.570339    0.00351218]\n",
      " [-0.0145865  -0.00623838  0.00351218  0.45540788]]\n",
      "nABC: [[1. 1. 1. 1.]\n",
      " [1. 1. 1. 1.]\n",
      " [1. 1. 1. 1.]\n",
      " [1. 1. 1. 1.]]\n",
      "sqrt(nT4/nT2):  [[0.6 0.6]\n",
      " [0.6 0.6]]\n",
      "nT2/nT1:  [[0.6 0.6]\n",
      " [0.6 0.6]]\n",
      "QRTcoef:  [0.6       0.3422034]\n",
      "nb_iter: 10000\n",
      "nQRT: [[ 3.87793973e-01 -4.00104125e-02  2.25602879e-02  2.12584782e-03]\n",
      " [-4.00104125e-02  4.21068643e-01  5.37676345e-02 -2.35266679e-04]\n",
      " [ 2.25602879e-02  5.37676345e-02  4.99840164e-01  7.03193275e-03]\n",
      " [ 2.12584782e-03 -2.35266679e-04  7.03193275e-03  4.30839123e-01]]\n",
      "nABC: [[1. 1. 1. 1.]\n",
      " [1. 1. 1. 1.]\n",
      " [1. 1. 1. 1.]\n",
      " [1. 1. 1. 1.]]\n",
      "sqrt(nT4/nT2):  [[0.6 0.6]\n",
      " [0.6 0.6]]\n",
      "nT2/nT1:  [[0.6 0.6]\n",
      " [0.6 0.6]]\n",
      "QRTcoef:  [0.6       0.2999041]\n",
      "nb_iter: 10000\n",
      "\n",
      "nQRT: [[ 0.3490699  -0.06637773  0.01604296  0.00671891]\n",
      " [-0.06637773  0.34850761  0.06792911  0.00197828]\n",
      " [ 0.01604296  0.06792911  0.45664132  0.0416328 ]\n",
      " [ 0.00671891  0.00197828  0.0416328   0.3642907 ]]\n",
      "nABC: [[1. 1. 1. 1.]\n",
      " [1. 1. 1. 1.]\n",
      " [1. 1. 1. 1.]\n",
      " [1. 1. 1. 1.]]\n",
      "sqrt(nT4/nT2):  [[0.6 0.6]\n",
      " [0.6 0.6]]\n",
      "nT2/nT1:  [[0.6 0.6]\n",
      " [0.6 0.6]]\n",
      "QRTcoef:  [0.6        0.27398479]\n",
      "nb_iter: 10000\n",
      "nQRT: [[ 0.27247556 -0.04879587  0.04367831  0.00139794]\n",
      " [-0.04879587  0.28908528  0.06913738  0.01469439]\n",
      " [ 0.04367831  0.06913738  0.38844032  0.01809027]\n",
      " [ 0.00139794  0.01469439  0.01809027  0.34361925]]\n",
      "nABC: [[1. 1. 1. 1.]\n",
      " [1. 1. 1. 1.]\n",
      " [1. 1. 1. 1.]\n",
      " [1. 1. 1. 1.]]\n",
      "sqrt(nT4/nT2):  [[0.6 0.6]\n",
      " [0.6 0.6]]\n",
      "nT2/nT1:  [[0.6 0.6]\n",
      " [0.6 0.6]]\n",
      "QRTcoef:  [0.6        0.23306419]\n",
      "nb_iter: 10000\n",
      "nQRT: [[ 0.22484144 -0.03922531  0.04669804 -0.00366506]\n",
      " [-0.03922531  0.2369362   0.07288168  0.01177032]\n",
      " [ 0.04669804  0.07288168  0.33490413  0.009767  ]\n",
      " [-0.00366506  0.01177032  0.009767    0.29858512]]\n",
      "nABC: [[1. 1. 1. 1.]\n",
      " [1. 1. 1. 1.]\n",
      " [1. 1. 1. 1.]\n",
      " [1. 1. 1. 1.]]\n",
      "sqrt(nT4/nT2):  [[0.6 0.6]\n",
      " [0.6 0.6]]\n",
      "nT2/nT1:  [[0.6 0.6]\n",
      " [0.6 0.6]]\n",
      "QRTcoef:  [0.6        0.20094248]\n",
      "nb_iter: 10000\n",
      "nQRT: [[ 0.41365315 -0.05964445  0.02977004 -0.00366314]\n",
      " [-0.05964445  0.45044357  0.05641536 -0.01013735]\n",
      " [ 0.02977004  0.05641536  0.58685482  0.01468521]\n",
      " [-0.00366314 -0.01013735  0.01468521  0.40211896]]\n",
      "nABC: [[1. 1. 1. 1.]\n",
      " [1. 1. 1. 1.]\n",
      " [1. 1. 1. 1.]\n",
      " [1. 1. 1. 1.]]\n",
      "sqrt(nT4/nT2):  [[0.5 0.5]\n",
      " [0.5 0.5]]\n",
      "nT2/nT1:  [[0.5 0.5]\n",
      " [0.5 0.5]]\n",
      "QRTcoef:  [0.5        0.29342741]\n",
      "nb_iter: 10000\n",
      "\n",
      "nQRT: [[ 0.38009186 -0.06367337  0.02002545 -0.01215542]\n",
      " [-0.06367337  0.41649038  0.05101813 -0.00519865]\n",
      " [ 0.02002545  0.05101813  0.4752825   0.00292682]\n",
      " [-0.01215542 -0.00519865  0.00292682  0.37950657]]\n",
      "nABC: [[1. 1. 1. 1.]\n",
      " [1. 1. 1. 1.]\n",
      " [1. 1. 1. 1.]\n",
      " [1. 1. 1. 1.]]\n",
      "sqrt(nT4/nT2):  [[0.5 0.5]\n",
      " [0.5 0.5]]\n",
      "nT2/nT1:  [[0.5 0.5]\n",
      " [0.5 0.5]]\n",
      "QRTcoef:  [0.5        0.23764125]\n",
      "nb_iter: 10000\n",
      "nQRT: [[ 3.23161644e-01 -3.33420104e-02  1.88002399e-02  1.77153985e-03]\n",
      " [-3.33420104e-02  3.50890536e-01  4.48063621e-02 -1.96055566e-04]\n",
      " [ 1.88002399e-02  4.48063621e-02  4.16533470e-01  5.85994396e-03]\n",
      " [ 1.77153985e-03 -1.96055566e-04  5.85994396e-03  3.59032602e-01]]\n",
      "nABC: [[1. 1. 1. 1.]\n",
      " [1. 1. 1. 1.]\n",
      " [1. 1. 1. 1.]\n",
      " [1. 1. 1. 1.]]\n",
      "sqrt(nT4/nT2):  [[0.5 0.5]\n",
      " [0.5 0.5]]\n",
      "nT2/nT1:  [[0.5 0.5]\n",
      " [0.5 0.5]]\n",
      "QRTcoef:  [0.5        0.20826673]\n",
      "nb_iter: 10000\n",
      "nQRT: [[ 0.29089158 -0.05531477  0.01336913  0.00559909]\n",
      " [-0.05531477  0.29042301  0.05660759  0.00164857]\n",
      " [ 0.01336913  0.05660759  0.38053444  0.034694  ]\n",
      " [ 0.00559909  0.00164857  0.034694    0.30357558]]\n",
      "nABC: [[1. 1. 1. 1.]\n",
      " [1. 1. 1. 1.]\n",
      " [1. 1. 1. 1.]\n",
      " [1. 1. 1. 1.]]\n",
      "sqrt(nT4/nT2):  [[0.5 0.5]\n",
      " [0.5 0.5]]\n",
      "nT2/nT1:  [[0.5 0.5]\n",
      " [0.5 0.5]]\n",
      "QRTcoef:  [0.5        0.19026722]\n",
      "nb_iter: 10000\n",
      "nQRT: [[ 0.22706297 -0.04066323  0.03639859  0.00116495]\n",
      " [-0.04066323  0.2409044   0.05761449  0.01224532]\n",
      " [ 0.03639859  0.05761449  0.32370026  0.01507522]\n",
      " [ 0.00116495  0.01224532  0.01507522  0.28634938]]\n",
      "nABC: [[1. 1. 1. 1.]\n",
      " [1. 1. 1. 1.]\n",
      " [1. 1. 1. 1.]\n",
      " [1. 1. 1. 1.]]\n",
      "sqrt(nT4/nT2):  [[0.5 0.5]\n",
      " [0.5 0.5]]\n",
      "nT2/nT1:  [[0.5 0.5]\n",
      " [0.5 0.5]]\n",
      "QRTcoef:  [0.5        0.16185013]\n",
      "nb_iter: 10000\n",
      "nQRT: [[ 0.18736787 -0.03268776  0.03891504 -0.00305421]\n",
      " [-0.03268776  0.19744683  0.06073473  0.0098086 ]\n",
      " [ 0.03891504  0.06073473  0.27908678  0.00813917]\n",
      " [-0.00305421  0.0098086   0.00813917  0.24882094]]\n",
      "nABC: [[1. 1. 1. 1.]\n",
      " [1. 1. 1. 1.]\n",
      " [1. 1. 1. 1.]\n",
      " [1. 1. 1. 1.]]\n",
      "sqrt(nT4/nT2):  [[0.5 0.5]\n",
      " [0.5 0.5]]\n",
      "nT2/nT1:  [[0.5 0.5]\n",
      " [0.5 0.5]]\n",
      "QRTcoef:  [0.5        0.13954339]\n",
      "nb_iter: 10000\n",
      "nQRT: [[ 0.33092252 -0.04771556  0.02381603 -0.00293051]\n",
      " [-0.04771556  0.36035486  0.04513229 -0.00810988]\n",
      " [ 0.02381603  0.04513229  0.46948386  0.01174817]\n",
      " [-0.00293051 -0.00810988  0.01174817  0.32169517]]\n",
      "nABC: [[1. 1. 1. 1.]\n",
      " [1. 1. 1. 1.]\n",
      " [1. 1. 1. 1.]\n",
      " [1. 1. 1. 1.]]\n",
      "sqrt(nT4/nT2):  [[0.4 0.4]\n",
      " [0.4 0.4]]\n",
      "nT2/nT1:  [[0.4 0.4]\n",
      " [0.4 0.4]]\n",
      "QRTcoef:  [0.4        0.18779354]\n",
      "nb_iter: 10000\n",
      "nQRT: [[ 0.30407349 -0.0509387   0.01602036 -0.00972433]\n",
      " [-0.0509387   0.33319231  0.0408145  -0.00415892]\n",
      " [ 0.01602036  0.0408145   0.380226    0.00234145]\n",
      " [-0.00972433 -0.00415892  0.00234145  0.30360525]]\n",
      "nABC: [[1. 1. 1. 1.]\n",
      " [1. 1. 1. 1.]\n",
      " [1. 1. 1. 1.]\n",
      " [1. 1. 1. 1.]]\n",
      "sqrt(nT4/nT2):  [[0.4 0.4]\n",
      " [0.4 0.4]]\n",
      "nT2/nT1:  [[0.4 0.4]\n",
      " [0.4 0.4]]\n",
      "QRTcoef:  [0.4       0.1520904]\n",
      "nb_iter: 10000\n",
      "\n",
      "nQRT: [[ 2.58529315e-01 -2.66736083e-02  1.50401919e-02  1.41723188e-03]\n",
      " [-2.66736083e-02  2.80712429e-01  3.58450897e-02 -1.56844453e-04]\n",
      " [ 1.50401919e-02  3.58450897e-02  3.33226776e-01  4.68795517e-03]\n",
      " [ 1.41723188e-03 -1.56844453e-04  4.68795517e-03  2.87226082e-01]]\n",
      "nABC: [[1. 1. 1. 1.]\n",
      " [1. 1. 1. 1.]\n",
      " [1. 1. 1. 1.]\n",
      " [1. 1. 1. 1.]]\n",
      "sqrt(nT4/nT2):  [[0.4 0.4]\n",
      " [0.4 0.4]]\n",
      "nT2/nT1:  [[0.4 0.4]\n",
      " [0.4 0.4]]\n",
      "QRTcoef:  [0.4        0.13329071]\n",
      "nb_iter: 10000\n",
      "nQRT: [[ 0.23271327 -0.04425182  0.01069531  0.00447927]\n",
      " [-0.04425182  0.23233841  0.04528607  0.00131885]\n",
      " [ 0.01069531  0.04528607  0.30442755  0.0277552 ]\n",
      " [ 0.00447927  0.00131885  0.0277552   0.24286047]]\n",
      "nABC: [[1. 1. 1. 1.]\n",
      " [1. 1. 1. 1.]\n",
      " [1. 1. 1. 1.]\n",
      " [1. 1. 1. 1.]]\n",
      "sqrt(nT4/nT2):  [[0.4 0.4]\n",
      " [0.4 0.4]]\n",
      "nT2/nT1:  [[0.4 0.4]\n",
      " [0.4 0.4]]\n",
      "QRTcoef:  [0.4        0.12177102]\n",
      "nb_iter: 10000\n",
      "nQRT: [[ 0.18165038 -0.03253058  0.02911888  0.00093196]\n",
      " [-0.03253058  0.19272352  0.04609159  0.00979626]\n",
      " [ 0.02911888  0.04609159  0.25896021  0.01206018]\n",
      " [ 0.00093196  0.00979626  0.01206018  0.2290795 ]]\n",
      "nABC: [[1. 1. 1. 1.]\n",
      " [1. 1. 1. 1.]\n",
      " [1. 1. 1. 1.]\n",
      " [1. 1. 1. 1.]]\n",
      "sqrt(nT4/nT2):  [[0.4 0.4]\n",
      " [0.4 0.4]]\n",
      "nT2/nT1:  [[0.4 0.4]\n",
      " [0.4 0.4]]\n",
      "QRTcoef:  [0.4        0.10358408]\n",
      "nb_iter: 10000\n",
      "nQRT: [[ 0.14989429 -0.02615021  0.03113203 -0.00244337]\n",
      " [-0.02615021  0.15795747  0.04858779  0.00784688]\n",
      " [ 0.03113203  0.04858779  0.22326942  0.00651133]\n",
      " [-0.00244337  0.00784688  0.00651133  0.19905675]]\n",
      "nABC: [[1. 1. 1. 1.]\n",
      " [1. 1. 1. 1.]\n",
      " [1. 1. 1. 1.]\n",
      " [1. 1. 1. 1.]]\n",
      "sqrt(nT4/nT2):  [[0.4 0.4]\n",
      " [0.4 0.4]]\n",
      "nT2/nT1:  [[0.4 0.4]\n",
      " [0.4 0.4]]\n",
      "QRTcoef:  [0.4        0.08930777]\n",
      "nb_iter: 10000\n",
      "\n",
      "nQRT: [[ 0.24819189 -0.03578667  0.01786203 -0.00219789]\n",
      " [-0.03578667  0.27026614  0.03384922 -0.00608241]\n",
      " [ 0.01786203  0.03384922  0.35211289  0.00881113]\n",
      " [-0.00219789 -0.00608241  0.00881113  0.24127138]]\n",
      "nABC: [[1. 1. 1. 1.]\n",
      " [1. 1. 1. 1.]\n",
      " [1. 1. 1. 1.]\n",
      " [1. 1. 1. 1.]]\n",
      "sqrt(nT4/nT2):  [[0.3 0.3]\n",
      " [0.3 0.3]]\n",
      "nT2/nT1:  [[0.3 0.3]\n",
      " [0.3 0.3]]\n",
      "QRTcoef:  [0.3        0.10563387]\n",
      "nb_iter: 10000\n",
      "nQRT: [[ 0.22805512 -0.03820402  0.01201527 -0.00729325]\n",
      " [-0.03820402  0.24989423  0.03061088 -0.00311919]\n",
      " [ 0.01201527  0.03061088  0.2851695   0.00175609]\n",
      " [-0.00729325 -0.00311919  0.00175609  0.22770394]]\n",
      "nABC: [[1. 1. 1. 1.]\n",
      " [1. 1. 1. 1.]\n",
      " [1. 1. 1. 1.]\n",
      " [1. 1. 1. 1.]]\n",
      "sqrt(nT4/nT2):  [[0.3 0.3]\n",
      " [0.3 0.3]]\n",
      "nT2/nT1:  [[0.3 0.3]\n",
      " [0.3 0.3]]\n",
      "QRTcoef:  [0.3        0.08555085]\n",
      "nb_iter: 10000\n",
      "\n",
      "nQRT: [[ 1.93896986e-01 -2.00052062e-02  1.12801439e-02  1.06292391e-03]\n",
      " [-2.00052062e-02  2.10534322e-01  2.68838172e-02 -1.17633340e-04]\n",
      " [ 1.12801439e-02  2.68838172e-02  2.49920082e-01  3.51596638e-03]\n",
      " [ 1.06292391e-03 -1.17633340e-04  3.51596638e-03  2.15419561e-01]]\n",
      "nABC: [[1. 1. 1. 1.]\n",
      " [1. 1. 1. 1.]\n",
      " [1. 1. 1. 1.]\n",
      " [1. 1. 1. 1.]]\n",
      "sqrt(nT4/nT2):  [[0.3 0.3]\n",
      " [0.3 0.3]]\n",
      "nT2/nT1:  [[0.3 0.3]\n",
      " [0.3 0.3]]\n",
      "QRTcoef:  [0.3        0.07497602]\n",
      "nb_iter: 10000\n",
      "nQRT: [[ 0.17453495 -0.03318886  0.00802148  0.00335945]\n",
      " [-0.03318886  0.1742538   0.03396455  0.00098914]\n",
      " [ 0.00802148  0.03396455  0.22832066  0.0208164 ]\n",
      " [ 0.00335945  0.00098914  0.0208164   0.18214535]]\n",
      "nABC: [[1. 1. 1. 1.]\n",
      " [1. 1. 1. 1.]\n",
      " [1. 1. 1. 1.]\n",
      " [1. 1. 1. 1.]]\n",
      "sqrt(nT4/nT2):  [[0.3 0.3]\n",
      " [0.3 0.3]]\n",
      "nT2/nT1:  [[0.3 0.3]\n",
      " [0.3 0.3]]\n",
      "QRTcoef:  [0.3       0.0684962]\n",
      "nb_iter: 10000\n",
      "nQRT: [[ 0.13623778 -0.02439794  0.02183916  0.00069897]\n",
      " [-0.02439794  0.14454264  0.03456869  0.00734719]\n",
      " [ 0.02183916  0.03456869  0.19422016  0.00904513]\n",
      " [ 0.00069897  0.00734719  0.00904513  0.17180963]]\n",
      "nABC: [[1. 1. 1. 1.]\n",
      " [1. 1. 1. 1.]\n",
      " [1. 1. 1. 1.]\n",
      " [1. 1. 1. 1.]]\n",
      "sqrt(nT4/nT2):  [[0.3 0.3]\n",
      " [0.3 0.3]]\n",
      "nT2/nT1:  [[0.3 0.3]\n",
      " [0.3 0.3]]\n",
      "QRTcoef:  [0.3        0.05826605]\n",
      "nb_iter: 10000\n",
      "\n",
      "nQRT: [[ 0.11242072 -0.01961265  0.02334902 -0.00183253]\n",
      " [-0.01961265  0.1184681   0.03644084  0.00588516]\n",
      " [ 0.02334902  0.03644084  0.16745207  0.0048835 ]\n",
      " [-0.00183253  0.00588516  0.0048835   0.14929256]]\n",
      "nABC: [[1. 1. 1. 1.]\n",
      " [1. 1. 1. 1.]\n",
      " [1. 1. 1. 1.]\n",
      " [1. 1. 1. 1.]]\n",
      "sqrt(nT4/nT2):  [[0.3 0.3]\n",
      " [0.3 0.3]]\n",
      "nT2/nT1:  [[0.3 0.3]\n",
      " [0.3 0.3]]\n",
      "QRTcoef:  [0.3        0.05023562]\n",
      "nb_iter: 10000\n",
      "nQRT: [[ 0.16546126 -0.02385778  0.01190802 -0.00146526]\n",
      " [-0.02385778  0.18017743  0.02256614 -0.00405494]\n",
      " [ 0.01190802  0.02256614  0.23474193  0.00587409]\n",
      " [-0.00146526 -0.00405494  0.00587409  0.16084759]]\n",
      "nABC: [[1. 1. 1. 1.]\n",
      " [1. 1. 1. 1.]\n",
      " [1. 1. 1. 1.]\n",
      " [1. 1. 1. 1.]]\n",
      "sqrt(nT4/nT2):  [[0.2 0.2]\n",
      " [0.2 0.2]]\n",
      "nT2/nT1:  [[0.2 0.2]\n",
      " [0.2 0.2]]\n",
      "QRTcoef:  [0.2        0.04694839]\n",
      "nb_iter: 10000\n",
      "nQRT: [[ 0.15203675 -0.02546935  0.00801018 -0.00486217]\n",
      " [-0.02546935  0.16659615  0.02040725 -0.00207946]\n",
      " [ 0.00801018  0.02040725  0.190113    0.00117073]\n",
      " [-0.00486217 -0.00207946  0.00117073  0.15180263]]\n",
      "nABC: [[1. 1. 1. 1.]\n",
      " [1. 1. 1. 1.]\n",
      " [1. 1. 1. 1.]\n",
      " [1. 1. 1. 1.]]\n",
      "sqrt(nT4/nT2):  [[0.2 0.2]\n",
      " [0.2 0.2]]\n",
      "nT2/nT1:  [[0.2 0.2]\n",
      " [0.2 0.2]]\n",
      "QRTcoef:  [0.2       0.0380226]\n",
      "nb_iter: 10000\n",
      "nQRT: [[ 1.29264658e-01 -1.33368042e-02  7.52009596e-03  7.08615939e-04]\n",
      " [-1.33368042e-02  1.40356214e-01  1.79225448e-02 -7.84222264e-05]\n",
      " [ 7.52009596e-03  1.79225448e-02  1.66613388e-01  2.34397758e-03]\n",
      " [ 7.08615939e-04 -7.84222264e-05  2.34397758e-03  1.43613041e-01]]\n",
      "nABC: [[1. 1. 1. 1.]\n",
      " [1. 1. 1. 1.]\n",
      " [1. 1. 1. 1.]\n",
      " [1. 1. 1. 1.]]\n",
      "sqrt(nT4/nT2):  [[0.2 0.2]\n",
      " [0.2 0.2]]\n",
      "nT2/nT1:  [[0.2 0.2]\n",
      " [0.2 0.2]]\n",
      "QRTcoef:  [0.2        0.03332268]\n",
      "nb_iter: 10000\n",
      "215/|/  2%|| 215/10000 [00:21<16:02, 10.17it/s]nQRT: [[ 0.11635663 -0.02212591  0.00534765  0.00223964]\n",
      " [-0.02212591  0.1161692   0.02264304  0.00065943]\n",
      " [ 0.00534765  0.02264304  0.15221377  0.0138776 ]\n",
      " [ 0.00223964  0.00065943  0.0138776   0.12143023]]\n",
      "nABC: [[1. 1. 1. 1.]\n",
      " [1. 1. 1. 1.]\n",
      " [1. 1. 1. 1.]\n",
      " [1. 1. 1. 1.]]\n",
      "sqrt(nT4/nT2):  [[0.2 0.2]\n",
      " [0.2 0.2]]\n",
      "nT2/nT1:  [[0.2 0.2]\n",
      " [0.2 0.2]]\n",
      "QRTcoef:  [0.2        0.03044275]\n",
      "nb_iter: 10000\n",
      "nQRT: [[ 0.09082519 -0.01626529  0.01455944  0.00046598]\n",
      " [-0.01626529  0.09636176  0.02304579  0.00489813]\n",
      " [ 0.01455944  0.02304579  0.12948011  0.00603009]\n",
      " [ 0.00046598  0.00489813  0.00603009  0.11453975]]\n",
      "nABC: [[1. 1. 1. 1.]\n",
      " [1. 1. 1. 1.]\n",
      " [1. 1. 1. 1.]\n",
      " [1. 1. 1. 1.]]\n",
      "sqrt(nT4/nT2):  [[0.2 0.2]\n",
      " [0.2 0.2]]\n",
      "nT2/nT1:  [[0.2 0.2]\n",
      " [0.2 0.2]]\n",
      "QRTcoef:  [0.2        0.02589602]\n",
      "nb_iter: 10000\n",
      "nQRT: [[ 0.07494715 -0.0130751   0.01556601 -0.00122169]\n",
      " [-0.0130751   0.07897873  0.02429389  0.00392344]\n",
      " [ 0.01556601  0.02429389  0.11163471  0.00325567]\n",
      " [-0.00122169  0.00392344  0.00325567  0.09952837]]\n",
      "nABC: [[1. 1. 1. 1.]\n",
      " [1. 1. 1. 1.]\n",
      " [1. 1. 1. 1.]\n",
      " [1. 1. 1. 1.]]\n",
      "sqrt(nT4/nT2):  [[0.2 0.2]\n",
      " [0.2 0.2]]\n",
      "nT2/nT1:  [[0.2 0.2]\n",
      " [0.2 0.2]]\n",
      "QRTcoef:  [0.2        0.02232694]\n",
      "nb_iter: 10000\n",
      "\n",
      "nQRT: [[ 0.08273063 -0.01192889  0.00595401 -0.00073263]\n",
      " [-0.01192889  0.09008871  0.01128307 -0.00202747]\n",
      " [ 0.00595401  0.01128307  0.11737096  0.00293704]\n",
      " [-0.00073263 -0.00202747  0.00293704  0.08042379]]\n",
      "nABC: [[1. 1. 1. 1.]\n",
      " [1. 1. 1. 1.]\n",
      " [1. 1. 1. 1.]\n",
      " [1. 1. 1. 1.]]\n",
      "sqrt(nT4/nT2):  [[0.1 0.1]\n",
      " [0.1 0.1]]\n",
      "nT2/nT1:  [[0.1 0.1]\n",
      " [0.1 0.1]]\n",
      "QRTcoef:  [0.1       0.0117371]\n",
      "nb_iter: 10000\n",
      "\n",
      "nQRT: [[ 0.07601837 -0.01273467  0.00400509 -0.00243108]\n",
      " [-0.01273467  0.08329808  0.01020363 -0.00103973]\n",
      " [ 0.00400509  0.01020363  0.0950565   0.00058536]\n",
      " [-0.00243108 -0.00103973  0.00058536  0.07590131]]\n",
      "nABC: [[1. 1. 1. 1.]\n",
      " [1. 1. 1. 1.]\n",
      " [1. 1. 1. 1.]\n",
      " [1. 1. 1. 1.]]\n",
      "sqrt(nT4/nT2):  [[0.1 0.1]\n",
      " [0.1 0.1]]\n",
      "nT2/nT1:  [[0.1 0.1]\n",
      " [0.1 0.1]]\n",
      "QRTcoef:  [0.1        0.00950565]\n",
      "nb_iter: 10000\n",
      "nQRT: [[ 6.46323288e-02 -6.66840208e-03  3.76004798e-03  3.54307969e-04]\n",
      " [-6.66840208e-03  7.01781072e-02  8.96127242e-03 -3.92111132e-05]\n",
      " [ 3.76004798e-03  8.96127242e-03  8.33066939e-02  1.17198879e-03]\n",
      " [ 3.54307969e-04 -3.92111132e-05  1.17198879e-03  7.18065205e-02]]\n",
      "nABC: [[1. 1. 1. 1.]\n",
      " [1. 1. 1. 1.]\n",
      " [1. 1. 1. 1.]\n",
      " [1. 1. 1. 1.]]\n",
      "sqrt(nT4/nT2):  [[0.1 0.1]\n",
      " [0.1 0.1]]\n",
      "nT2/nT1:  [[0.1 0.1]\n",
      " [0.1 0.1]]\n",
      "QRTcoef:  [0.1        0.00833067]\n",
      "nb_iter: 10000\n",
      "\n",
      "nQRT: [[ 0.05817832 -0.01106295  0.00267383  0.00111982]\n",
      " [-0.01106295  0.0580846   0.01132152  0.00032971]\n",
      " [ 0.00267383  0.01132152  0.07610689  0.0069388 ]\n",
      " [ 0.00111982  0.00032971  0.0069388   0.06071512]]\n",
      "nABC: [[1. 1. 1. 1.]\n",
      " [1. 1. 1. 1.]\n",
      " [1. 1. 1. 1.]\n",
      " [1. 1. 1. 1.]]\n",
      "sqrt(nT4/nT2):  [[0.1 0.1]\n",
      " [0.1 0.1]]\n",
      "nT2/nT1:  [[0.1 0.1]\n",
      " [0.1 0.1]]\n",
      "QRTcoef:  [0.1        0.00761069]\n",
      "nb_iter: 10000\n",
      "\n",
      "nQRT: [[ 0.04541259 -0.00813265  0.00727972  0.00023299]\n",
      " [-0.00813265  0.04818088  0.0115229   0.00244906]\n",
      " [ 0.00727972  0.0115229   0.06474005  0.00301504]\n",
      " [ 0.00023299  0.00244906  0.00301504  0.05726988]]\n",
      "nABC: [[1. 1. 1. 1.]\n",
      " [1. 1. 1. 1.]\n",
      " [1. 1. 1. 1.]\n",
      " [1. 1. 1. 1.]]\n",
      "sqrt(nT4/nT2):  [[0.1 0.1]\n",
      " [0.1 0.1]]\n",
      "nT2/nT1:  [[0.1 0.1]\n",
      " [0.1 0.1]]\n",
      "QRTcoef:  [0.1        0.00647401]\n",
      "nb_iter: 10000\n",
      "nQRT: [[ 0.03747357 -0.00653755  0.00778301 -0.00061084]\n",
      " [-0.00653755  0.03948937  0.01214695  0.00196172]\n",
      " [ 0.00778301  0.01214695  0.05581736  0.00162783]\n",
      " [-0.00061084  0.00196172  0.00162783  0.04976419]]\n",
      "nABC: [[1. 1. 1. 1.]\n",
      " [1. 1. 1. 1.]\n",
      " [1. 1. 1. 1.]\n",
      " [1. 1. 1. 1.]]\n",
      "sqrt(nT4/nT2):  [[0.1 0.1]\n",
      " [0.1 0.1]]\n",
      "nT2/nT1:  [[0.1 0.1]\n",
      " [0.1 0.1]]\n",
      "QRTcoef:  [0.1        0.00558174]\n",
      "nb_iter: 10000\n",
      "\n",
      "715/|/  7%|| 715/10000 [00:20<04:23, 35.24it/s]"
     ]
    }
   ],
   "source": [
    "# 色々な固有値分布でオーパラの数値解をたくさん保存するよ その2 [0, ..., 0, lam, ..., lam] (lamの割合は p)              の，  relu  バージョン\n",
    "# ただし，I4が計算できないため，学習係数は無限小とします．（ignore_etasqをオンにすることに対応．）\n",
    "\n",
    "# 初期値を共通化！ ⇨ 初期値に依存したプラトーの出方とかのばらつきを考えずに比較可能に．\n",
    "# 乱数のタネを一時的に固定して重みを生成するよ\n",
    "N = 100\n",
    "randstate = np.random.get_state()\n",
    "np.random.seed(42)\n",
    "ms = MLP(ls=[N,2,1], nobias=True, act=F.relu, opt=None)\n",
    "mt = MLP(ls=[N,2,1], nobias=True, act=F.relu, opt=None)\n",
    "np.random.set_state(randstate)\n",
    "ms.l[1].W.data = np.array([[1, 1]], dtype=np.float32) \n",
    "mt.l[1].W.data = np.array([[1, 1]], dtype=np.float32) \n",
    "\n",
    "for lam in [1.0, 0.9, 0.8, 0.7, 0.6, 0.5, 0.4, 0.3, 0.2, 0.1]:\n",
    "    for p in [1.0, 0.9, 0.8, 0.7, 0.6, 0.5]:\n",
    "        for i in range(1):\n",
    "            num = int(N * p)\n",
    "            lambdas = np.array([0.0] * (N - num) + [lam] * num)\n",
    "            nb_iter = 10000\n",
    "            eta = 1.0\n",
    "            nrslt = calc_opd(N, nb_iter, lambdas, eta, mdl=ms, mdl_t=mt, goal_loss=1e-10, act='relu', ignore_etasq=[True,True])\n",
    "            \n",
    "            pathname = './SCM_relu_ST_N100_macro_onenonzeroLambda_commonInit/lam={},p={}'.format(lam, p)\n",
    "            os.makedirs(pathname, exist_ok=True)\n",
    "            np.savez(pathname+'/{}.npz'.format(i),\n",
    "                     opL=nrslt['opL'], opQRT=nrslt['opQRT'],\n",
    "                     mdl0=nrslt['mdl0'], mdl_t=nrslt['mdl_t'])\n",
    "            \n",
    "            plot_macro_dynamics(nrslt['opL'], nrslt['opQRT'], N=N)\n",
    "            plt.savefig(pathname+'/{}.png'.format(i))\n",
    "            plt.close()"
   ]
  },
  {
   "cell_type": "code",
   "execution_count": 301,
   "metadata": {
    "collapsed": false
   },
   "outputs": [
    {
     "name": "stdout",
     "output_type": "stream",
     "text": [
      "プラトーに二回以上入っているようです: [38, 178, 535, 536]\n",
      "プラトーに二回以上入っているようです: [36, 188, 585, 586]\n",
      "プラトーに二回以上入っているようです: [43, 110, 850, 851]\n",
      "プラトーに二回以上入っているようです: [41, 144, 909, 910]\n",
      "プラトーに二回以上入っているようです: [19, 89, 330, 331]\n",
      "プラトーに二回以上入っているようです: [10, 37, 258, 259]\n"
     ]
    },
    {
     "data": {
      "image/png": "[encoded data removed]",
      "text/plain": [
       "<matplotlib.figure.Figure at 0x10f415d30>"
      ]
     },
     "metadata": {},
     "output_type": "display_data"
    }
   ],
   "source": [
    "m1_list, sqm4m2_list, h_list, d_list, t_list = [], [], [], [], []\n",
    "pathname = './SCM_relu_ST_N100_macro_onenonzeroLambda_commonInit/'\n",
    "\n",
    "for filename in glob.glob(pathname + '*/*.npz'):\n",
    "    npz = np.load(filename)\n",
    "    lam, p = map(float, re.match('.*lam=(.*),p=(.*)/.*', filename).groups())\n",
    "    # print(npz['opL'].shape) # (1001,) この 1 はミクロでの N(=100) step に相当するので注意．\n",
    "    lossinfo = analyze_loss_curve(npz['opL'])\n",
    "    if lossinfo['converge_time'] < np.inf: # 収束している場合\n",
    "        if len(lossinfo['plateau_time_info']) > 2: # プラトーには高々一度しか入っていないことを確認\n",
    "            print('プラトーに二回以上入っているようです:', lossinfo['plateau_time_info'])\n",
    "        if len(lossinfo['plateau_time_info']) > 0:\n",
    "            plateau_macrostep = lossinfo['plateau_time_info'][1] - lossinfo['plateau_time_info'][0]\n",
    "            plateau_logheight = lossinfo['plateau_logheight_info'][0]\n",
    "        else:\n",
    "            plateau_macrostep = 0\n",
    "            plateau_logheight = np.nan\n",
    "        # (マクロ1ステップは， ミクロNステップ)\n",
    "        m1_list.append(lam * p)\n",
    "        sqm4m2_list.append(lam)\n",
    "        d_list.append(plateau_macrostep)\n",
    "        h_list.append(plateau_logheight)\n",
    "        t_list.append(lossinfo['converge_time'])\n",
    "\n",
    "m1_list = np.array(m1_list)        \n",
    "sqm4m2_list = np.array(sqm4m2_list)        \n",
    "d_list = np.array(d_list)        \n",
    "h_list = np.array(h_list)        \n",
    "t_list = np.array(t_list)        \n",
    "        \n",
    "plt.figure(figsize=(16,4))\n",
    "plt.subplot(131)\n",
    "plt.tricontourf(m1_list, sqm4m2_list, d_list, 20)\n",
    "plt.xlim(0, 1); plt.ylim(0, 1); plt.title('plateau duration (macro steps)');\n",
    "plt.xlabel('$\\\\langle\\\\lambda_i\\\\rangle$'); plt.ylabel('$\\\\sqrt{\\\\langle\\\\lambda_i^4\\\\rangle/\\\\langle\\\\lambda_i^2\\\\rangle}$')\n",
    "ax = plt.gca()\n",
    "plt.colorbar()\n",
    "ax.scatter(m1_list, sqm4m2_list, color='k')\n",
    "plt.subplot(132)\n",
    "valid_idx = np.flatnonzero(h_list == h_list) # nan検出\n",
    "plt.tricontourf(m1_list[valid_idx], sqm4m2_list[valid_idx], h_list[valid_idx], 20) # tricontourf に np.nan 投げると kernelが死ぬのを回避している\n",
    "plt.xlim(0, 1); plt.ylim(0, 1); plt.title('plateau (log)height')\n",
    "plt.xlabel('$\\\\langle\\\\lambda_i\\\\rangle$'); plt.ylabel('$\\\\sqrt{\\\\langle\\\\lambda_i^4\\\\rangle/\\\\langle\\\\lambda_i^2\\\\rangle}$')\n",
    "ax = plt.gca()\n",
    "plt.colorbar()\n",
    "ax.scatter(m1_list, sqm4m2_list, color='k')\n",
    "plt.subplot(133)\n",
    "plt.tricontourf(m1_list, sqm4m2_list, t_list, 20)\n",
    "plt.xlim(0, 1); plt.ylim(0, 1); plt.title('convergence time (macro steps)');\n",
    "plt.xlabel('$\\\\langle\\\\lambda_i\\\\rangle$'); plt.ylabel('$\\\\sqrt{\\\\langle\\\\lambda_i^4\\\\rangle/\\\\langle\\\\lambda_i^2\\\\rangle}$')\n",
    "ax = plt.gca()\n",
    "plt.colorbar()\n",
    "ax.scatter(m1_list, sqm4m2_list, color='k')\n",
    "plt.show()"
   ]
  },
  {
   "cell_type": "code",
   "execution_count": 302,
   "metadata": {
    "collapsed": false
   },
   "outputs": [
    {
     "name": "stdout",
     "output_type": "stream",
     "text": [
      "プラトーに二回以上入っているようです: [41, 144, 909, 910]\n",
      "プラトーに二回以上入っているようです: [10, 37, 258, 259]\n"
     ]
    },
    {
     "data": {
      "image/png": "[encoded data removed]",
      "text/plain": [
       "<matplotlib.figure.Figure at 0x11037b390>"
      ]
     },
     "metadata": {},
     "output_type": "display_data"
    }
   ],
   "source": [
    "# 上図の対角線部分は p=1 部分，すなわち [lam, ..., lam] の固有値分布の部分なんだけど，\n",
    "# その部分の結果だけをグラフにしてみるよ\n",
    "m1_list, sqm4m2_list, h_list, d_list, t_list = [], [], [], [], []\n",
    "pathname = './SCM_relu_ST_N100_macro_onenonzeroLambda_commonInit/'\n",
    "\n",
    "for filename in glob.glob(pathname + '*/*.npz'):\n",
    "    npz = np.load(filename)\n",
    "    lam, p = map(float, re.match('.*lam=(.*),p=(.*)/.*', filename).groups())\n",
    "    if p == 1:\n",
    "        lossinfo = analyze_loss_curve(npz['opL'])\n",
    "        if lossinfo['converge_time'] < np.inf: # 収束している場合\n",
    "            if len(lossinfo['plateau_time_info']) > 2: # プラトーには高々一度しか入っていないことを確認\n",
    "                print('プラトーに二回以上入っているようです:', lossinfo['plateau_time_info'])\n",
    "            if len(lossinfo['plateau_time_info']) > 0:\n",
    "                plateau_macrostep = lossinfo['plateau_time_info'][1] - lossinfo['plateau_time_info'][0]\n",
    "                plateau_logheight = lossinfo['plateau_logheight_info'][0]\n",
    "            else:\n",
    "                plateau_macrostep = 0\n",
    "                plateau_logheight = np.nan\n",
    "            # (マクロ1ステップは， ミクロNステップ)\n",
    "            m1_list.append(lam * p)\n",
    "            sqm4m2_list.append(lam)\n",
    "            d_list.append(plateau_macrostep)\n",
    "            h_list.append(plateau_logheight)\n",
    "            t_list.append(lossinfo['converge_time'])\n",
    "\n",
    "plt.figure(figsize=(16,4))\n",
    "plt.subplot(131)\n",
    "plt.plot(m1_list, d_list, linestyle='', marker='.', markersize=12)\n",
    "plt.title('plateau duration');\n",
    "plt.xlim(0, 1); plt.ylim(0, None)\n",
    "plt.xlabel('$\\\\langle\\\\lambda_i\\\\rangle$'); plt.ylabel('macro steps')\n",
    "plt.subplot(132)\n",
    "plt.plot(m1_list, np.exp(h_list), linestyle='', marker='.', markersize=12)\n",
    "plt.yscale('log')\n",
    "plt.xlim(0, 1)\n",
    "plt.title('plateau height')\n",
    "plt.xlabel('$\\\\langle\\\\lambda_i\\\\rangle$'); plt.ylabel('loss')\n",
    "plt.subplot(133)\n",
    "plt.plot(m1_list, t_list, linestyle='', marker='.', markersize=12)\n",
    "plt.title('convergence time');\n",
    "plt.xlim(0, 1); plt.ylim(0, None)\n",
    "plt.xlabel('$\\\\langle\\\\lambda_i\\\\rangle$'); plt.ylabel('macro steps')\n",
    "plt.show()"
   ]
  },
  {
   "cell_type": "code",
   "execution_count": 303,
   "metadata": {
    "collapsed": false
   },
   "outputs": [
    {
     "data": {
      "image/png": "[encoded data removed]",
      "text/plain": [
       "<matplotlib.figure.Figure at 0x10f493eb8>"
      ]
     },
     "metadata": {},
     "output_type": "display_data"
    }
   ],
   "source": [
    "# 生の学習曲線も見ておこう \n",
    "pathname = './SCM_relu_ST_N100_macro_onenonzeroLambda_commonInit/'\n",
    "\n",
    "for filename in glob.glob(pathname + '*/*.npz'):\n",
    "    npz = np.load(filename)\n",
    "    lam, p = map(float, re.match('.*lam=(.*),p=(.*)/.*', filename).groups())\n",
    "    if p == 1:\n",
    "        opL = npz['opL']\n",
    "        if opL[-1] != opL[-1] or opL[-1] == np.inf or opL[-1] == -np.inf:\n",
    "            print('!!', filename, ':diverged')\n",
    "            continue\n",
    "        plt.plot(np.arange(len(opL)), opL)\n",
    "plt.yscale('log')\n",
    "plt.xscale('log')\n",
    "plt.show()"
   ]
  },
  {
   "cell_type": "code",
   "execution_count": null,
   "metadata": {
    "collapsed": true
   },
   "outputs": [],
   "source": []
  }
 ],
 "metadata": {
  "anaconda-cloud": {},
  "kernelspec": {
   "display_name": "Python [default]",
   "language": "python",
   "name": "python3"
  },
  "language_info": {
   "codemirror_mode": {
    "name": "ipython",
    "version": 3
   },
   "file_extension": ".py",
   "mimetype": "text/x-python",
   "name": "python",
   "nbconvert_exporter": "python",
   "pygments_lexer": "ipython3",
   "version": "3.5.2"
  },
  "widgets": {
   "state": {
    "00e2f8d93d714b4cadd1be912ec1a710": {
     "views": [
      {
       "cell_index": 58
      }
     ]
    },
    "04ac3b1c56884893a63d1668e5664156": {
     "views": [
      {
       "cell_index": 16
      }
     ]
    },
    "05826c49dfcb4f34b7cb98200efcc1b1": {
     "views": [
      {
       "cell_index": 54
      }
     ]
    },
    "05c0611e43664ed9a959eac724fa3fff": {
     "views": [
      {
       "cell_index": 58
      }
     ]
    },
    "12990bd3b545457291f6f4cb05ed3b3f": {
     "views": [
      {
       "cell_index": 55
      }
     ]
    },
    "16a94d86d37a4bb2849db3002e5cbd5c": {
     "views": [
      {
       "cell_index": 52
      }
     ]
    },
    "1a98e2cb622541d792bec001196fba02": {
     "views": [
      {
       "cell_index": 54
      }
     ]
    },
    "1bdffec48ab642ed961889845e2fe341": {
     "views": [
      {
       "cell_index": 55
      }
     ]
    },
    "1efa02b7a890449b8c35b9e91b558cbb": {
     "views": [
      {
       "cell_index": 58
      }
     ]
    },
    "200d37bb465d40ebb388ada1ed4c10e7": {
     "views": [
      {
       "cell_index": 52
      }
     ]
    },
    "280823045350495d8025da0c82ce27ae": {
     "views": [
      {
       "cell_index": 52
      }
     ]
    },
    "32fb6285dd474e55b5edd55a8019e227": {
     "views": [
      {
       "cell_index": 52
      }
     ]
    },
    "33b9894269154df6ac81d4b7d8b47a12": {
     "views": [
      {
       "cell_index": 52
      }
     ]
    },
    "34cadc21738243f4b2abeb7e476414d6": {
     "views": [
      {
       "cell_index": 55
      }
     ]
    },
    "35067d62175549deb78a2f65221759f2": {
     "views": [
      {
       "cell_index": 58
      }
     ]
    },
    "3601448d0d374a149ef3fac28c0e46bd": {
     "views": [
      {
       "cell_index": 58
      }
     ]
    },
    "40d60e7e648441b098e45cd262868cf4": {
     "views": [
      {
       "cell_index": 54
      }
     ]
    },
    "41c0f9ba48ae4c709beaa093e053b0a3": {
     "views": [
      {
       "cell_index": 58
      }
     ]
    },
    "43dadcc6d8a94adcb6cad356285bcbe3": {
     "views": [
      {
       "cell_index": 52
      }
     ]
    },
    "478c154a369e4c95ad34ac329701b84d": {
     "views": [
      {
       "cell_index": 58
      }
     ]
    },
    "4890ac31bb5944b9bccd7e36338f2651": {
     "views": [
      {
       "cell_index": 55
      }
     ]
    },
    "5703ae3e7dea438e858ffc90ac7ea829": {
     "views": [
      {
       "cell_index": 52
      }
     ]
    },
    "585b5080a1034c11bd6f26841c49e520": {
     "views": [
      {
       "cell_index": 52
      }
     ]
    },
    "58e4b9bafc684f7abe2b0ac00a456ab3": {
     "views": [
      {
       "cell_index": 58
      }
     ]
    },
    "5d4b01f9ad7c4994ab68a6c84c81e829": {
     "views": [
      {
       "cell_index": 58
      }
     ]
    },
    "609b55a5ce724a18a14bab3bac1a8d41": {
     "views": [
      {
       "cell_index": 58
      }
     ]
    },
    "64a903e5470e444aa98f3fa336322356": {
     "views": [
      {
       "cell_index": 55
      }
     ]
    },
    "654ba47899ab4963a260a245d1e61539": {
     "views": [
      {
       "cell_index": 58
      }
     ]
    },
    "6883f6a69910418c8e57c921e2b95759": {
     "views": [
      {
       "cell_index": 55
      }
     ]
    },
    "6cda4f85379f40af81a54181a32e48f6": {
     "views": [
      {
       "cell_index": 58
      }
     ]
    },
    "6eaf6b693983462e97b3ba3f1f3f8411": {
     "views": [
      {
       "cell_index": 58
      }
     ]
    },
    "729b4bb131284f87b79a7129653d86d4": {
     "views": [
      {
       "cell_index": 52
      }
     ]
    },
    "72a8f619c94848ffad1e740b295ea3da": {
     "views": [
      {
       "cell_index": 52
      }
     ]
    },
    "758e4ac04b8644f19285f73e25882233": {
     "views": [
      {
       "cell_index": 58
      }
     ]
    },
    "7ddac1a6b25f4348ac6505358c3afd64": {
     "views": [
      {
       "cell_index": 58
      }
     ]
    },
    "821d69ac64da4ecbbc5c35967dcb0251": {
     "views": [
      {
       "cell_index": 52
      }
     ]
    },
    "82bf52fadec54249814efa7fbacb6da0": {
     "views": [
      {
       "cell_index": 55
      }
     ]
    },
    "8392b02618d6490885221abf6256e4d1": {
     "views": [
      {
       "cell_index": 58
      }
     ]
    },
    "853c83cdfa7042b5893292a47f1f849e": {
     "views": [
      {
       "cell_index": 55
      }
     ]
    },
    "870703776e7f4edca7f59ecd52d9e1e7": {
     "views": [
      {
       "cell_index": 58
      }
     ]
    },
    "8933c6a1b3324e658f11877f97d49c9e": {
     "views": [
      {
       "cell_index": 54
      }
     ]
    },
    "898eda97e4a4494f806a5e3f429e02c6": {
     "views": [
      {
       "cell_index": 55
      }
     ]
    },
    "8f5e5eca11444a22a6b40fc8a42d1bf2": {
     "views": [
      {
       "cell_index": 54
      }
     ]
    },
    "908a9868d9794b6bb4430cc19fe463fd": {
     "views": [
      {
       "cell_index": 58
      }
     ]
    },
    "990faa042a4c49e5bb9acb7ff02f4b21": {
     "views": [
      {
       "cell_index": 52
      }
     ]
    },
    "a1768412a15c4bd2a2ddc317f43eb0b2": {
     "views": [
      {
       "cell_index": 52
      }
     ]
    },
    "a483c02313f44aa893a793a4a9ee3de9": {
     "views": [
      {
       "cell_index": 58
      }
     ]
    },
    "a91ffa2550f74522b2a5de42e9bcfe3e": {
     "views": [
      {
       "cell_index": 54
      }
     ]
    },
    "aad697831fa94a2abd3f12f6388699c1": {
     "views": [
      {
       "cell_index": 58
      }
     ]
    },
    "b1dca551a5384a9cb2db3ba0d8561c6a": {
     "views": [
      {
       "cell_index": 58
      }
     ]
    },
    "b6d76df09d8d45a48b4f2a7144ceb99c": {
     "views": [
      {
       "cell_index": 58
      }
     ]
    },
    "ba386d97222d41c2becb3b278a5a7217": {
     "views": [
      {
       "cell_index": 58
      }
     ]
    },
    "babf2bebc3944202b951e77bf47ee070": {
     "views": [
      {
       "cell_index": 58
      }
     ]
    },
    "c198c9039ad54c629e56b1d7c2b9cf11": {
     "views": [
      {
       "cell_index": 58
      }
     ]
    },
    "c4a6927957a44734a77d315597179ce3": {
     "views": [
      {
       "cell_index": 58
      }
     ]
    },
    "c71b4b0e65a64689a2c78a15519ba625": {
     "views": [
      {
       "cell_index": 58
      }
     ]
    },
    "c9b42ed30da94cfa9f326b0e5eec5ecc": {
     "views": [
      {
       "cell_index": 58
      }
     ]
    },
    "d2f6528a8672497092b105b929dc9579": {
     "views": [
      {
       "cell_index": 30
      }
     ]
    },
    "d5dfa523ad234fc4ab3cd9fce5b566ef": {
     "views": [
      {
       "cell_index": 32
      }
     ]
    },
    "d70c26ebfb7f4e5a84bb2d932a8c0178": {
     "views": [
      {
       "cell_index": 52
      }
     ]
    },
    "df6776e0d40c434e9a27eb18b4b1a022": {
     "views": [
      {
       "cell_index": 52
      }
     ]
    },
    "e6873e7697c54c01a07550eeba840545": {
     "views": [
      {
       "cell_index": 58
      }
     ]
    },
    "f556d5e58df9496f800ef2220ff98a3f": {
     "views": [
      {
       "cell_index": 58
      }
     ]
    },
    "fd58f02830e349679683e96504cd2bb0": {
     "views": [
      {
       "cell_index": 52
      }
     ]
    }
   },
   "version": "1.2.0"
  }
 },
 "nbformat": 4,
 "nbformat_minor": 2
}
